{
 "cells": [
  {
   "cell_type": "code",
   "execution_count": null,
   "metadata": {},
   "outputs": [],
   "source": [
    "pip install \"unstructured[weaviate]\""
   ]
  },
  {
   "cell_type": "code",
   "execution_count": null,
   "metadata": {},
   "outputs": [],
   "source": [
    "from unstructured.ingest.connector.local import SimpleLocalConfig\n",
    "from unstructured.ingest.connector.weaviate import (\n",
    "    SimpleWeaviateConfig,\n",
    "    WeaviateAccessConfig,\n",
    "    WeaviateWriteConfig,\n",
    ")\n",
    "from unstructured.ingest.interfaces import (\n",
    "    ChunkingConfig,\n",
    "    EmbeddingConfig,\n",
    "    PartitionConfig,\n",
    "    ProcessorConfig,\n",
    "    ReadConfig,\n",
    ")\n",
    "from unstructured.ingest.runner import LocalRunner\n",
    "from unstructured.ingest.runner.writers.base_writer import Writer\n",
    "from unstructured.ingest.runner.writers.weaviate import (\n",
    "    WeaviateWriter,\n",
    ")\n",
    "\n",
    "\n",
    "def get_writer() -> Writer:\n",
    "    return WeaviateWriter(\n",
    "        connector_config=SimpleWeaviateConfig(\n",
    "            access_config=WeaviateAccessConfig(),\n",
    "            host_url=\"http://localhost:8080\",\n",
    "            class_name=\"elements\",\n",
    "        ),\n",
    "        write_config=WeaviateWriteConfig(),\n",
    "    )\n",
    "\n",
    "\n",
    "if __name__ == \"__main__\":\n",
    "    writer = get_writer()\n",
    "    runner = LocalRunner(\n",
    "        processor_config=ProcessorConfig(\n",
    "            verbose=True,\n",
    "            output_dir=\"../docs\",\n",
    "            num_processes=2,\n",
    "        ),\n",
    "        connector_config=SimpleLocalConfig(\n",
    "            input_path=\"../docs/Player_s Handbook.pdf\",\n",
    "        ),\n",
    "        read_config=ReadConfig(),\n",
    "        partition_config=PartitionConfig(),\n",
    "        chunking_config=ChunkingConfig(chunk_elements=True),\n",
    "        embedding_config=EmbeddingConfig(\n",
    "            provider=\"langchain-huggingface\",\n",
    "        ),\n",
    "        writer=writer,\n",
    "        writer_kwargs={},\n",
    "    )\n",
    "    runner.run()"
   ]
  }
 ],
 "metadata": {
  "kernelspec": {
   "display_name": "venv",
   "language": "python",
   "name": "python3"
  },
  "language_info": {
   "codemirror_mode": {
    "name": "ipython",
    "version": 3
   },
   "file_extension": ".py",
   "mimetype": "text/x-python",
   "name": "python",
   "nbconvert_exporter": "python",
   "pygments_lexer": "ipython3",
   "version": "3.10.12"
  }
 },
 "nbformat": 4,
 "nbformat_minor": 2
}
