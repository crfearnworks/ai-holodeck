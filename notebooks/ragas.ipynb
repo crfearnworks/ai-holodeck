{
 "cells": [
  {
   "cell_type": "code",
   "execution_count": null,
   "metadata": {},
   "outputs": [],
   "source": [
    "!pip install -r ../requirements.in"
   ]
  },
  {
   "cell_type": "code",
   "execution_count": null,
   "metadata": {},
   "outputs": [],
   "source": [
    "!pip install ragas"
   ]
  },
  {
   "cell_type": "markdown",
   "metadata": {},
   "source": [
    "First, we'll try using langchain and OpenAI so we can learn"
   ]
  },
  {
   "cell_type": "code",
   "execution_count": 7,
   "metadata": {},
   "outputs": [],
   "source": [
    "import os\n",
    "from dotenv import load_dotenv\n",
    "from loguru import logger\n",
    "from pathlib import Path\n",
    "\n",
    "load_dotenv(dotenv_path=\".env\", verbose=True, override=True)\n",
    "\n",
    "OPENAI_API_KEY = os.getenv('OPENAI_API_KEY')\n"
   ]
  },
  {
   "cell_type": "code",
   "execution_count": 10,
   "metadata": {},
   "outputs": [
    {
     "name": "stderr",
     "output_type": "stream",
     "text": [
      "Data-loss while decompressing corrupted data\n",
      "This function will be deprecated in a future release and `unstructured` will simply use the DEFAULT_MODEL from `unstructured_inference.model.base` to set default model name\n",
      "Data-loss while decompressing corrupted data\n",
      "Some weights of the model checkpoint at microsoft/table-transformer-structure-recognition were not used when initializing TableTransformerForObjectDetection: ['model.backbone.conv_encoder.model.layer2.0.downsample.1.num_batches_tracked', 'model.backbone.conv_encoder.model.layer3.0.downsample.1.num_batches_tracked', 'model.backbone.conv_encoder.model.layer4.0.downsample.1.num_batches_tracked']\n",
      "- This IS expected if you are initializing TableTransformerForObjectDetection from the checkpoint of a model trained on another task or with another architecture (e.g. initializing a BertForSequenceClassification model from a BertForPreTraining model).\n",
      "- This IS NOT expected if you are initializing TableTransformerForObjectDetection from the checkpoint of a model that you expect to be exactly identical (initializing a BertForSequenceClassification model from a BertForSequenceClassification model).\n"
     ]
    }
   ],
   "source": [
    "from langchain_community.document_loaders import DirectoryLoader\n",
    "\n",
    "loader = DirectoryLoader(\"../embed_docs/\")\n",
    "documents = loader.load()\n",
    "\n",
    "for document in documents:\n",
    "    document.metadata['filename'] = document.metadata['source']"
   ]
  },
  {
   "cell_type": "code",
   "execution_count": 12,
   "metadata": {},
   "outputs": [
    {
     "data": {
      "application/vnd.jupyter.widget-view+json": {
       "model_id": "9fe1cbac8b454da5bd44e858883ca1b2",
       "version_major": 2,
       "version_minor": 0
      },
      "text/plain": [
       "embedding nodes:   0%|          | 0/986 [00:00<?, ?it/s]"
      ]
     },
     "metadata": {},
     "output_type": "display_data"
    },
    {
     "data": {
      "application/vnd.jupyter.widget-view+json": {
       "model_id": "e4e12cdfce6e470888c3512d529c58c5",
       "version_major": 2,
       "version_minor": 0
      },
      "text/plain": [
       "Generating:   0%|          | 0/10 [00:00<?, ?it/s]"
      ]
     },
     "metadata": {},
     "output_type": "display_data"
    }
   ],
   "source": [
    "from ragas.testset.generator import TestsetGenerator\n",
    "from ragas.testset.evolutions import simple, reasoning, multi_context\n",
    "from langchain_openai import ChatOpenAI, OpenAIEmbeddings\n",
    "\n",
    "# generator with openai models\n",
    "generator_llm = ChatOpenAI(model=\"gpt-3.5-turbo-16k\")\n",
    "critic_llm = ChatOpenAI(model=\"gpt-4\")\n",
    "embeddings = OpenAIEmbeddings()\n",
    "\n",
    "generator = TestsetGenerator.from_langchain(\n",
    "    generator_llm,\n",
    "    critic_llm,\n",
    "    embeddings\n",
    ")\n",
    "\n",
    "# generate testset\n",
    "testset = generator.generate_with_langchain_docs(documents, test_size=10, distributions={simple: 0.5, reasoning: 0.25, multi_context: 0.25})"
   ]
  },
  {
   "cell_type": "code",
   "execution_count": 22,
   "metadata": {},
   "outputs": [
    {
     "data": {
      "text/html": [
       "<div>\n",
       "<style scoped>\n",
       "    .dataframe tbody tr th:only-of-type {\n",
       "        vertical-align: middle;\n",
       "    }\n",
       "\n",
       "    .dataframe tbody tr th {\n",
       "        vertical-align: top;\n",
       "    }\n",
       "\n",
       "    .dataframe thead th {\n",
       "        text-align: right;\n",
       "    }\n",
       "</style>\n",
       "<table border=\"1\" class=\"dataframe\">\n",
       "  <thead>\n",
       "    <tr style=\"text-align: right;\">\n",
       "      <th></th>\n",
       "      <th>question</th>\n",
       "      <th>contexts</th>\n",
       "      <th>ground_truth</th>\n",
       "      <th>evolution_type</th>\n",
       "      <th>metadata</th>\n",
       "      <th>episode_done</th>\n",
       "    </tr>\n",
       "  </thead>\n",
       "  <tbody>\n",
       "    <tr>\n",
       "      <th>0</th>\n",
       "      <td>What are the effects of the spell \"Obscuring M...</td>\n",
       "      <td>[ after completing the spell, if you wish. Tre...</td>\n",
       "      <td>The spell creates a misty vapor that obscures ...</td>\n",
       "      <td>simple</td>\n",
       "      <td>[{'source': '../embed_docs/Player_s Handbook.p...</td>\n",
       "      <td>True</td>\n",
       "    </tr>\n",
       "    <tr>\n",
       "      <th>1</th>\n",
       "      <td>What is the purpose of an untrained Heal check...</td>\n",
       "      <td>[, but if she misses by 5 or more, she falls (...</td>\n",
       "      <td>The purpose of an untrained Heal check is to m...</td>\n",
       "      <td>simple</td>\n",
       "      <td>[{'source': '../embed_docs/Player_s Handbook.p...</td>\n",
       "      <td>True</td>\n",
       "    </tr>\n",
       "    <tr>\n",
       "      <th>2</th>\n",
       "      <td>What are the consequences of delaying in terms...</td>\n",
       "      <td>[      :     159 \\n\\n159\\n\\n   :  8 R E T P A ...</td>\n",
       "      <td>Your initiative result becomes the count on wh...</td>\n",
       "      <td>simple</td>\n",
       "      <td>[{'source': '../embed_docs/Player_s Handbook.p...</td>\n",
       "      <td>True</td>\n",
       "    </tr>\n",
       "    <tr>\n",
       "      <th>3</th>\n",
       "      <td>What are the advantages and disadvantages of b...</td>\n",
       "      <td>[ Strength: Like dwarves, gnomes are tough, bu...</td>\n",
       "      <td>As a Small creature, a gnome gains a +1 size b...</td>\n",
       "      <td>simple</td>\n",
       "      <td>[{'source': '../embed_docs/Player_s Handbook.p...</td>\n",
       "      <td>True</td>\n",
       "    </tr>\n",
       "    <tr>\n",
       "      <th>4</th>\n",
       "      <td>What motivates sorcerers to go on adventures a...</td>\n",
       "      <td>[ either an unsubstantiated boast on the part ...</td>\n",
       "      <td>The typical sorcerer adventures in order to im...</td>\n",
       "      <td>simple</td>\n",
       "      <td>[{'source': '../embed_docs/Player_s Handbook.p...</td>\n",
       "      <td>True</td>\n",
       "    </tr>\n",
       "    <tr>\n",
       "      <th>5</th>\n",
       "      <td>What are the details of the Order's Wrath spell?</td>\n",
       "      <td>[ after completing the spell, if you wish. Tre...</td>\n",
       "      <td>Order’s Wrath is an evocation spell of the Law...</td>\n",
       "      <td>reasoning</td>\n",
       "      <td>[{'source': '../embed_docs/Player_s Handbook.p...</td>\n",
       "      <td>True</td>\n",
       "    </tr>\n",
       "    <tr>\n",
       "      <th>6</th>\n",
       "      <td>How do conditions and modifiers impact skill c...</td>\n",
       "      <td>[ who is trained in them. If you don’t have Sp...</td>\n",
       "      <td>Conditions and modifiers can impact skill chec...</td>\n",
       "      <td>reasoning</td>\n",
       "      <td>[{'source': '../embed_docs/Player_s Handbook.p...</td>\n",
       "      <td>True</td>\n",
       "    </tr>\n",
       "    <tr>\n",
       "      <th>7</th>\n",
       "      <td>What are the effects of reading the text with ...</td>\n",
       "      <td>[ tation is made, you cannot change it.\\n\\nA c...</td>\n",
       "      <td>nan</td>\n",
       "      <td>multi_context</td>\n",
       "      <td>[{'source': '../embed_docs/Player_s Handbook.p...</td>\n",
       "      <td>True</td>\n",
       "    </tr>\n",
       "    <tr>\n",
       "      <th>8</th>\n",
       "      <td>What does DC represent in skill checks and how...</td>\n",
       "      <td>[ who is trained in them. If you don’t have Sp...</td>\n",
       "      <td>DC represents the Difficulty Class in skill ch...</td>\n",
       "      <td>multi_context</td>\n",
       "      <td>[{'source': '../embed_docs/Player_s Handbook.p...</td>\n",
       "      <td>True</td>\n",
       "    </tr>\n",
       "    <tr>\n",
       "      <th>9</th>\n",
       "      <td>What is the purpose of flexible chainmail in a...</td>\n",
       "      <td>[ made of narrow vertical strips of metal rive...</td>\n",
       "      <td>Flexible chainmail in armor serves the purpose...</td>\n",
       "      <td>reasoning</td>\n",
       "      <td>[{'source': '../embed_docs/Player_s Handbook.p...</td>\n",
       "      <td>True</td>\n",
       "    </tr>\n",
       "  </tbody>\n",
       "</table>\n",
       "</div>"
      ],
      "text/plain": [
       "                                            question  \\\n",
       "0  What are the effects of the spell \"Obscuring M...   \n",
       "1  What is the purpose of an untrained Heal check...   \n",
       "2  What are the consequences of delaying in terms...   \n",
       "3  What are the advantages and disadvantages of b...   \n",
       "4  What motivates sorcerers to go on adventures a...   \n",
       "5   What are the details of the Order's Wrath spell?   \n",
       "6  How do conditions and modifiers impact skill c...   \n",
       "7  What are the effects of reading the text with ...   \n",
       "8  What does DC represent in skill checks and how...   \n",
       "9  What is the purpose of flexible chainmail in a...   \n",
       "\n",
       "                                            contexts  \\\n",
       "0  [ after completing the spell, if you wish. Tre...   \n",
       "1  [, but if she misses by 5 or more, she falls (...   \n",
       "2  [      :     159 \\n\\n159\\n\\n   :  8 R E T P A ...   \n",
       "3  [ Strength: Like dwarves, gnomes are tough, bu...   \n",
       "4  [ either an unsubstantiated boast on the part ...   \n",
       "5  [ after completing the spell, if you wish. Tre...   \n",
       "6  [ who is trained in them. If you don’t have Sp...   \n",
       "7  [ tation is made, you cannot change it.\\n\\nA c...   \n",
       "8  [ who is trained in them. If you don’t have Sp...   \n",
       "9  [ made of narrow vertical strips of metal rive...   \n",
       "\n",
       "                                        ground_truth evolution_type  \\\n",
       "0  The spell creates a misty vapor that obscures ...         simple   \n",
       "1  The purpose of an untrained Heal check is to m...         simple   \n",
       "2  Your initiative result becomes the count on wh...         simple   \n",
       "3  As a Small creature, a gnome gains a +1 size b...         simple   \n",
       "4  The typical sorcerer adventures in order to im...         simple   \n",
       "5  Order’s Wrath is an evocation spell of the Law...      reasoning   \n",
       "6  Conditions and modifiers can impact skill chec...      reasoning   \n",
       "7                                                nan  multi_context   \n",
       "8  DC represents the Difficulty Class in skill ch...  multi_context   \n",
       "9  Flexible chainmail in armor serves the purpose...      reasoning   \n",
       "\n",
       "                                            metadata  episode_done  \n",
       "0  [{'source': '../embed_docs/Player_s Handbook.p...          True  \n",
       "1  [{'source': '../embed_docs/Player_s Handbook.p...          True  \n",
       "2  [{'source': '../embed_docs/Player_s Handbook.p...          True  \n",
       "3  [{'source': '../embed_docs/Player_s Handbook.p...          True  \n",
       "4  [{'source': '../embed_docs/Player_s Handbook.p...          True  \n",
       "5  [{'source': '../embed_docs/Player_s Handbook.p...          True  \n",
       "6  [{'source': '../embed_docs/Player_s Handbook.p...          True  \n",
       "7  [{'source': '../embed_docs/Player_s Handbook.p...          True  \n",
       "8  [{'source': '../embed_docs/Player_s Handbook.p...          True  \n",
       "9  [{'source': '../embed_docs/Player_s Handbook.p...          True  "
      ]
     },
     "execution_count": 22,
     "metadata": {},
     "output_type": "execute_result"
    }
   ],
   "source": [
    "testset_pd = testset.to_pandas()\n",
    "\n",
    "testset_pd"
   ]
  },
  {
   "cell_type": "code",
   "execution_count": null,
   "metadata": {},
   "outputs": [],
   "source": [
    "def df_pprint(df: pd.DataFrame):\n",
    "  display(HTML(df.to_html().replace(\"\\\\n\", \"<br>\")))"
   ]
  },
  {
   "cell_type": "code",
   "execution_count": null,
   "metadata": {},
   "outputs": [],
   "source": [
    "from langchain.evaluation.qa import QAEvalChain\n",
    "\n",
    "testset_qa = QAEvalChain."
   ]
  },
  {
   "cell_type": "code",
   "execution_count": null,
   "metadata": {},
   "outputs": [],
   "source": [
    "from ragas.metrics import (\n",
    "    answer_relevancy,\n",
    "    faithfulness,\n",
    "    context_recall,\n",
    "    context_precision,\n",
    ")\n",
    "from ragas import evaluate\n",
    "\n",
    "result = evaluate(\n",
    "    testset_qa,\n",
    "    metrics=[\n",
    "        context_precision,\n",
    "        faithfulness,\n",
    "        answer_relevancy,\n",
    "        context_recall,\n",
    "    ],\n",
    ")\n",
    "\n",
    "result"
   ]
  }
 ],
 "metadata": {
  "kernelspec": {
   "display_name": "Python 3",
   "language": "python",
   "name": "python3"
  },
  "language_info": {
   "codemirror_mode": {
    "name": "ipython",
    "version": 3
   },
   "file_extension": ".py",
   "mimetype": "text/x-python",
   "name": "python",
   "nbconvert_exporter": "python",
   "pygments_lexer": "ipython3",
   "version": "3.10.12"
  }
 },
 "nbformat": 4,
 "nbformat_minor": 2
}
