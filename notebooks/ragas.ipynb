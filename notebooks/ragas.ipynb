{
 "cells": [
  {
   "cell_type": "code",
   "execution_count": null,
   "metadata": {},
   "outputs": [],
   "source": [
    "!pip install -r ../requirements.in"
   ]
  },
  {
   "cell_type": "code",
   "execution_count": null,
   "metadata": {},
   "outputs": [],
   "source": [
    "!pip install ragas"
   ]
  },
  {
   "cell_type": "markdown",
   "metadata": {},
   "source": [
    "First, we'll try using langchain and OpenAI so we can learn"
   ]
  },
  {
   "cell_type": "code",
   "execution_count": 7,
   "metadata": {},
   "outputs": [],
   "source": [
    "import os\n",
    "from dotenv import load_dotenv\n",
    "from loguru import logger\n",
    "from pathlib import Path\n",
    "\n",
    "load_dotenv(dotenv_path=\".env\", verbose=True, override=True)\n",
    "\n",
    "OPENAI_API_KEY = os.getenv('OPENAI_API_KEY')\n"
   ]
  },
  {
   "cell_type": "code",
   "execution_count": 10,
   "metadata": {},
   "outputs": [
    {
     "name": "stderr",
     "output_type": "stream",
     "text": [
      "Data-loss while decompressing corrupted data\n",
      "This function will be deprecated in a future release and `unstructured` will simply use the DEFAULT_MODEL from `unstructured_inference.model.base` to set default model name\n",
      "Data-loss while decompressing corrupted data\n",
      "Some weights of the model checkpoint at microsoft/table-transformer-structure-recognition were not used when initializing TableTransformerForObjectDetection: ['model.backbone.conv_encoder.model.layer2.0.downsample.1.num_batches_tracked', 'model.backbone.conv_encoder.model.layer3.0.downsample.1.num_batches_tracked', 'model.backbone.conv_encoder.model.layer4.0.downsample.1.num_batches_tracked']\n",
      "- This IS expected if you are initializing TableTransformerForObjectDetection from the checkpoint of a model trained on another task or with another architecture (e.g. initializing a BertForSequenceClassification model from a BertForPreTraining model).\n",
      "- This IS NOT expected if you are initializing TableTransformerForObjectDetection from the checkpoint of a model that you expect to be exactly identical (initializing a BertForSequenceClassification model from a BertForSequenceClassification model).\n"
     ]
    }
   ],
   "source": [
    "from langchain_community.document_loaders import DirectoryLoader\n",
    "\n",
    "loader = DirectoryLoader(\"../embed_docs/\")\n",
    "documents = loader.load()\n",
    "\n",
    "for document in documents:\n",
    "    document.metadata['filename'] = document.metadata['source']"
   ]
  },
  {
   "cell_type": "code",
   "execution_count": 12,
   "metadata": {},
   "outputs": [
    {
     "data": {
      "application/vnd.jupyter.widget-view+json": {
       "model_id": "9fe1cbac8b454da5bd44e858883ca1b2",
       "version_major": 2,
       "version_minor": 0
      },
      "text/plain": [
       "embedding nodes:   0%|          | 0/986 [00:00<?, ?it/s]"
      ]
     },
     "metadata": {},
     "output_type": "display_data"
    },
    {
     "data": {
      "application/vnd.jupyter.widget-view+json": {
       "model_id": "e4e12cdfce6e470888c3512d529c58c5",
       "version_major": 2,
       "version_minor": 0
      },
      "text/plain": [
       "Generating:   0%|          | 0/10 [00:00<?, ?it/s]"
      ]
     },
     "metadata": {},
     "output_type": "display_data"
    }
   ],
   "source": [
    "from ragas.testset.generator import TestsetGenerator\n",
    "from ragas.testset.evolutions import simple, reasoning, multi_context\n",
    "from langchain_openai import ChatOpenAI, OpenAIEmbeddings\n",
    "\n",
    "# generator with openai models\n",
    "generator_llm = ChatOpenAI(model=\"gpt-3.5-turbo-16k\")\n",
    "critic_llm = ChatOpenAI(model=\"gpt-4\")\n",
    "embeddings = OpenAIEmbeddings()\n",
    "\n",
    "generator = TestsetGenerator.from_langchain(\n",
    "    generator_llm,\n",
    "    critic_llm,\n",
    "    embeddings\n",
    ")\n",
    "\n",
    "# generate testset\n",
    "testset = generator.generate_with_langchain_docs(documents, test_size=10, distributions={simple: 0.5, reasoning: 0.25, multi_context: 0.25})"
   ]
  },
  {
   "cell_type": "code",
   "execution_count": 41,
   "metadata": {},
   "outputs": [
    {
     "name": "stdout",
     "output_type": "stream",
     "text": [
      "TestDataset(test_data=[DataRow(question='What are the effects of the spell \"Obscuring Mist\"?', contexts=[' after completing the spell, if you wish. Treat this as a touch spell for which you are holding the charge (see page 176). You can hold the charge for as long as 1 round per level, at the end of which time the freezing sphere bursts centered on you (and you receive no saving throw to resist its effect). Firing the globe in a later round is a standard action.\\n\\nOrder’s Wrath Evocation [Lawful] Level: Law 4 Components: V, S Casting Time: 1 standard action Range: Medium (100 ft. + 10 ft./level) Area: Nonlawful creatures within a burst that fills a 30-ft. cube Duration: Instantaneous (1 round); see text Saving Throw: Will partial; see text Spell Resistance: Yes\\n\\nThis spell hides an object from location by divination (scrying) effects, such as the scrying spell or a crystal ball. Such an at- tempt automatically fails (if the divination is targeted on the object) or fails to per- ceive the object (if the divination is target- ed on a nearby location, object, or person). Arcane Material Component: A piece of\\n\\nFocus: A small crystal sphere.\\n\\nchameleon skin.\\n\\nOtiluke’s Resilient Sphere\\n\\nEvocation [Force] Level: Sor/Wiz 4 Components: V, S, M Casting Time: 1 standard action Range: Close (25 ft. + 5 ft./2 levels) Effect: 1-ft.-diameter/level sphere, centered around a creature Duration: 1 min./level (D) Saving Throw: Reflex negates Spell Resistance: Yes\\n\\nObscuring Mist\\n\\nYou channel lawful power to smite ene- mies. The power takes the form of a three- dimensional grid of energy. Only chaotic and neutral (not lawful) creatures are harmed by the spell.\\n\\nConjuration (Creation) Level: Air 1, Clr 1, Drd 1, Sor/Wiz 1, Water 1 Components: V, S Casting Time: 1 standard action Range: 20 ft. Effect: Cloud spreads in 20-ft. radius from you, 20 ft. high Duration: 1 min./level Saving Throw: None Spell Resistance: No\\n\\nThe spell deals 1d8 points of damage per two caster levels (maximum 5d8) to chaotic creatures (or 1d6 points of damage per caster level, maximum 10d6, to chaotic outsiders) and causes them to be dazed for 1 round. A successful Will save reduces the damage to half and negates the daze effect. The spell deals only half damage to creatures who are neither chaotic nor lawful, and they are not dazed. They can reduce the damage in half again (down to one-quarter of the roll) with a successful Will save.\\n\\nA globe of shimmering force encloses a creature, provided the creature is small enough to fit within the diameter of the sphere. The sphere contains its subject for the spell’s duration. The sphere is not subject to damage of any sort except from a rod of cancellation, a rod of negation, a dis- integrate spell, or a targeted dispel magic spell. These effects destroy the sphere without harm to the subject. Nothing can pass through the sphere, inside or out, though the subject can breathe normally. The subject may struggle, but the sphere cannot be physically moved either by people outside it or by the struggles of those within.\\n\\nA misty vapor arises around you. It is sta- tionary once created. The vapor obscures all sight, including darkvision, beyond 5 feet. A creature 5 feet away has conceal- ment (attacks have a 20% miss chance). Creatures farther away have total conceal- ment (50% miss chance, and the attacker cannot use sight to locate the target).\\n\\nOtiluke’s Freezing Sphere Evocation [Cold] Level: Sor/Wiz 6 Components: V, S, F Casting Time: 1 standard action Range: Long (400 ft. + 40 ft./level) Target, Effect, or Area: See text Duration: Instantaneous or 1 round/level; see text Saving Throw: Reflex half; see text Spell Resistance: Yes\\n\\nA moderate wind (11+ mph), such as from a gust of wind spell, disperses the fog in 4 rounds. A strong wind (21+ mph) dis- perses the fog in 1 round. A fireball, flame strike, or similar spell burns away the fog in the explosive or fiery spell’s area. A wall of fire burns away the fog in the area into which it deals damage.\\n\\nMaterial Component: A hemispherical piece of clear crystal and a matching hemispherical piece of gum arabic.\\n\\nThis spell does not function underwater.\\n\\nThis spell does not function underwater. Spell Resistance: Yes hemispherical piece of gum arab'], ground_truth='The spell creates a misty vapor that obscures all sight beyond 5 feet. Creatures within 5 feet have concealment, while creatures farther away have total concealment. The mist can be dispersed by wind or fire spells.', evolution_type='simple', metadata=[{'source': '../embed_docs/Player_s Handbook.pdf', 'filename': '../embed_docs/Player_s Handbook.pdf'}]),\n",
      "                       DataRow(question=\"What is the purpose of an untrained Heal check in relation to Tordek's negative hit points and dying condition?\", contexts=[', but if she misses by 5 or more, she falls (after which she can get up and try again).\\n\\nConditions that affect your character’s ability to perform the skill change the skill modifier. Conditions that modify how well the character has to perform the skill to succeed change the DC. A bonus to the skill modifier and a reduction in the check’s DC have the same result: They create a better chance of success. But they represent different circumstances, and sometimes that difference is important.\\n\\nIf Tordek has negative hit points and is dying, Lidda can make an untrained Heal check to make him stable. If the check fails, Tordek probably loses another hit point, but Lidda can try again in the next round.\\n\\n\\n\\nACCESS TO SKILLS The rules assume that a character can find a way to learn any skill. For instance, if Jozan wants to learn Profession (sailor), nothing in the rules exists to stop him. However, the DM is in charge of the world and makes\\n\\nall the decisions about where one can learn certain skills and where one can’t. While Jozan is living in a desert, for example, the DM can decide that he has no way of learning to be a sailor. It’s up to the DM to say whether a character can learn a given skill in a given setting.\\n\\n64\\n\\n\\n\\n\\n\\n  \\n\\nFor example, Gimble the bard wants to entertain a band of dwarves who are staying at the same inn where he and his party are staying. Before playing his lute, Gimble listens to the dwarves’ drinking songs so he can judge their mood. Doing so improves his performance, giving him a +2 circumstance bonus on his check. His player rolls a 5 and adds +9 for his skill modifier (4 ranks, +3 Charisma modifier, and +2 for his impromptu research). His result is 14. The DM sets the DC at 15. However, the dwarves are in a good mood because they have recently won a skirmish with orc bandits, so the DM reduces the DC to 13. (Gimble’s performance isn’t better just because the dwarves are in a good mood, so Gimble doesn’t get a bonus to add into his skill modifier. Instead, the DC goes down.) The leader of the dwarven band, however, has heard that a gnome spy works for the bandits, and he’s suspicious of Gimble. The DC to entertain him is higher than normal: 17 instead of 15. Gimble’s skill check result (14) is high enough to entertain the dwarves (DC 13) but not their leader (DC 17). The dwarves applaud Gimble and offer to buy him drinks, but their leader eyes him suspiciously.\\n\\nTime and Skill Checks\\n\\nUsing a skill might take a round, take no time, or take several rounds or even longer. Most skill uses are standard actions, move actions, or full-round actions. Types of actions define how long activities take to perform within the framework of a combat round (6 seconds) and how movement is treated with respect to the activity (see Action Types, page 138). Some skill checks are instant and represent reactions to an event, or are included as part of an action. These skill checks are not actions. Other skill checks represent part of movement. The distance you jump when making a Jump check, for example, is part of your movement. Each skill description specifies the time required to make a check.\\n\\nPractically Impossible Tasks\\n\\nSometimes you want to do something that seems practically impossible. In general, a task considered practically impossible has a DC of 40, 60, or even higher (or it carries a modifier of +20 or more to the DC).\\n\\nPractically impossible tasks are hard to delineate ahead of time. They’re the accomplishments that represent incredible, almost logic-defying skill and luck. Picking a lock by giving it a single, swift kick might entail a +20 modifier to the DC; swimming up a waterfall could require a Swim check against DC 80; and balancing on a fragile tree branch might have a DC of 90.\\n\\nleather armor). The steep, rocky slope he’s climbing has a Climb DC of 10. With a little care, he can take 10 and succeed automatically. But partway up the slope, a goblin scout begins pelting him with sling stones. Krusk needs to make a Climb check to get up to the goblin, and this time he can’t simply take 10. If his player rolls 4 or higher on 1d20, he succeeds.\\n\\nTaking 20: When you have plenty of time (generally 2 minutes for a skill that can normally be checked in 1 round, one full-round action, or one standard action), you are faced with no threats or distractions, and the skill being'], ground_truth='The purpose of an untrained Heal check is to make Tordek stable if he has negative hit points and is dying. If the check fails, Tordek may lose another hit point, but Lidda can try again in the next round.', evolution_type='simple', metadata=[{'source': '../embed_docs/Player_s Handbook.pdf', 'filename': '../embed_docs/Player_s Handbook.pdf'}]),\n",
      "                       DataRow(question='What are the consequences of delaying in terms of initiative in combat?', contexts=['      :     159 \\n\\n159\\n\\n   :  8 R E T P A H C        T A B M O C  160  \\n\\n\\n\\ninitiative result or just wait until some time later in the round and act then, thus fixing your new initiative count at that point.\\n\\nNeutral Clerics and Undead\\n\\nA cleric of neutral alignment can either turn undead but not rebuke them, or rebuke undead but not turn them. See Turn or Rebuke Undead, page 33, for more information.\\n\\nDelaying is useful if you need to see what your friends or oppo- nents are going to do before deciding what to do yourself. The price you pay is lost initiative. You never get back the time you spend waiting to see what’s going to happen. You can’t, however, interrupt anyone else’s action (as you can with a readied action).\\n\\nEven if a cleric is neutral, channeling positive energy is a good act and channeling negative energy is evil.\\n\\nInitiative Consequences of Delaying: Your initiative result becomes the count on which you took the delayed action. If you come to your next action and have not yet performed an action, you don’t get to take a delayed action (though you can delay again). If you take a delayed action in the next round, before your regular turn comes up, your initiative count rises to that new point in the order of battle, and you do not get your regular action that round.\\n\\nPaladins and Undead\\n\\nBeginning at 4th level, paladins can turn undead as if they were clerics of three levels lower than they actually are.\\n\\nTurning Other Creatures\\n\\nSome clerics have the ability to turn creatures other than undead. For example, a cleric with the Fire domain can turn or destroy water creatures (as if he were a good cleric turning undead) and rebuke or command fire creatures (as if he were an evil cleric rebuking undead). The turning check result is determined as normal.\\n\\nREADY\\n\\nThe ready action lets you prepare to take an action later, after your turn is over but before your next one has begun. Readying is a standard action. It does not provoke an attack of opportunity (though the action that you ready might do so).\\n\\nOther Uses for Positive or Negative Energy\\n\\nPositive or negative energy may have uses other than affecting undead. For example, a holy site might be guarded by a magic door that opens for any good cleric who can make a turning check high enough to affect a 3-HD undead and that shatters for an evil cleric who can make a similar check.\\n\\nReadying an Action: You can ready a standard action, a move action, or a free action. To do so, specify the action you will take and the conditions under which you will take it. For example, you might specify that you will shoot an arrow at anyone coming through a nearby doorway. Then, any time before your next action, you may take the readied action in response to that condition. The action occurs just before the action that triggers it. If the triggered action is part of another character’s activities, you interrupt the other character. Assuming he is still capable of doing so, he continues his actions once you complete your readied action.\\n\\nTWO-WEAPON FIGHTING\\n\\nIf you wield a second weapon in your off hand, you can get one extra attack per round with that weapon. Fighting in this way is very hard, however, and you suffer a -6 penalty with your regular attack or attacks with your primary hand and a -10 penalty to the attack with your off hand. You can reduce these penalties in two ways: * If your off-hand weapon is light, the penalties are reduced by 2\\n\\nYour initiative result changes. For the rest of the encounter, your initiative result is the count on which you took the readied action, and you act immediately ahead of the character whose action triggered your readied action.\\n\\neach. (An unarmed strike is always considered light.)\\n\\nYou can take a 5-foot step as part of your readied action, but only if you don’t otherwise move any distance during the round. For instance, if you move up to an open door and then ready an action to swing your sword at whatever comes near, you can’t take a 5-foot step along with the readied action (since you’ve already moved in this round).\\n\\n¢ The Two-Weapon Fighting feat lessens the primary hand penalty by 2, and the off-hand penalty by 6.\\n\\nby 2, and the off-hand penalty by 6. Table 8–10: Two-Weapon Fighting Penalties summarizes the\\n\\ninteraction of all these factors.\\n\\nTable 8–10'], ground_truth='Your initiative result becomes the count on which you took the delayed action. If you come to your next action and have not yet performed an action, you don’t get to take a delayed action (though you can delay again). If you take a delayed action in the next round, before your regular turn comes up, your initiative count rises to that new point in the order of battle, and you do not get your regular action that round.', evolution_type='simple', metadata=[{'source': '../embed_docs/Player_s Handbook.pdf', 'filename': '../embed_docs/Player_s Handbook.pdf'}]),\n",
      "                       DataRow(question='What are the advantages and disadvantages of being a small creature in the context of gnomes?', contexts=[' Strength: Like dwarves, gnomes are tough, but they are small and therefore not as strong as larger humanoids.\\n\\n* Small: As a Small creature, a gnome gains a +1 size bonus to Armor Class, a +1 size bonus on attack rolls, and a +4 size bonus on Hide checks, but he uses smaller weapons than humans use, and his lifting and carrying limits are three-quarters of those of a Medium character.\\n\\n* Gnome base land speed is 20 feet. * Low-light Vision: A gnome can see twice as far as a human in starlight, moonlight, torchlight, and similar conditions of poor illumination. He retains the ability to distinguish color and detail under these conditions.\\n\\nWeapon Familiarity: Gnomes may treat gnome hooked hammers (see page 118) as martial weapons rather than exotic weapons. * +2 racial bonus on saving throws against illusions: Gnomes are\\n\\ninnately familiar with illusions of all kinds.\\n\\n+ Add +1 to the Difficulty Class for all saving throws against illusion spells cast by gnomes. Their innate familiarity with these effects make their illusions more difficult to see through. This adjustment stacks with those from similar effects, such as the Spell Focus feat.\\n\\nReligion: The chief gnome god is Garl Glittergold, the Watchful Protector. His clerics teach that gnomes are to cherish and support their communities. Pranks are seen as ways to lighten spirits and to keep gnomes humble, not as ways for pranksters to triumph over those they trick.\\n\\nLanguage: The Gnome language, which uses the Dwarven script, is renowned for its technical treatises and its catalogs of knowledge about the natural world. Human herbalists, naturalists, and engineers commonly learn Gnome in order to read the best books on their topics of study.\\n\\nNames: Gnomes love names, and most have half a dozen or so. As a gnome grows up, his mother gives him a name, his father gives him a name, his clan elder gives him a name, his aunts and uncles give him names, and he gains nicknames from just about anyone. Gnome names are typically variants on the names of ancestors or distant relatives, though some are purely new inventions. When dealing with humans and others who are rather “stuffy” about names, a gnome learns to act as if he has no more than three names: a personal name, a clan name, and a nickname. When deciding which of his several names to use among humans, a gnome generally chooses the one that’s the most fun to say. Gnome clan names are combinations of common Gnome words, and gnomes almost always translate them into Common when in human lands (or into Elven when in elven lands, and so on).\\n\\n¢ 41 racial bonus on attack rolls against kobolds and goblinoids (including goblins, hobgoblins, and bugbears): Gnomes battle these creatures frequently and practice special techniques for fighting them.\\n\\n* +4 dodge bonus to Armor Class against monsters of the giant type (such as ogres, trolls, and hill giants): This bonus represents special training that gnomes undergo, during which they learn tricks that previous generations developed in their battles with giants. Any time a creature loses its Dexterity bonus (if any) to Armor Class, such as when it’s caught flat-footed, it loses its dodge bonus, too. The Monster Manual has information on which creatures are of the giant type.\\n\\n+2 racial bonus on Listen checks: Gnomes have keen ears. * +2 racial bonus on Craft (alchemy) checks: A gnome’s sensitive\\n\\nnose allows him to monitor alchemical processes by smell.\\n\\n* Automatic Languages: Common and Gnome. Bonus Languages: Draconic, Dwarven, Elven, Giant, Goblin, and Orc. Gnomes deal more with elves and dwarves than elves and dwarves deal with one another, and they learn the languages of their enemies (kobolds, giants, goblins, and orcs) as well. In addition, a gnome can use speak with a burrowing mammal (a badger, fox, rabbit, or the like, see below). This ability is innate to gnomes. See the speak with animals spell description, page 281.\\n\\n(burrowing mammal only, duration 1 minute). A gnome with a Charisma score of at least 10 also has the following spell-like abilities: 1/day—dancing lights, ghost sound, prestidigitation. Caster level 1st; save DC 10 + gnome’s Cha modifier + spell level. See the spell descriptions on pages 216, 235, and 264, respectively.\\n\\nMale Names: Boddynock, Dimble, Fonkin, Gimble, Glim, Gerbo, Jebeddo, Namfoodle, Roondar,'], ground_truth='As a Small creature, a gnome gains a +1 size bonus to Armor Class, a +1 size bonus on attack rolls, and a +4 size bonus on Hide checks. However, gnomes use smaller weapons than humans and have lifting and carrying limits that are three-quarters of those of a Medium character.', evolution_type='simple', metadata=[{'source': '../embed_docs/Player_s Handbook.pdf', 'filename': '../embed_docs/Player_s Handbook.pdf'}]),\n",
      "                       DataRow(question='What motivates sorcerers to go on adventures and improve their abilities?', contexts=[' either an unsubstantiated boast on the part of certain sorcerers or envious gossip on the part of those who lack the sorcerer’s gift. Adventures:\\n\\nSkill Mastery: The rogue becomes so certain in the use of certain skills that she can use them reliably even under adverse conditions. Upon gaining this ability, she selects a number of skills equal to 3 + her Intelligence modifier. When making a skill check with one of these skills, she may take 10 even if stress and distractions would normally prevent her from doing so. A rogue may gain this special ability multiple times, selecting additional skills for it to apply to each time.\\n\\nSlippery Mind (Ex): This ability represents the rogue’s ability to wriggle free from magical effects that would otherwise control or compel her. If a rogue with slippery mind is affected by an enchantment spell or effect and fails her saving throw, she can attempt it again 1 round later at the same DC. She gets only this one extra chance to succeed on her saving throw.\\n\\nThe typical sorcerer adventures in order to improve his abilities. Only by testing his limits can he expand them. A sorcerer’s power is inborn—part of his soul. Developing this power is a quest in itself for many sorcerers, regardless of how they wish to use their power.\\n\\nFeat: A rogue may gain a bonus feat in place of a special ability.\\n\\nSome good sorcerers are driven by the need to prove themselves. Marked as different by their power, they seek to win a place in society and to prove themselves to others. Evil sorcerers, however, also feel themselves set apart from others—apart and above. They adventure to gain power over those they look down upon.\\n\\nHalfling Rogue Starting Package\\n\\nArmor: Leather (+2 AC, speed 20 ft., 7-1/2 lb.). Weapons: Short sword (1d4, crit 19–20/×2, 1 lb., light, piercing). Light crossbow (1d6, crit 19–20/×2, range inc. 80 ft., 2 lb.,\\n\\npiercing).\\n\\n  \\n\\nC H A P T E R 3  C L A S S E S        :     51 \\n\\nC L A S S E S\\n\\n51\\n\\n   :  3 R E T P A H C        S E S S A L C  52  \\n\\n\\n\\nTable 3–16: The Sorcerer Fort Base Save Attack Bonus +0 +0 +0 +1 +1 +1 +1 +2 +1 +2 +2 +3 +2 +3 +2 +4 +3 +4 +3 +5 +3 +5 +4 +6/+1 +4 +6/+1 +4 +7/+2 +5 +7/+2 +5 +8/+3 +5 +8/+3 +6 +9/+4 +6 +9/+4 +6 +10/+5\\n\\n——––————————— Spells per Day ——————————— 9th 4th 0 7th 5th — — — — — — 5 — — — — — — 6 — — — — — — 6 — — — — — — 6 — — — — — — 6 — — — — — — 6 — — — — — — 6 — — — — — 3 6 — — — — — 4 6 3 — — — — 5 6 4 — — — — 6 6 3 — — — 5 6 6 4 — — — 6 6 6 3 — — 5 6 6 6 4 — — 6 6 6 6 3 — 5 6 6 6 6 4 — 6 6 6 6 6 3 5 6 6 6 6 6 4 6 6 6 6 6 6 6 6 6 6 6 6 6 Ref Will Save Save +2 +0 +3 +0 +3 +1 +4 +1 +4 +1 +5 +2 +5 +2 +6 +2 +6 +3 +7 +3 +7 +3 +8 +4 +8 +4 +9 +4 +9 +5 +10 +5 +10 +5 +11 +6 +11 +6 +12 +6 3rd — — — — — 3 4 5 6 6 6 6 6 6 6 6 6 6 6 6 2nd — — — 3 4 5 6 6 6 6 6 6 6 6 6 6 6 6 6 6 1st 3 4 5 6 6 6 6 6 6 6 6 6 6 6 6 6 6 6 6 6 Special Summon familiar 6th 8th Level 1st 2nd 3rd 4th 5th 6th 7th 8th 9th 10th 11th 12th 13th 14th 15th 16th 17th 18th 19th 20th\\n\\n:\\n\\nS E S S A L C\\n\\nbut they can cast spells more often and have no need to select and prepare their spells ahead of time.'], ground_truth='The typical sorcerer adventures in order to improve his abilities. Only by testing his limits can he expand them. A sorcerer’s power is inborn—part of his soul. Developing this power is a quest in itself for many sorcerers, regardless of how they wish to use their power.', evolution_type='simple', metadata=[{'source': '../embed_docs/Player_s Handbook.pdf', 'filename': '../embed_docs/Player_s Handbook.pdf'}]),\n",
      "                       DataRow(question=\"What are the details of the Order's Wrath spell?\", contexts=[' after completing the spell, if you wish. Treat this as a touch spell for which you are holding the charge (see page 176). You can hold the charge for as long as 1 round per level, at the end of which time the freezing sphere bursts centered on you (and you receive no saving throw to resist its effect). Firing the globe in a later round is a standard action.\\n\\nOrder’s Wrath Evocation [Lawful] Level: Law 4 Components: V, S Casting Time: 1 standard action Range: Medium (100 ft. + 10 ft./level) Area: Nonlawful creatures within a burst that fills a 30-ft. cube Duration: Instantaneous (1 round); see text Saving Throw: Will partial; see text Spell Resistance: Yes\\n\\nThis spell hides an object from location by divination (scrying) effects, such as the scrying spell or a crystal ball. Such an at- tempt automatically fails (if the divination is targeted on the object) or fails to per- ceive the object (if the divination is target- ed on a nearby location, object, or person). Arcane Material Component: A piece of\\n\\nFocus: A small crystal sphere.\\n\\nchameleon skin.\\n\\nOtiluke’s Resilient Sphere\\n\\nEvocation [Force] Level: Sor/Wiz 4 Components: V, S, M Casting Time: 1 standard action Range: Close (25 ft. + 5 ft./2 levels) Effect: 1-ft.-diameter/level sphere, centered around a creature Duration: 1 min./level (D) Saving Throw: Reflex negates Spell Resistance: Yes\\n\\nObscuring Mist\\n\\nYou channel lawful power to smite ene- mies. The power takes the form of a three- dimensional grid of energy. Only chaotic and neutral (not lawful) creatures are harmed by the spell.\\n\\nConjuration (Creation) Level: Air 1, Clr 1, Drd 1, Sor/Wiz 1, Water 1 Components: V, S Casting Time: 1 standard action Range: 20 ft. Effect: Cloud spreads in 20-ft. radius from you, 20 ft. high Duration: 1 min./level Saving Throw: None Spell Resistance: No\\n\\nThe spell deals 1d8 points of damage per two caster levels (maximum 5d8) to chaotic creatures (or 1d6 points of damage per caster level, maximum 10d6, to chaotic outsiders) and causes them to be dazed for 1 round. A successful Will save reduces the damage to half and negates the daze effect. The spell deals only half damage to creatures who are neither chaotic nor lawful, and they are not dazed. They can reduce the damage in half again (down to one-quarter of the roll) with a successful Will save.\\n\\nA globe of shimmering force encloses a creature, provided the creature is small enough to fit within the diameter of the sphere. The sphere contains its subject for the spell’s duration. The sphere is not subject to damage of any sort except from a rod of cancellation, a rod of negation, a dis- integrate spell, or a targeted dispel magic spell. These effects destroy the sphere without harm to the subject. Nothing can pass through the sphere, inside or out, though the subject can breathe normally. The subject may struggle, but the sphere cannot be physically moved either by people outside it or by the struggles of those within.\\n\\nA misty vapor arises around you. It is sta- tionary once created. The vapor obscures all sight, including darkvision, beyond 5 feet. A creature 5 feet away has conceal- ment (attacks have a 20% miss chance). Creatures farther away have total conceal- ment (50% miss chance, and the attacker cannot use sight to locate the target).\\n\\nOtiluke’s Freezing Sphere Evocation [Cold] Level: Sor/Wiz 6 Components: V, S, F Casting Time: 1 standard action Range: Long (400 ft. + 40 ft./level) Target, Effect, or Area: See text Duration: Instantaneous or 1 round/level; see text Saving Throw: Reflex half; see text Spell Resistance: Yes\\n\\nA moderate wind (11+ mph), such as from a gust of wind spell, disperses the fog in 4 rounds. A strong wind (21+ mph) dis- perses the fog in 1 round. A fireball, flame strike, or similar spell burns away the fog in the explosive or fiery spell’s area. A wall of fire burns away the fog in the area into which it deals damage.\\n\\nMaterial Component: A hemispherical piece of clear crystal and a matching hemispherical piece of gum arabic.\\n\\nThis spell does not function underwater.\\n\\nThis spell does not function underwater. Spell Resistance: Yes hemispherical piece of gum arab'], ground_truth='Order’s Wrath is an evocation spell of the Lawful alignment. It is a level 4 spell that requires verbal and somatic components to cast. The casting time is 1 standard action and the range is medium (100 ft. + 10 ft./level). The spell affects nonlawful creatures within a burst that fills a 30-ft. cube. The duration is instantaneous for 1 round. The spell requires a Will saving throw and is subject to spell resistance. The spell description does not mention any material components or focus.', evolution_type='reasoning', metadata=[{'source': '../embed_docs/Player_s Handbook.pdf', 'filename': '../embed_docs/Player_s Handbook.pdf'}]),\n",
      "                       DataRow(question='How do conditions and modifiers impact skill check success in D&D, and what are the consequences of failure in certain situations?', contexts=[' who is trained in them. If you don’t have Spellcraft, for example, you just don’t know enough about magic even to attempt to identify a spell, regardless of your class, ability scores, or experience level. Skills that cannot be used untrained are indicated by a “No” in the Untrained column on Table 4–2: Skills.\\n\\nOpposed Checks\\n\\nAn opposed check is a check whose success or failure is determined by comparing the check result to another character’s check result. In an opposed check, the higher result succeeds, while the lower result fails. In case of a tie, the higher skill modifier wins. If these scores are the same, roll again to break the tie.\\n\\nFor example, Krusk the barbarian’s 4 ranks in Climb make his Climb check results 4 points higher than they otherwise would be, but even Gimble the bard, with no Climb ranks, can make a Climb check because Climb can be used untrained. Gimble has a skill modifier of –1 (+0 for his Strength, –1 for armor), but he can give it a try. However, Gimble’s ranks in Use Magic Device let him do something that he otherwise couldn’t do at all—namely, use a magic item as if he had a particular spell on his class spell list that he actually doesn’t have. Krusk, with no ranks in the skill, can’t make a Use Magic Device check even at a penalty because Use Magic Device can’t be used untrained.\\n\\nFor example, to sneak up on someone, you make a Move Silently check. Anyone who might hear you can make a Listen check to react to your presence. For the opponent to hear you, his or her Listen check result must equal or exceed your Move Silently check result.\\n\\nTable 4–4: Example Opposed Checks\\n\\nOpposing Skill (Key Ability) Sense Motive (Wis) Spot (Wis)\\n\\nSkill (Key Ability) Bluff (Cha)\\n\\nTask Con someone Pretend to be someone Disguise (Cha) else Forgery (Int) Hide (Dex) Intimidate (Cha) Create a false map Hide from someone Make a bully back down Sneak up on someone Move Silently (Dex) Sleight of Hand (Dex) Spot (Wis) Steal a coin pouch Tie a prisoner securely Escape Artist (Dex) Use Rope (Dex) 1 An Intimidate check is opposed by the target’s level check, not a skill Forgery (Int) Spot (Wis) Special1 Listen (Wis) check. See the Intimidate skill description, page 76, for more information.\\n\\nFavorable and Unfavorable Conditions\\n\\nSome situations may make a skill easier or harder to use, resulting in a bonus or penalty to the skill modifier for a skill check or a change to the DC of the skill check. It’s one thing for Krusk, with his Survival skill, to hunt down enough food to eat while he’s camping for the day in the middle of a lush forest, but foraging for food while travelling across a barren desert is an entirely different matter.\\n\\nThe DM can alter the chance of success in four ways to take into account exceptional circumstances.\\n\\n1. Give the skill user a +2 circumstance bonus to represent con- ditions that improve performance, such as having the perfect tool for the job, getting help from another character (see Combining Skill Attempts, page 65), or possessing unusually accurate infor- mation.\\n\\nTrying Again\\n\\nIn general, you can try a skill check again if you fail, and you can keep trying indefinitely. Some skills, however, have consequences of failure that must be taken into account. A few skills are virtually useless once a check has failed on an attempt to accomplish a par- ticular task. For most skills, when a character has succeeded once at a given task, additional successes are meaningless.\\n\\n2. Give the skill user a –2 circumstance penalty to represent conditions that hamper performance, such as being forced to use improvised tools or having misleading information.\\n\\n3. Reduce the DC by 2 to represent circumstances that make the task easier, such as having a friendly audience or doing work that can be subpar.\\n\\nFor example, if Lidda the rogue misses an Open Lock check, she can try again and keep trying. If, however, a trap in the lock goes off if she misses an Open Lock check by 5 or more, then failure has its own penalties.\\n\\n4. Increase the DC by 2 to represent circumstances that make the task harder, such as having an uncooperative audience or doing work that must be flawless.\\n\\nSimilarly, if Lidda misses a Climb check, she can keep trying', ', but if she misses by 5 or more, she falls (after which she can get up and try again).\\n\\nConditions that affect your character’s ability to perform the skill change the skill modifier. Conditions that modify how well the character has to perform the skill to succeed change the DC. A bonus to the skill modifier and a reduction in the check’s DC have the same result: They create a better chance of success. But they represent different circumstances, and sometimes that difference is important.\\n\\nIf Tordek has negative hit points and is dying, Lidda can make an untrained Heal check to make him stable. If the check fails, Tordek probably loses another hit point, but Lidda can try again in the next round.\\n\\n\\n\\nACCESS TO SKILLS The rules assume that a character can find a way to learn any skill. For instance, if Jozan wants to learn Profession (sailor), nothing in the rules exists to stop him. However, the DM is in charge of the world and makes\\n\\nall the decisions about where one can learn certain skills and where one can’t. While Jozan is living in a desert, for example, the DM can decide that he has no way of learning to be a sailor. It’s up to the DM to say whether a character can learn a given skill in a given setting.\\n\\n64\\n\\n\\n\\n\\n\\n  \\n\\nFor example, Gimble the bard wants to entertain a band of dwarves who are staying at the same inn where he and his party are staying. Before playing his lute, Gimble listens to the dwarves’ drinking songs so he can judge their mood. Doing so improves his performance, giving him a +2 circumstance bonus on his check. His player rolls a 5 and adds +9 for his skill modifier (4 ranks, +3 Charisma modifier, and +2 for his impromptu research). His result is 14. The DM sets the DC at 15. However, the dwarves are in a good mood because they have recently won a skirmish with orc bandits, so the DM reduces the DC to 13. (Gimble’s performance isn’t better just because the dwarves are in a good mood, so Gimble doesn’t get a bonus to add into his skill modifier. Instead, the DC goes down.) The leader of the dwarven band, however, has heard that a gnome spy works for the bandits, and he’s suspicious of Gimble. The DC to entertain him is higher than normal: 17 instead of 15. Gimble’s skill check result (14) is high enough to entertain the dwarves (DC 13) but not their leader (DC 17). The dwarves applaud Gimble and offer to buy him drinks, but their leader eyes him suspiciously.\\n\\nTime and Skill Checks\\n\\nUsing a skill might take a round, take no time, or take several rounds or even longer. Most skill uses are standard actions, move actions, or full-round actions. Types of actions define how long activities take to perform within the framework of a combat round (6 seconds) and how movement is treated with respect to the activity (see Action Types, page 138). Some skill checks are instant and represent reactions to an event, or are included as part of an action. These skill checks are not actions. Other skill checks represent part of movement. The distance you jump when making a Jump check, for example, is part of your movement. Each skill description specifies the time required to make a check.\\n\\nPractically Impossible Tasks\\n\\nSometimes you want to do something that seems practically impossible. In general, a task considered practically impossible has a DC of 40, 60, or even higher (or it carries a modifier of +20 or more to the DC).\\n\\nPractically impossible tasks are hard to delineate ahead of time. They’re the accomplishments that represent incredible, almost logic-defying skill and luck. Picking a lock by giving it a single, swift kick might entail a +20 modifier to the DC; swimming up a waterfall could require a Swim check against DC 80; and balancing on a fragile tree branch might have a DC of 90.\\n\\nleather armor). The steep, rocky slope he’s climbing has a Climb DC of 10. With a little care, he can take 10 and succeed automatically. But partway up the slope, a goblin scout begins pelting him with sling stones. Krusk needs to make a Climb check to get up to the goblin, and this time he can’t simply take 10. If his player rolls 4 or higher on 1d20, he succeeds.\\n\\nTaking 20: When you have plenty of time (generally 2 minutes for a skill that can normally be checked in 1 round, one full-round action, or one standard action), you are faced with no threats or distractions, and the skill being'], ground_truth='Conditions and modifiers can impact skill check success in D&D by providing bonuses or penalties to the skill modifier or changing the DC of the skill check. For example, favorable conditions can give a +2 circumstance bonus, while unfavorable conditions can give a -2 circumstance penalty. The DC can be reduced by 2 to make the task easier or increased by 2 to make it harder. Failure in certain situations can have consequences, such as triggering a trap or falling if the check is missed by a certain margin.', evolution_type='reasoning', metadata=[{'source': '../embed_docs/Player_s Handbook.pdf', 'filename': '../embed_docs/Player_s Handbook.pdf'}, {'source': '../embed_docs/Player_s Handbook.pdf', 'filename': '../embed_docs/Player_s Handbook.pdf'}]),\n",
      "                       DataRow(question='What are the effects of reading the text with the sepia snake sigil and its interaction with shadow objects/substances in D&D spellcasting?', contexts=[' tation is made, you cannot change it.\\n\\nA comprehend languages spell alone can- not reveal a secret page’s contents. You are able to reveal the original contents by speaking a special word. You can then peruse the actual page, and return it to its secret page form at will. You can also remove the spell by double repetition of the special word. A detect magic spell reveals dim magic on the page in question but does not reveal its true contents. True seeing reveals the presence of the hidden material but does not reveal the contents unless cast in combination with comprehend languages. A secret page spell can be dispelled, and the hidden writings can be destroyed by\\n\\nSending Evocation Level: Clr 4, Sor/Wiz 5 Components: V, S, M/DF Casting Time: 10 minutes Range: See text Target: One creature Duration: 1 round; see text Saving Throw: None Spell Resistance: No\\n\\nYou can change the qualities of sounds but cannot create words with which you are unfamiliar yourself. For instance, you can’t change your voice so that it sounds as though you are giving the command word to activate a magic item unless you know that command word.\\n\\nYou contact a particular creature with which you are familiar and send a short message of twenty-five words or less to the\\n\\n  \\n\\nC H A P T E R 1 1 :  S P E L L S           275 \\n\\nC H A P T E R 1 1 :\\n\\nS P E L L S\\n\\n275\\n\\n   : 1 1 R E T P A H C        S L L E P S  276  \\n\\n\\n\\nYou use material from the Plane of Shadow to shape quasi-real illusions of one or more forces. Shadow creatures, objects, or conjuration can mimic any sorcerer or wiz- ard conjuration (summoning) or conjura- tion (creation) spell of 3rd level or lower. Shadow conjurations are actually one-fifth (20%) as strong as the real things, though creatures who believe the shadow conjura- tions to be real are affected by them at full strength.\\n\\nerase spell destroys the entire page of text. Sepia snake sigil can be cast in combination with other spells that hide or garble text, such as secret page.\\n\\nsubject. The subject recognizes you if it knows you. It can answer in like manner immediately. A creature with an Intel- ligence score as low as 1 can understand the sending, though the subject’s ability to react is limited as normal by its Intelli- gence score. Even if the sending is received, the subject is not obligated to act upon it in any manner.\\n\\nMaterial Component: 500 gp worth of powdered amber, a scale from any snake, and a pinch of mushroom spores.\\n\\nSequester Abjuration Level: Sor/Wiz 7 Components: V, S, M Casting Time: 1 standard action Range: Touch Target: One willing creature or object (up to a 2-ft. cube/level) touched Duration: One day/level (D) Saving Throw: None or Will negates (object) Spell Resistance: No or Yes (object)\\n\\nIf the creature in question is not on the same plane of existence as you are, there is a 5% chance that the sending does not arrive. (Local conditions on other planes may worsen this chance considerably, at the option of the DM.)\\n\\nAny creature that interacts with the conjured object, force, or creature can make a Will save to recognize its true nature.\\n\\nArcane Material Component: A short piece of fine copper wire.\\n\\nSpells that deal damage, such as Melf’s acid arrow, have normal effects unless the affected creature succeeds on a Will save. Each disbelieving creature takes only one- fifth (20%) damage from the attack. If the disbelieved attack has a special effect other than damage, that effect is only 20% likely to occur. Regardless of the result of the save to disbelieve, an affected creature is also allowed any save that the spell being simulated allows, but the save DC is set according to shadow conjuration’s level (5th) rather than the spell’s normal level. In addition, any effect created by shadow conjuration allows spell resistance, even if the spell it is simulating does not.\\n\\nSepia Snake Sigil\\n\\nConjuration (Creation) [Force] Level: Brd 3, Sor/Wiz 3 Components: V, S, M Casting Time: 10 minutes Range: Touch Target: One touched book or written work Duration: Permanent or until discharged; until released or 1d4 days + one day/level; see text Saving Throw: Reflex negates Spell Resistance: No\\n\\nWhen cast, this spell not only prevents div', ' tation is made, you cannot change it.\\n\\nA comprehend languages spell alone can- not reveal a secret page’s contents. You are able to reveal the original contents by speaking a special word. You can then peruse the actual page, and return it to its secret page form at will. You can also remove the spell by double repetition of the special word. A detect magic spell reveals dim magic on the page in question but does not reveal its true contents. True seeing reveals the presence of the hidden material but does not reveal the contents unless cast in combination with comprehend languages. A secret page spell can be dispelled, and the hidden writings can be destroyed by\\n\\nSending Evocation Level: Clr 4, Sor/Wiz 5 Components: V, S, M/DF Casting Time: 10 minutes Range: See text Target: One creature Duration: 1 round; see text Saving Throw: None Spell Resistance: No\\n\\nYou can change the qualities of sounds but cannot create words with which you are unfamiliar yourself. For instance, you can’t change your voice so that it sounds as though you are giving the command word to activate a magic item unless you know that command word.\\n\\nYou contact a particular creature with which you are familiar and send a short message of twenty-five words or less to the\\n\\n  \\n\\nC H A P T E R 1 1 :  S P E L L S           275 \\n\\nC H A P T E R 1 1 :\\n\\nS P E L L S\\n\\n275\\n\\n   : 1 1 R E T P A H C        S L L E P S  276  \\n\\n\\n\\nYou use material from the Plane of Shadow to shape quasi-real illusions of one or more forces. Shadow creatures, objects, or conjuration can mimic any sorcerer or wiz- ard conjuration (summoning) or conjura- tion (creation) spell of 3rd level or lower. Shadow conjurations are actually one-fifth (20%) as strong as the real things, though creatures who believe the shadow conjura- tions to be real are affected by them at full strength.\\n\\nerase spell destroys the entire page of text. Sepia snake sigil can be cast in combination with other spells that hide or garble text, such as secret page.\\n\\nsubject. The subject recognizes you if it knows you. It can answer in like manner immediately. A creature with an Intel- ligence score as low as 1 can understand the sending, though the subject’s ability to react is limited as normal by its Intelli- gence score. Even if the sending is received, the subject is not obligated to act upon it in any manner.\\n\\nMaterial Component: 500 gp worth of powdered amber, a scale from any snake, and a pinch of mushroom spores.\\n\\nSequester Abjuration Level: Sor/Wiz 7 Components: V, S, M Casting Time: 1 standard action Range: Touch Target: One willing creature or object (up to a 2-ft. cube/level) touched Duration: One day/level (D) Saving Throw: None or Will negates (object) Spell Resistance: No or Yes (object)\\n\\nIf the creature in question is not on the same plane of existence as you are, there is a 5% chance that the sending does not arrive. (Local conditions on other planes may worsen this chance considerably, at the option of the DM.)\\n\\nAny creature that interacts with the conjured object, force, or creature can make a Will save to recognize its true nature.\\n\\nArcane Material Component: A short piece of fine copper wire.\\n\\nSpells that deal damage, such as Melf’s acid arrow, have normal effects unless the affected creature succeeds on a Will save. Each disbelieving creature takes only one- fifth (20%) damage from the attack. If the disbelieved attack has a special effect other than damage, that effect is only 20% likely to occur. Regardless of the result of the save to disbelieve, an affected creature is also allowed any save that the spell being simulated allows, but the save DC is set according to shadow conjuration’s level (5th) rather than the spell’s normal level. In addition, any effect created by shadow conjuration allows spell resistance, even if the spell it is simulating does not.\\n\\nSepia Snake Sigil\\n\\nConjuration (Creation) [Force] Level: Brd 3, Sor/Wiz 3 Components: V, S, M Casting Time: 10 minutes Range: Touch Target: One touched book or written work Duration: Permanent or until discharged; until released or 1d4 days + one day/level; see text Saving Throw: Reflex negates Spell Resistance: No\\n\\nWhen cast, this spell not only prevents div'], ground_truth='nan', evolution_type='multi_context', metadata=[{'source': '../embed_docs/Player_s Handbook.pdf', 'filename': '../embed_docs/Player_s Handbook.pdf'}, {'source': '../embed_docs/Player_s Handbook.pdf', 'filename': '../embed_docs/Player_s Handbook.pdf'}]),\n",
      "                       DataRow(question='What does DC represent in skill checks and how does it relate to the skill modifier and chance of success?', contexts=[' who is trained in them. If you don’t have Spellcraft, for example, you just don’t know enough about magic even to attempt to identify a spell, regardless of your class, ability scores, or experience level. Skills that cannot be used untrained are indicated by a “No” in the Untrained column on Table 4–2: Skills.\\n\\nOpposed Checks\\n\\nAn opposed check is a check whose success or failure is determined by comparing the check result to another character’s check result. In an opposed check, the higher result succeeds, while the lower result fails. In case of a tie, the higher skill modifier wins. If these scores are the same, roll again to break the tie.\\n\\nFor example, Krusk the barbarian’s 4 ranks in Climb make his Climb check results 4 points higher than they otherwise would be, but even Gimble the bard, with no Climb ranks, can make a Climb check because Climb can be used untrained. Gimble has a skill modifier of –1 (+0 for his Strength, –1 for armor), but he can give it a try. However, Gimble’s ranks in Use Magic Device let him do something that he otherwise couldn’t do at all—namely, use a magic item as if he had a particular spell on his class spell list that he actually doesn’t have. Krusk, with no ranks in the skill, can’t make a Use Magic Device check even at a penalty because Use Magic Device can’t be used untrained.\\n\\nFor example, to sneak up on someone, you make a Move Silently check. Anyone who might hear you can make a Listen check to react to your presence. For the opponent to hear you, his or her Listen check result must equal or exceed your Move Silently check result.\\n\\nTable 4–4: Example Opposed Checks\\n\\nOpposing Skill (Key Ability) Sense Motive (Wis) Spot (Wis)\\n\\nSkill (Key Ability) Bluff (Cha)\\n\\nTask Con someone Pretend to be someone Disguise (Cha) else Forgery (Int) Hide (Dex) Intimidate (Cha) Create a false map Hide from someone Make a bully back down Sneak up on someone Move Silently (Dex) Sleight of Hand (Dex) Spot (Wis) Steal a coin pouch Tie a prisoner securely Escape Artist (Dex) Use Rope (Dex) 1 An Intimidate check is opposed by the target’s level check, not a skill Forgery (Int) Spot (Wis) Special1 Listen (Wis) check. See the Intimidate skill description, page 76, for more information.\\n\\nFavorable and Unfavorable Conditions\\n\\nSome situations may make a skill easier or harder to use, resulting in a bonus or penalty to the skill modifier for a skill check or a change to the DC of the skill check. It’s one thing for Krusk, with his Survival skill, to hunt down enough food to eat while he’s camping for the day in the middle of a lush forest, but foraging for food while travelling across a barren desert is an entirely different matter.\\n\\nThe DM can alter the chance of success in four ways to take into account exceptional circumstances.\\n\\n1. Give the skill user a +2 circumstance bonus to represent con- ditions that improve performance, such as having the perfect tool for the job, getting help from another character (see Combining Skill Attempts, page 65), or possessing unusually accurate infor- mation.\\n\\nTrying Again\\n\\nIn general, you can try a skill check again if you fail, and you can keep trying indefinitely. Some skills, however, have consequences of failure that must be taken into account. A few skills are virtually useless once a check has failed on an attempt to accomplish a par- ticular task. For most skills, when a character has succeeded once at a given task, additional successes are meaningless.\\n\\n2. Give the skill user a –2 circumstance penalty to represent conditions that hamper performance, such as being forced to use improvised tools or having misleading information.\\n\\n3. Reduce the DC by 2 to represent circumstances that make the task easier, such as having a friendly audience or doing work that can be subpar.\\n\\nFor example, if Lidda the rogue misses an Open Lock check, she can try again and keep trying. If, however, a trap in the lock goes off if she misses an Open Lock check by 5 or more, then failure has its own penalties.\\n\\n4. Increase the DC by 2 to represent circumstances that make the task harder, such as having an uncooperative audience or doing work that must be flawless.\\n\\nSimilarly, if Lidda misses a Climb check, she can keep trying', ', but if she misses by 5 or more, she falls (after which she can get up and try again).\\n\\nConditions that affect your character’s ability to perform the skill change the skill modifier. Conditions that modify how well the character has to perform the skill to succeed change the DC. A bonus to the skill modifier and a reduction in the check’s DC have the same result: They create a better chance of success. But they represent different circumstances, and sometimes that difference is important.\\n\\nIf Tordek has negative hit points and is dying, Lidda can make an untrained Heal check to make him stable. If the check fails, Tordek probably loses another hit point, but Lidda can try again in the next round.\\n\\n\\n\\nACCESS TO SKILLS The rules assume that a character can find a way to learn any skill. For instance, if Jozan wants to learn Profession (sailor), nothing in the rules exists to stop him. However, the DM is in charge of the world and makes\\n\\nall the decisions about where one can learn certain skills and where one can’t. While Jozan is living in a desert, for example, the DM can decide that he has no way of learning to be a sailor. It’s up to the DM to say whether a character can learn a given skill in a given setting.\\n\\n64\\n\\n\\n\\n\\n\\n  \\n\\nFor example, Gimble the bard wants to entertain a band of dwarves who are staying at the same inn where he and his party are staying. Before playing his lute, Gimble listens to the dwarves’ drinking songs so he can judge their mood. Doing so improves his performance, giving him a +2 circumstance bonus on his check. His player rolls a 5 and adds +9 for his skill modifier (4 ranks, +3 Charisma modifier, and +2 for his impromptu research). His result is 14. The DM sets the DC at 15. However, the dwarves are in a good mood because they have recently won a skirmish with orc bandits, so the DM reduces the DC to 13. (Gimble’s performance isn’t better just because the dwarves are in a good mood, so Gimble doesn’t get a bonus to add into his skill modifier. Instead, the DC goes down.) The leader of the dwarven band, however, has heard that a gnome spy works for the bandits, and he’s suspicious of Gimble. The DC to entertain him is higher than normal: 17 instead of 15. Gimble’s skill check result (14) is high enough to entertain the dwarves (DC 13) but not their leader (DC 17). The dwarves applaud Gimble and offer to buy him drinks, but their leader eyes him suspiciously.\\n\\nTime and Skill Checks\\n\\nUsing a skill might take a round, take no time, or take several rounds or even longer. Most skill uses are standard actions, move actions, or full-round actions. Types of actions define how long activities take to perform within the framework of a combat round (6 seconds) and how movement is treated with respect to the activity (see Action Types, page 138). Some skill checks are instant and represent reactions to an event, or are included as part of an action. These skill checks are not actions. Other skill checks represent part of movement. The distance you jump when making a Jump check, for example, is part of your movement. Each skill description specifies the time required to make a check.\\n\\nPractically Impossible Tasks\\n\\nSometimes you want to do something that seems practically impossible. In general, a task considered practically impossible has a DC of 40, 60, or even higher (or it carries a modifier of +20 or more to the DC).\\n\\nPractically impossible tasks are hard to delineate ahead of time. They’re the accomplishments that represent incredible, almost logic-defying skill and luck. Picking a lock by giving it a single, swift kick might entail a +20 modifier to the DC; swimming up a waterfall could require a Swim check against DC 80; and balancing on a fragile tree branch might have a DC of 90.\\n\\nleather armor). The steep, rocky slope he’s climbing has a Climb DC of 10. With a little care, he can take 10 and succeed automatically. But partway up the slope, a goblin scout begins pelting him with sling stones. Krusk needs to make a Climb check to get up to the goblin, and this time he can’t simply take 10. If his player rolls 4 or higher on 1d20, he succeeds.\\n\\nTaking 20: When you have plenty of time (generally 2 minutes for a skill that can normally be checked in 1 round, one full-round action, or one standard action), you are faced with no threats or distractions, and the skill being'], ground_truth='DC represents the Difficulty Class in skill checks. It is the target number that needs to be met or exceeded in order to succeed in the skill check. The skill modifier is added to the roll result to determine if it meets or exceeds the DC. The higher the skill modifier, the higher the chance of success.', evolution_type='multi_context', metadata=[{'source': '../embed_docs/Player_s Handbook.pdf', 'filename': '../embed_docs/Player_s Handbook.pdf'}, {'source': '../embed_docs/Player_s Handbook.pdf', 'filename': '../embed_docs/Player_s Handbook.pdf'}]),\n",
      "                       DataRow(question='What is the purpose of flexible chainmail in armor, particularly in relation to joint protection and its composition of narrow vertical metal strips riveted to a leather backing worn over cloth padding?', contexts=[' made of narrow vertical strips of metal riveted to a backing of leather that is worn over cloth padding. Flex- ible chainmail protects the joints. The suit includes gauntlets.\\n\\ncreature moving at half speed or slower can pick its way through a bed of caltrops with no trouble.\\n\\nThe DM judges the effectiveness of caltrops against unusual opponents. A Small monstrous centipede, for example, can slither through an area containing caltrops with no chance of hurting itself, and a fire giant wearing fire giant-sized boots is immune to normal- size caltrops. (They just get stuck in the soles of his boots.)\\n\\nStudded Leather: This armor is made from tough but flexible leather (not hardened leather as with normal leather armor) rein- forced with close-set metal rivets.\\n\\nCandle: A candle dimly illuminates a 5-foot radius and burns for 1 hour. See page 164 for more rules on illumination.\\n\\nMASTERWORK ARMOR\\n\\nJust as with weapons, you can purchase or craft masterwork versions of armor or shields. Such a well-made item functions like the normal version, except that its armor check penalty is lessened by 1. For example, a masterwork chain shirt has an armor check penalty of –1 rather than –2.\\n\\nCase, Map or Scroll: This capped leather or tin rube holds rolled pieces of parchment or paper.\\n\\nChain: Chain has hardness 10 and 5 hit points. It can be burst with a DC 26 Strength check.\\n\\nCrowbar: This iron bar is made for levering closed items open. A crowbar is the perfect tool for prying open doors or chests, shat- tering chains, and the like, and it grants a +2 circumstance bonus on Strength checks made for such purposes. If used in combat, treat a crowbar as a one-handed improvised weapon (see page 113) that deals bludgeoning damage equal to that of a club of its size.\\n\\nA masterwork suit of armor or shield costs an extra 150 gp over and above the normal cost for that type of armor or shield. A mas- terwork chain shirt would thus cost 250 gp.\\n\\nThe masterwork quality of a suit of armor or shield never provides a bonus on attack or damage rolls, even if the armor or shield is used as a weapon (such as spiked armor or a spiked shield).\\n\\nFlask: This ceramic, glass, or metal container is fitted with a tight stopper and holds 1 pint of liquid.\\n\\nAll magic armors and shields are automatically considered to be of masterwork quality.\\n\\nFlint and Steel: Striking steel and flint together creates sparks. By knocking sparks into tinder, you can create a small flame. Lighting a torch with flint and steel is a full-round action, and lighting any other fire with them takes at least that long.\\n\\nYou can’t add the masterwork quality to armor or a shield after it is created; it must be crafted as a masterwork item.\\n\\nGOODS AND SERVICES Of course, characters need more than just weapons and armor. Table 7–8: Goods and Services provides costs and weights for dozens of other items, and costs for a variety of services that characters can purchase.\\n\\nGrappling Hook: When tied to the end of a rope, a grappling hook can secure the rope to a battlement, window ledge, tree limb, or other protrusion. Throwing a grappling hook successfully requi- res a Use Rope check (DC 10, +2 per 10 feet of distance thrown).\\n\\nHammer: This one-handed hammer with an iron head is useful for pounding pitons into a wall. If a hammer is used in combat, treat it as a one-handed improvised weapon (see page 113) that deals bludgeoning damage equal to that of a spiked gauntlet of its size.\\n\\nADVENTURING GEAR\\n\\nInk: This is black ink. You can buy ink in other colors, but it costs twice as much.\\n\\nAdventurers face all sorts of challenges and difficulties, and the right gear can make the different between a successful adventure and failure. Most of this gear is basic equipment that might come in handy regardless of a character’s skills or class.\\n\\nInkpen: An inkpen is a wooden stick with a special tip on the end. The tip draws ink in when dipped in a vial and leaves an ink trail when drawn across a surface.\\n\\nA few of the pieces of adventuring gear found on Table 7–8: Goods and Services (page 128) are described below, along with any special benefits they confer on the user (“you”). For objects with hardness and hit points, see Smashing an Object, page 165.\\n\\nJug, Clay: This basic ceramic jug'], ground_truth='Flexible chainmail in armor serves the purpose of protecting the joints. It is made of narrow vertical strips of metal riveted to a backing of leather that is worn over cloth padding.', evolution_type='reasoning', metadata=[{'source': '../embed_docs/Player_s Handbook.pdf', 'filename': '../embed_docs/Player_s Handbook.pdf'}])])\n"
     ]
    }
   ],
   "source": [
    "from pprint import pprint\n",
    "pprint(testset)"
   ]
  },
  {
   "cell_type": "code",
   "execution_count": 22,
   "metadata": {},
   "outputs": [
    {
     "data": {
      "text/html": [
       "<div>\n",
       "<style scoped>\n",
       "    .dataframe tbody tr th:only-of-type {\n",
       "        vertical-align: middle;\n",
       "    }\n",
       "\n",
       "    .dataframe tbody tr th {\n",
       "        vertical-align: top;\n",
       "    }\n",
       "\n",
       "    .dataframe thead th {\n",
       "        text-align: right;\n",
       "    }\n",
       "</style>\n",
       "<table border=\"1\" class=\"dataframe\">\n",
       "  <thead>\n",
       "    <tr style=\"text-align: right;\">\n",
       "      <th></th>\n",
       "      <th>question</th>\n",
       "      <th>contexts</th>\n",
       "      <th>ground_truth</th>\n",
       "      <th>evolution_type</th>\n",
       "      <th>metadata</th>\n",
       "      <th>episode_done</th>\n",
       "    </tr>\n",
       "  </thead>\n",
       "  <tbody>\n",
       "    <tr>\n",
       "      <th>0</th>\n",
       "      <td>What are the effects of the spell \"Obscuring M...</td>\n",
       "      <td>[ after completing the spell, if you wish. Tre...</td>\n",
       "      <td>The spell creates a misty vapor that obscures ...</td>\n",
       "      <td>simple</td>\n",
       "      <td>[{'source': '../embed_docs/Player_s Handbook.p...</td>\n",
       "      <td>True</td>\n",
       "    </tr>\n",
       "    <tr>\n",
       "      <th>1</th>\n",
       "      <td>What is the purpose of an untrained Heal check...</td>\n",
       "      <td>[, but if she misses by 5 or more, she falls (...</td>\n",
       "      <td>The purpose of an untrained Heal check is to m...</td>\n",
       "      <td>simple</td>\n",
       "      <td>[{'source': '../embed_docs/Player_s Handbook.p...</td>\n",
       "      <td>True</td>\n",
       "    </tr>\n",
       "    <tr>\n",
       "      <th>2</th>\n",
       "      <td>What are the consequences of delaying in terms...</td>\n",
       "      <td>[      :     159 \\n\\n159\\n\\n   :  8 R E T P A ...</td>\n",
       "      <td>Your initiative result becomes the count on wh...</td>\n",
       "      <td>simple</td>\n",
       "      <td>[{'source': '../embed_docs/Player_s Handbook.p...</td>\n",
       "      <td>True</td>\n",
       "    </tr>\n",
       "    <tr>\n",
       "      <th>3</th>\n",
       "      <td>What are the advantages and disadvantages of b...</td>\n",
       "      <td>[ Strength: Like dwarves, gnomes are tough, bu...</td>\n",
       "      <td>As a Small creature, a gnome gains a +1 size b...</td>\n",
       "      <td>simple</td>\n",
       "      <td>[{'source': '../embed_docs/Player_s Handbook.p...</td>\n",
       "      <td>True</td>\n",
       "    </tr>\n",
       "    <tr>\n",
       "      <th>4</th>\n",
       "      <td>What motivates sorcerers to go on adventures a...</td>\n",
       "      <td>[ either an unsubstantiated boast on the part ...</td>\n",
       "      <td>The typical sorcerer adventures in order to im...</td>\n",
       "      <td>simple</td>\n",
       "      <td>[{'source': '../embed_docs/Player_s Handbook.p...</td>\n",
       "      <td>True</td>\n",
       "    </tr>\n",
       "    <tr>\n",
       "      <th>5</th>\n",
       "      <td>What are the details of the Order's Wrath spell?</td>\n",
       "      <td>[ after completing the spell, if you wish. Tre...</td>\n",
       "      <td>Order’s Wrath is an evocation spell of the Law...</td>\n",
       "      <td>reasoning</td>\n",
       "      <td>[{'source': '../embed_docs/Player_s Handbook.p...</td>\n",
       "      <td>True</td>\n",
       "    </tr>\n",
       "    <tr>\n",
       "      <th>6</th>\n",
       "      <td>How do conditions and modifiers impact skill c...</td>\n",
       "      <td>[ who is trained in them. If you don’t have Sp...</td>\n",
       "      <td>Conditions and modifiers can impact skill chec...</td>\n",
       "      <td>reasoning</td>\n",
       "      <td>[{'source': '../embed_docs/Player_s Handbook.p...</td>\n",
       "      <td>True</td>\n",
       "    </tr>\n",
       "    <tr>\n",
       "      <th>7</th>\n",
       "      <td>What are the effects of reading the text with ...</td>\n",
       "      <td>[ tation is made, you cannot change it.\\n\\nA c...</td>\n",
       "      <td>nan</td>\n",
       "      <td>multi_context</td>\n",
       "      <td>[{'source': '../embed_docs/Player_s Handbook.p...</td>\n",
       "      <td>True</td>\n",
       "    </tr>\n",
       "    <tr>\n",
       "      <th>8</th>\n",
       "      <td>What does DC represent in skill checks and how...</td>\n",
       "      <td>[ who is trained in them. If you don’t have Sp...</td>\n",
       "      <td>DC represents the Difficulty Class in skill ch...</td>\n",
       "      <td>multi_context</td>\n",
       "      <td>[{'source': '../embed_docs/Player_s Handbook.p...</td>\n",
       "      <td>True</td>\n",
       "    </tr>\n",
       "    <tr>\n",
       "      <th>9</th>\n",
       "      <td>What is the purpose of flexible chainmail in a...</td>\n",
       "      <td>[ made of narrow vertical strips of metal rive...</td>\n",
       "      <td>Flexible chainmail in armor serves the purpose...</td>\n",
       "      <td>reasoning</td>\n",
       "      <td>[{'source': '../embed_docs/Player_s Handbook.p...</td>\n",
       "      <td>True</td>\n",
       "    </tr>\n",
       "  </tbody>\n",
       "</table>\n",
       "</div>"
      ],
      "text/plain": [
       "                                            question  \\\n",
       "0  What are the effects of the spell \"Obscuring M...   \n",
       "1  What is the purpose of an untrained Heal check...   \n",
       "2  What are the consequences of delaying in terms...   \n",
       "3  What are the advantages and disadvantages of b...   \n",
       "4  What motivates sorcerers to go on adventures a...   \n",
       "5   What are the details of the Order's Wrath spell?   \n",
       "6  How do conditions and modifiers impact skill c...   \n",
       "7  What are the effects of reading the text with ...   \n",
       "8  What does DC represent in skill checks and how...   \n",
       "9  What is the purpose of flexible chainmail in a...   \n",
       "\n",
       "                                            contexts  \\\n",
       "0  [ after completing the spell, if you wish. Tre...   \n",
       "1  [, but if she misses by 5 or more, she falls (...   \n",
       "2  [      :     159 \\n\\n159\\n\\n   :  8 R E T P A ...   \n",
       "3  [ Strength: Like dwarves, gnomes are tough, bu...   \n",
       "4  [ either an unsubstantiated boast on the part ...   \n",
       "5  [ after completing the spell, if you wish. Tre...   \n",
       "6  [ who is trained in them. If you don’t have Sp...   \n",
       "7  [ tation is made, you cannot change it.\\n\\nA c...   \n",
       "8  [ who is trained in them. If you don’t have Sp...   \n",
       "9  [ made of narrow vertical strips of metal rive...   \n",
       "\n",
       "                                        ground_truth evolution_type  \\\n",
       "0  The spell creates a misty vapor that obscures ...         simple   \n",
       "1  The purpose of an untrained Heal check is to m...         simple   \n",
       "2  Your initiative result becomes the count on wh...         simple   \n",
       "3  As a Small creature, a gnome gains a +1 size b...         simple   \n",
       "4  The typical sorcerer adventures in order to im...         simple   \n",
       "5  Order’s Wrath is an evocation spell of the Law...      reasoning   \n",
       "6  Conditions and modifiers can impact skill chec...      reasoning   \n",
       "7                                                nan  multi_context   \n",
       "8  DC represents the Difficulty Class in skill ch...  multi_context   \n",
       "9  Flexible chainmail in armor serves the purpose...      reasoning   \n",
       "\n",
       "                                            metadata  episode_done  \n",
       "0  [{'source': '../embed_docs/Player_s Handbook.p...          True  \n",
       "1  [{'source': '../embed_docs/Player_s Handbook.p...          True  \n",
       "2  [{'source': '../embed_docs/Player_s Handbook.p...          True  \n",
       "3  [{'source': '../embed_docs/Player_s Handbook.p...          True  \n",
       "4  [{'source': '../embed_docs/Player_s Handbook.p...          True  \n",
       "5  [{'source': '../embed_docs/Player_s Handbook.p...          True  \n",
       "6  [{'source': '../embed_docs/Player_s Handbook.p...          True  \n",
       "7  [{'source': '../embed_docs/Player_s Handbook.p...          True  \n",
       "8  [{'source': '../embed_docs/Player_s Handbook.p...          True  \n",
       "9  [{'source': '../embed_docs/Player_s Handbook.p...          True  "
      ]
     },
     "execution_count": 22,
     "metadata": {},
     "output_type": "execute_result"
    }
   ],
   "source": [
    "testset_pd = testset.to_pandas()\n",
    "\n",
    "testset_pd"
   ]
  },
  {
   "cell_type": "code",
   "execution_count": null,
   "metadata": {},
   "outputs": [],
   "source": [
    "import pandas as pd\n",
    "from IPython.display import display, HTML\n",
    "def df_pprint(df: pd.DataFrame):\n",
    "  display(HTML(df.to_html().replace(\"\\\\n\", \"<br>\")))\n",
    "  \n",
    "df_pprint(testset_pd)"
   ]
  },
  {
   "cell_type": "code",
   "execution_count": 42,
   "metadata": {},
   "outputs": [],
   "source": [
    "from datasets import Dataset\n",
    "\n",
    "testset_dataset = Dataset.from_pandas(testset_pd)"
   ]
  },
  {
   "cell_type": "code",
   "execution_count": 45,
   "metadata": {},
   "outputs": [
    {
     "data": {
      "application/vnd.jupyter.widget-view+json": {
       "model_id": "7f18ef7e1c19462f91864565f09146dd",
       "version_major": 2,
       "version_minor": 0
      },
      "text/plain": [
       "Evaluating:   0%|          | 0/20 [00:00<?, ?it/s]"
      ]
     },
     "metadata": {},
     "output_type": "display_data"
    },
    {
     "name": "stderr",
     "output_type": "stream",
     "text": [
      "The LLM did not return a valid classification.\n"
     ]
    },
    {
     "data": {
      "text/plain": [
       "{'context_precision': 0.9000, 'context_recall': 0.9841}"
      ]
     },
     "execution_count": 45,
     "metadata": {},
     "output_type": "execute_result"
    }
   ],
   "source": [
    "from ragas.metrics import (\n",
    "    answer_relevancy,\n",
    "    faithfulness,\n",
    "    context_recall,\n",
    "    context_precision,\n",
    ")\n",
    "from ragas import evaluate\n",
    "\n",
    "result = evaluate(\n",
    "    dataset=testset_dataset,\n",
    "    metrics=[\n",
    "        context_precision,\n",
    "#        faithfulness,\n",
    "#        answer_relevancy,\n",
    "        context_recall,\n",
    "    ],\n",
    ")\n",
    "\n",
    "result"
   ]
  },
  {
   "cell_type": "markdown",
   "metadata": {},
   "source": [
    "That was with generated data. Now to use ours."
   ]
  },
  {
   "cell_type": "code",
   "execution_count": 96,
   "metadata": {},
   "outputs": [
    {
     "name": "stdout",
     "output_type": "stream",
     "text": [
      "Dataset({\n",
      "    features: ['question', 'ground_truth', 'answer', 'contexts'],\n",
      "    num_rows: 10\n",
      "})\n"
     ]
    }
   ],
   "source": [
    "from datasets import Dataset, Features, Sequence, Value\n",
    "\n",
    "# Load the JSON data\n",
    "import json\n",
    "with open(\"../docs/groundtruths.json\", \"r\") as f:\n",
    "    data = json.load(f)\n",
    "\n",
    "# Convert the list of dictionaries into a dictionary of lists\n",
    "formatted_data = {\n",
    "    \"question\": [entry[\"question\"] for entry in data],\n",
    "    \"ground_truth\": [entry[\"ground_truth\"] for entry in data],\n",
    "    \"answer\": [entry[\"answer\"] for entry in data],\n",
    "    \"contexts\": [json.loads(entry[\"contexts\"].replace(\"'\", \"\\\"\")) if isinstance(entry[\"contexts\"], str) else entry[\"contexts\"] for entry in data]\n",
    "}\n",
    "\n",
    "# Define the features\n",
    "features = Features({\n",
    "    \"question\": Value(\"string\"),\n",
    "    \"ground_truth\": Value(\"string\"),\n",
    "    \"answer\": Value(\"string\"),\n",
    "    \"contexts\": Sequence(Value(\"string\"))\n",
    "})\n",
    "\n",
    "# Create the dataset\n",
    "dataset = Dataset.from_dict(formatted_data, features=features)\n",
    "\n",
    "# Check the dataset\n",
    "print(dataset)"
   ]
  },
  {
   "cell_type": "code",
   "execution_count": 97,
   "metadata": {},
   "outputs": [
    {
     "data": {
      "application/vnd.jupyter.widget-view+json": {
       "model_id": "28630d4efc574b20856d60510b196a7d",
       "version_major": 2,
       "version_minor": 0
      },
      "text/plain": [
       "Evaluating:   0%|          | 0/40 [00:00<?, ?it/s]"
      ]
     },
     "metadata": {},
     "output_type": "display_data"
    },
    {
     "data": {
      "text/plain": [
       "{'context_precision': 0.6735, 'faithfulness': 0.6400, 'answer_relevancy': 0.8659, 'context_recall': 0.6000}"
      ]
     },
     "execution_count": 97,
     "metadata": {},
     "output_type": "execute_result"
    }
   ],
   "source": [
    "from ragas.metrics import (\n",
    "    answer_relevancy,\n",
    "    faithfulness,\n",
    "    context_recall,\n",
    "    context_precision,\n",
    ")\n",
    "from ragas import evaluate\n",
    "\n",
    "result = evaluate(\n",
    "    dataset=dataset,\n",
    "    metrics=[context_precision,\n",
    "        faithfulness,\n",
    "        answer_relevancy,\n",
    "        context_recall,\n",
    "    ],\n",
    ")\n",
    "\n",
    "result"
   ]
  },
  {
   "cell_type": "code",
   "execution_count": 101,
   "metadata": {},
   "outputs": [],
   "source": [
    "from pprint import pprint\n",
    "result_pd = result.to_pandas()\n",
    "\n",
    "result_pd.to_excel(\"result.xlsx\")"
   ]
  }
 ],
 "metadata": {
  "kernelspec": {
   "display_name": "Python 3",
   "language": "python",
   "name": "python3"
  },
  "language_info": {
   "codemirror_mode": {
    "name": "ipython",
    "version": 3
   },
   "file_extension": ".py",
   "mimetype": "text/x-python",
   "name": "python",
   "nbconvert_exporter": "python",
   "pygments_lexer": "ipython3",
   "version": "3.10.12"
  }
 },
 "nbformat": 4,
 "nbformat_minor": 2
}
