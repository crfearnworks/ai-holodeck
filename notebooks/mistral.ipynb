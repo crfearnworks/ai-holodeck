{
 "cells": [
  {
   "cell_type": "code",
   "execution_count": 4,
   "metadata": {},
   "outputs": [
    {
     "name": "stdout",
     "output_type": "stream",
     "text": [
      "Requirement already satisfied: gradio in /home/kaminaduck/code/ai-holodeck/venv/lib/python3.10/site-packages (4.25.0)\n",
      "Requirement already satisfied: jupyter in /home/kaminaduck/code/ai-holodeck/venv/lib/python3.10/site-packages (1.0.0)\n",
      "Requirement already satisfied: ipywidgets in /home/kaminaduck/code/ai-holodeck/venv/lib/python3.10/site-packages (8.1.2)\n",
      "Requirement already satisfied: ollama in /home/kaminaduck/code/ai-holodeck/venv/lib/python3.10/site-packages (0.1.8)\n",
      "Requirement already satisfied: markupsafe~=2.0 in /home/kaminaduck/code/ai-holodeck/venv/lib/python3.10/site-packages (from gradio) (2.1.5)\n",
      "Requirement already satisfied: tomlkit==0.12.0 in /home/kaminaduck/code/ai-holodeck/venv/lib/python3.10/site-packages (from gradio) (0.12.0)\n",
      "Requirement already satisfied: typer[all]<1.0,>=0.9 in /home/kaminaduck/code/ai-holodeck/venv/lib/python3.10/site-packages (from gradio) (0.12.1)\n",
      "Requirement already satisfied: jinja2<4.0 in /home/kaminaduck/code/ai-holodeck/venv/lib/python3.10/site-packages (from gradio) (3.1.3)\n",
      "Requirement already satisfied: pydantic>=2.0 in /home/kaminaduck/code/ai-holodeck/venv/lib/python3.10/site-packages (from gradio) (2.6.4)\n",
      "Requirement already satisfied: orjson~=3.0 in /home/kaminaduck/code/ai-holodeck/venv/lib/python3.10/site-packages (from gradio) (3.10.0)\n",
      "Requirement already satisfied: ruff>=0.2.2 in /home/kaminaduck/code/ai-holodeck/venv/lib/python3.10/site-packages (from gradio) (0.3.5)\n",
      "Requirement already satisfied: ffmpy in /home/kaminaduck/code/ai-holodeck/venv/lib/python3.10/site-packages (from gradio) (0.3.2)\n",
      "Requirement already satisfied: fastapi in /home/kaminaduck/code/ai-holodeck/venv/lib/python3.10/site-packages (from gradio) (0.110.1)\n",
      "Requirement already satisfied: packaging in /home/kaminaduck/code/ai-holodeck/venv/lib/python3.10/site-packages (from gradio) (24.0)\n",
      "Requirement already satisfied: gradio-client==0.15.0 in /home/kaminaduck/code/ai-holodeck/venv/lib/python3.10/site-packages (from gradio) (0.15.0)\n",
      "Requirement already satisfied: huggingface-hub>=0.19.3 in /home/kaminaduck/code/ai-holodeck/venv/lib/python3.10/site-packages (from gradio) (0.22.2)\n",
      "Requirement already satisfied: aiofiles<24.0,>=22.0 in /home/kaminaduck/code/ai-holodeck/venv/lib/python3.10/site-packages (from gradio) (23.2.1)\n",
      "Requirement already satisfied: altair<6.0,>=4.2.0 in /home/kaminaduck/code/ai-holodeck/venv/lib/python3.10/site-packages (from gradio) (5.3.0)\n",
      "Requirement already satisfied: numpy~=1.0 in /home/kaminaduck/code/ai-holodeck/venv/lib/python3.10/site-packages (from gradio) (1.26.4)\n",
      "Requirement already satisfied: pillow<11.0,>=8.0 in /home/kaminaduck/code/ai-holodeck/venv/lib/python3.10/site-packages (from gradio) (10.3.0)\n",
      "Requirement already satisfied: uvicorn>=0.14.0 in /home/kaminaduck/code/ai-holodeck/venv/lib/python3.10/site-packages (from gradio) (0.29.0)\n",
      "Requirement already satisfied: importlib-resources<7.0,>=1.3 in /home/kaminaduck/code/ai-holodeck/venv/lib/python3.10/site-packages (from gradio) (6.4.0)\n",
      "Requirement already satisfied: semantic-version~=2.0 in /home/kaminaduck/code/ai-holodeck/venv/lib/python3.10/site-packages (from gradio) (2.10.0)\n",
      "Requirement already satisfied: typing-extensions~=4.0 in /home/kaminaduck/code/ai-holodeck/venv/lib/python3.10/site-packages (from gradio) (4.11.0)\n",
      "Requirement already satisfied: pyyaml<7.0,>=5.0 in /home/kaminaduck/code/ai-holodeck/venv/lib/python3.10/site-packages (from gradio) (6.0.1)\n",
      "Requirement already satisfied: matplotlib~=3.0 in /home/kaminaduck/code/ai-holodeck/venv/lib/python3.10/site-packages (from gradio) (3.8.4)\n",
      "Requirement already satisfied: python-multipart>=0.0.9 in /home/kaminaduck/code/ai-holodeck/venv/lib/python3.10/site-packages (from gradio) (0.0.9)\n",
      "Requirement already satisfied: pydub in /home/kaminaduck/code/ai-holodeck/venv/lib/python3.10/site-packages (from gradio) (0.25.1)\n",
      "Requirement already satisfied: pandas<3.0,>=1.0 in /home/kaminaduck/code/ai-holodeck/venv/lib/python3.10/site-packages (from gradio) (2.2.1)\n",
      "Requirement already satisfied: httpx>=0.24.1 in /home/kaminaduck/code/ai-holodeck/venv/lib/python3.10/site-packages (from gradio) (0.27.0)\n",
      "Requirement already satisfied: websockets<12.0,>=10.0 in /home/kaminaduck/code/ai-holodeck/venv/lib/python3.10/site-packages (from gradio-client==0.15.0->gradio) (11.0.3)\n",
      "Requirement already satisfied: fsspec in /home/kaminaduck/code/ai-holodeck/venv/lib/python3.10/site-packages (from gradio-client==0.15.0->gradio) (2024.3.1)\n",
      "Requirement already satisfied: notebook in /home/kaminaduck/code/ai-holodeck/venv/lib/python3.10/site-packages (from jupyter) (7.1.2)\n",
      "Requirement already satisfied: jupyter-console in /home/kaminaduck/code/ai-holodeck/venv/lib/python3.10/site-packages (from jupyter) (6.6.3)\n",
      "Requirement already satisfied: nbconvert in /home/kaminaduck/code/ai-holodeck/venv/lib/python3.10/site-packages (from jupyter) (7.16.3)\n",
      "Requirement already satisfied: ipykernel in /home/kaminaduck/code/ai-holodeck/venv/lib/python3.10/site-packages (from jupyter) (6.29.4)\n",
      "Requirement already satisfied: qtconsole in /home/kaminaduck/code/ai-holodeck/venv/lib/python3.10/site-packages (from jupyter) (5.5.1)\n",
      "Requirement already satisfied: traitlets>=4.3.1 in /home/kaminaduck/code/ai-holodeck/venv/lib/python3.10/site-packages (from ipywidgets) (5.14.2)\n",
      "Requirement already satisfied: comm>=0.1.3 in /home/kaminaduck/code/ai-holodeck/venv/lib/python3.10/site-packages (from ipywidgets) (0.2.2)\n",
      "Requirement already satisfied: jupyterlab-widgets~=3.0.10 in /home/kaminaduck/code/ai-holodeck/venv/lib/python3.10/site-packages (from ipywidgets) (3.0.10)\n",
      "Requirement already satisfied: ipython>=6.1.0 in /home/kaminaduck/code/ai-holodeck/venv/lib/python3.10/site-packages (from ipywidgets) (8.23.0)\n",
      "Requirement already satisfied: widgetsnbextension~=4.0.10 in /home/kaminaduck/code/ai-holodeck/venv/lib/python3.10/site-packages (from ipywidgets) (4.0.10)\n",
      "Requirement already satisfied: jsonschema>=3.0 in /home/kaminaduck/code/ai-holodeck/venv/lib/python3.10/site-packages (from altair<6.0,>=4.2.0->gradio) (4.21.1)\n",
      "Requirement already satisfied: toolz in /home/kaminaduck/code/ai-holodeck/venv/lib/python3.10/site-packages (from altair<6.0,>=4.2.0->gradio) (0.12.1)\n",
      "Requirement already satisfied: certifi in /home/kaminaduck/code/ai-holodeck/venv/lib/python3.10/site-packages (from httpx>=0.24.1->gradio) (2024.2.2)\n",
      "Requirement already satisfied: idna in /home/kaminaduck/code/ai-holodeck/venv/lib/python3.10/site-packages (from httpx>=0.24.1->gradio) (3.6)\n",
      "Requirement already satisfied: sniffio in /home/kaminaduck/code/ai-holodeck/venv/lib/python3.10/site-packages (from httpx>=0.24.1->gradio) (1.3.1)\n",
      "Requirement already satisfied: httpcore==1.* in /home/kaminaduck/code/ai-holodeck/venv/lib/python3.10/site-packages (from httpx>=0.24.1->gradio) (1.0.5)\n",
      "Requirement already satisfied: anyio in /home/kaminaduck/code/ai-holodeck/venv/lib/python3.10/site-packages (from httpx>=0.24.1->gradio) (4.3.0)\n",
      "Requirement already satisfied: h11<0.15,>=0.13 in /home/kaminaduck/code/ai-holodeck/venv/lib/python3.10/site-packages (from httpcore==1.*->httpx>=0.24.1->gradio) (0.14.0)\n",
      "Requirement already satisfied: filelock in /home/kaminaduck/code/ai-holodeck/venv/lib/python3.10/site-packages (from huggingface-hub>=0.19.3->gradio) (3.13.3)\n",
      "Requirement already satisfied: requests in /home/kaminaduck/code/ai-holodeck/venv/lib/python3.10/site-packages (from huggingface-hub>=0.19.3->gradio) (2.31.0)\n",
      "Requirement already satisfied: tqdm>=4.42.1 in /home/kaminaduck/code/ai-holodeck/venv/lib/python3.10/site-packages (from huggingface-hub>=0.19.3->gradio) (4.66.2)\n",
      "Requirement already satisfied: jedi>=0.16 in /home/kaminaduck/code/ai-holodeck/venv/lib/python3.10/site-packages (from ipython>=6.1.0->ipywidgets) (0.19.1)\n",
      "Requirement already satisfied: pygments>=2.4.0 in /home/kaminaduck/code/ai-holodeck/venv/lib/python3.10/site-packages (from ipython>=6.1.0->ipywidgets) (2.17.2)\n",
      "Requirement already satisfied: prompt-toolkit<3.1.0,>=3.0.41 in /home/kaminaduck/code/ai-holodeck/venv/lib/python3.10/site-packages (from ipython>=6.1.0->ipywidgets) (3.0.43)\n",
      "Requirement already satisfied: pexpect>4.3 in /home/kaminaduck/code/ai-holodeck/venv/lib/python3.10/site-packages (from ipython>=6.1.0->ipywidgets) (4.9.0)\n",
      "Requirement already satisfied: stack-data in /home/kaminaduck/code/ai-holodeck/venv/lib/python3.10/site-packages (from ipython>=6.1.0->ipywidgets) (0.6.3)\n",
      "Requirement already satisfied: exceptiongroup in /home/kaminaduck/code/ai-holodeck/venv/lib/python3.10/site-packages (from ipython>=6.1.0->ipywidgets) (1.2.0)\n",
      "Requirement already satisfied: matplotlib-inline in /home/kaminaduck/code/ai-holodeck/venv/lib/python3.10/site-packages (from ipython>=6.1.0->ipywidgets) (0.1.6)\n",
      "Requirement already satisfied: decorator in /home/kaminaduck/code/ai-holodeck/venv/lib/python3.10/site-packages (from ipython>=6.1.0->ipywidgets) (5.1.1)\n",
      "Requirement already satisfied: pyparsing>=2.3.1 in /home/kaminaduck/code/ai-holodeck/venv/lib/python3.10/site-packages (from matplotlib~=3.0->gradio) (3.1.2)\n",
      "Requirement already satisfied: python-dateutil>=2.7 in /home/kaminaduck/code/ai-holodeck/venv/lib/python3.10/site-packages (from matplotlib~=3.0->gradio) (2.9.0.post0)\n",
      "Requirement already satisfied: fonttools>=4.22.0 in /home/kaminaduck/code/ai-holodeck/venv/lib/python3.10/site-packages (from matplotlib~=3.0->gradio) (4.51.0)\n",
      "Requirement already satisfied: contourpy>=1.0.1 in /home/kaminaduck/code/ai-holodeck/venv/lib/python3.10/site-packages (from matplotlib~=3.0->gradio) (1.2.1)\n",
      "Requirement already satisfied: kiwisolver>=1.3.1 in /home/kaminaduck/code/ai-holodeck/venv/lib/python3.10/site-packages (from matplotlib~=3.0->gradio) (1.4.5)\n",
      "Requirement already satisfied: cycler>=0.10 in /home/kaminaduck/code/ai-holodeck/venv/lib/python3.10/site-packages (from matplotlib~=3.0->gradio) (0.12.1)\n",
      "Requirement already satisfied: pytz>=2020.1 in /home/kaminaduck/code/ai-holodeck/venv/lib/python3.10/site-packages (from pandas<3.0,>=1.0->gradio) (2024.1)\n",
      "Requirement already satisfied: tzdata>=2022.7 in /home/kaminaduck/code/ai-holodeck/venv/lib/python3.10/site-packages (from pandas<3.0,>=1.0->gradio) (2024.1)\n",
      "Requirement already satisfied: annotated-types>=0.4.0 in /home/kaminaduck/code/ai-holodeck/venv/lib/python3.10/site-packages (from pydantic>=2.0->gradio) (0.6.0)\n",
      "Requirement already satisfied: pydantic-core==2.16.3 in /home/kaminaduck/code/ai-holodeck/venv/lib/python3.10/site-packages (from pydantic>=2.0->gradio) (2.16.3)\n",
      "\u001b[33mWARNING: typer 0.12.1 does not provide the extra 'all'\u001b[0m\u001b[33m\n",
      "\u001b[0mRequirement already satisfied: shellingham>=1.3.0 in /home/kaminaduck/code/ai-holodeck/venv/lib/python3.10/site-packages (from typer[all]<1.0,>=0.9->gradio) (1.5.4)\n",
      "Requirement already satisfied: rich>=10.11.0 in /home/kaminaduck/code/ai-holodeck/venv/lib/python3.10/site-packages (from typer[all]<1.0,>=0.9->gradio) (13.7.1)\n",
      "Requirement already satisfied: click>=8.0.0 in /home/kaminaduck/code/ai-holodeck/venv/lib/python3.10/site-packages (from typer[all]<1.0,>=0.9->gradio) (8.1.7)\n",
      "Requirement already satisfied: starlette<0.38.0,>=0.37.2 in /home/kaminaduck/code/ai-holodeck/venv/lib/python3.10/site-packages (from fastapi->gradio) (0.37.2)\n",
      "Requirement already satisfied: tornado>=6.1 in /home/kaminaduck/code/ai-holodeck/venv/lib/python3.10/site-packages (from ipykernel->jupyter) (6.4)\n",
      "Requirement already satisfied: jupyter-client>=6.1.12 in /home/kaminaduck/code/ai-holodeck/venv/lib/python3.10/site-packages (from ipykernel->jupyter) (8.6.1)\n",
      "Requirement already satisfied: pyzmq>=24 in /home/kaminaduck/code/ai-holodeck/venv/lib/python3.10/site-packages (from ipykernel->jupyter) (25.1.2)\n",
      "Requirement already satisfied: debugpy>=1.6.5 in /home/kaminaduck/code/ai-holodeck/venv/lib/python3.10/site-packages (from ipykernel->jupyter) (1.8.1)\n",
      "Requirement already satisfied: nest-asyncio in /home/kaminaduck/code/ai-holodeck/venv/lib/python3.10/site-packages (from ipykernel->jupyter) (1.6.0)\n",
      "Requirement already satisfied: psutil in /home/kaminaduck/code/ai-holodeck/venv/lib/python3.10/site-packages (from ipykernel->jupyter) (5.9.8)\n",
      "Requirement already satisfied: jupyter-core!=5.0.*,>=4.12 in /home/kaminaduck/code/ai-holodeck/venv/lib/python3.10/site-packages (from ipykernel->jupyter) (5.7.2)\n",
      "Requirement already satisfied: defusedxml in /home/kaminaduck/code/ai-holodeck/venv/lib/python3.10/site-packages (from nbconvert->jupyter) (0.7.1)\n",
      "Requirement already satisfied: nbclient>=0.5.0 in /home/kaminaduck/code/ai-holodeck/venv/lib/python3.10/site-packages (from nbconvert->jupyter) (0.10.0)\n",
      "Requirement already satisfied: jupyterlab-pygments in /home/kaminaduck/code/ai-holodeck/venv/lib/python3.10/site-packages (from nbconvert->jupyter) (0.3.0)\n",
      "Requirement already satisfied: tinycss2 in /home/kaminaduck/code/ai-holodeck/venv/lib/python3.10/site-packages (from nbconvert->jupyter) (1.2.1)\n",
      "Requirement already satisfied: pandocfilters>=1.4.1 in /home/kaminaduck/code/ai-holodeck/venv/lib/python3.10/site-packages (from nbconvert->jupyter) (1.5.1)\n",
      "Requirement already satisfied: bleach!=5.0.0 in /home/kaminaduck/code/ai-holodeck/venv/lib/python3.10/site-packages (from nbconvert->jupyter) (6.1.0)\n",
      "Requirement already satisfied: mistune<4,>=2.0.3 in /home/kaminaduck/code/ai-holodeck/venv/lib/python3.10/site-packages (from nbconvert->jupyter) (3.0.2)\n",
      "Requirement already satisfied: beautifulsoup4 in /home/kaminaduck/code/ai-holodeck/venv/lib/python3.10/site-packages (from nbconvert->jupyter) (4.12.3)\n",
      "Requirement already satisfied: nbformat>=5.7 in /home/kaminaduck/code/ai-holodeck/venv/lib/python3.10/site-packages (from nbconvert->jupyter) (5.10.4)\n",
      "Requirement already satisfied: jupyterlab-server<3,>=2.22.1 in /home/kaminaduck/code/ai-holodeck/venv/lib/python3.10/site-packages (from notebook->jupyter) (2.25.4)\n",
      "Requirement already satisfied: jupyterlab<4.2,>=4.1.1 in /home/kaminaduck/code/ai-holodeck/venv/lib/python3.10/site-packages (from notebook->jupyter) (4.1.5)\n",
      "Requirement already satisfied: notebook-shim<0.3,>=0.2 in /home/kaminaduck/code/ai-holodeck/venv/lib/python3.10/site-packages (from notebook->jupyter) (0.2.4)\n",
      "Requirement already satisfied: jupyter-server<3,>=2.4.0 in /home/kaminaduck/code/ai-holodeck/venv/lib/python3.10/site-packages (from notebook->jupyter) (2.13.0)\n",
      "Requirement already satisfied: qtpy>=2.4.0 in /home/kaminaduck/code/ai-holodeck/venv/lib/python3.10/site-packages (from qtconsole->jupyter) (2.4.1)\n",
      "Requirement already satisfied: six>=1.9.0 in /home/kaminaduck/code/ai-holodeck/venv/lib/python3.10/site-packages (from bleach!=5.0.0->nbconvert->jupyter) (1.16.0)\n",
      "Requirement already satisfied: webencodings in /home/kaminaduck/code/ai-holodeck/venv/lib/python3.10/site-packages (from bleach!=5.0.0->nbconvert->jupyter) (0.5.1)\n",
      "Requirement already satisfied: parso<0.9.0,>=0.8.3 in /home/kaminaduck/code/ai-holodeck/venv/lib/python3.10/site-packages (from jedi>=0.16->ipython>=6.1.0->ipywidgets) (0.8.4)\n",
      "Requirement already satisfied: referencing>=0.28.4 in /home/kaminaduck/code/ai-holodeck/venv/lib/python3.10/site-packages (from jsonschema>=3.0->altair<6.0,>=4.2.0->gradio) (0.34.0)\n",
      "Requirement already satisfied: rpds-py>=0.7.1 in /home/kaminaduck/code/ai-holodeck/venv/lib/python3.10/site-packages (from jsonschema>=3.0->altair<6.0,>=4.2.0->gradio) (0.18.0)\n",
      "Requirement already satisfied: jsonschema-specifications>=2023.03.6 in /home/kaminaduck/code/ai-holodeck/venv/lib/python3.10/site-packages (from jsonschema>=3.0->altair<6.0,>=4.2.0->gradio) (2023.12.1)\n",
      "Requirement already satisfied: attrs>=22.2.0 in /home/kaminaduck/code/ai-holodeck/venv/lib/python3.10/site-packages (from jsonschema>=3.0->altair<6.0,>=4.2.0->gradio) (23.2.0)\n",
      "Requirement already satisfied: platformdirs>=2.5 in /home/kaminaduck/code/ai-holodeck/venv/lib/python3.10/site-packages (from jupyter-core!=5.0.*,>=4.12->ipykernel->jupyter) (4.2.0)\n",
      "Requirement already satisfied: argon2-cffi in /home/kaminaduck/code/ai-holodeck/venv/lib/python3.10/site-packages (from jupyter-server<3,>=2.4.0->notebook->jupyter) (23.1.0)\n",
      "Requirement already satisfied: jupyter-events>=0.9.0 in /home/kaminaduck/code/ai-holodeck/venv/lib/python3.10/site-packages (from jupyter-server<3,>=2.4.0->notebook->jupyter) (0.10.0)\n",
      "Requirement already satisfied: overrides in /home/kaminaduck/code/ai-holodeck/venv/lib/python3.10/site-packages (from jupyter-server<3,>=2.4.0->notebook->jupyter) (7.7.0)\n",
      "Requirement already satisfied: prometheus-client in /home/kaminaduck/code/ai-holodeck/venv/lib/python3.10/site-packages (from jupyter-server<3,>=2.4.0->notebook->jupyter) (0.20.0)\n",
      "Requirement already satisfied: jupyter-server-terminals in /home/kaminaduck/code/ai-holodeck/venv/lib/python3.10/site-packages (from jupyter-server<3,>=2.4.0->notebook->jupyter) (0.5.3)\n",
      "Requirement already satisfied: terminado>=0.8.3 in /home/kaminaduck/code/ai-holodeck/venv/lib/python3.10/site-packages (from jupyter-server<3,>=2.4.0->notebook->jupyter) (0.18.1)\n",
      "Requirement already satisfied: send2trash>=1.8.2 in /home/kaminaduck/code/ai-holodeck/venv/lib/python3.10/site-packages (from jupyter-server<3,>=2.4.0->notebook->jupyter) (1.8.3)\n",
      "Requirement already satisfied: websocket-client in /home/kaminaduck/code/ai-holodeck/venv/lib/python3.10/site-packages (from jupyter-server<3,>=2.4.0->notebook->jupyter) (1.7.0)\n",
      "Requirement already satisfied: jupyter-lsp>=2.0.0 in /home/kaminaduck/code/ai-holodeck/venv/lib/python3.10/site-packages (from jupyterlab<4.2,>=4.1.1->notebook->jupyter) (2.2.4)\n",
      "Requirement already satisfied: tomli in /home/kaminaduck/code/ai-holodeck/venv/lib/python3.10/site-packages (from jupyterlab<4.2,>=4.1.1->notebook->jupyter) (2.0.1)\n",
      "Requirement already satisfied: async-lru>=1.0.0 in /home/kaminaduck/code/ai-holodeck/venv/lib/python3.10/site-packages (from jupyterlab<4.2,>=4.1.1->notebook->jupyter) (2.0.4)\n",
      "Requirement already satisfied: json5>=0.9.0 in /home/kaminaduck/code/ai-holodeck/venv/lib/python3.10/site-packages (from jupyterlab-server<3,>=2.22.1->notebook->jupyter) (0.9.24)\n",
      "Requirement already satisfied: babel>=2.10 in /home/kaminaduck/code/ai-holodeck/venv/lib/python3.10/site-packages (from jupyterlab-server<3,>=2.22.1->notebook->jupyter) (2.14.0)\n",
      "Requirement already satisfied: fastjsonschema>=2.15 in /home/kaminaduck/code/ai-holodeck/venv/lib/python3.10/site-packages (from nbformat>=5.7->nbconvert->jupyter) (2.19.1)\n",
      "Requirement already satisfied: ptyprocess>=0.5 in /home/kaminaduck/code/ai-holodeck/venv/lib/python3.10/site-packages (from pexpect>4.3->ipython>=6.1.0->ipywidgets) (0.7.0)\n",
      "Requirement already satisfied: wcwidth in /home/kaminaduck/code/ai-holodeck/venv/lib/python3.10/site-packages (from prompt-toolkit<3.1.0,>=3.0.41->ipython>=6.1.0->ipywidgets) (0.2.13)\n",
      "Requirement already satisfied: charset-normalizer<4,>=2 in /home/kaminaduck/code/ai-holodeck/venv/lib/python3.10/site-packages (from requests->huggingface-hub>=0.19.3->gradio) (3.3.2)\n",
      "Requirement already satisfied: urllib3<3,>=1.21.1 in /home/kaminaduck/code/ai-holodeck/venv/lib/python3.10/site-packages (from requests->huggingface-hub>=0.19.3->gradio) (2.2.1)\n",
      "Requirement already satisfied: markdown-it-py>=2.2.0 in /home/kaminaduck/code/ai-holodeck/venv/lib/python3.10/site-packages (from rich>=10.11.0->typer[all]<1.0,>=0.9->gradio) (3.0.0)\n",
      "Requirement already satisfied: soupsieve>1.2 in /home/kaminaduck/code/ai-holodeck/venv/lib/python3.10/site-packages (from beautifulsoup4->nbconvert->jupyter) (2.5)\n",
      "Requirement already satisfied: executing>=1.2.0 in /home/kaminaduck/code/ai-holodeck/venv/lib/python3.10/site-packages (from stack-data->ipython>=6.1.0->ipywidgets) (2.0.1)\n",
      "Requirement already satisfied: asttokens>=2.1.0 in /home/kaminaduck/code/ai-holodeck/venv/lib/python3.10/site-packages (from stack-data->ipython>=6.1.0->ipywidgets) (2.4.1)\n",
      "Requirement already satisfied: pure-eval in /home/kaminaduck/code/ai-holodeck/venv/lib/python3.10/site-packages (from stack-data->ipython>=6.1.0->ipywidgets) (0.2.2)\n",
      "Requirement already satisfied: python-json-logger>=2.0.4 in /home/kaminaduck/code/ai-holodeck/venv/lib/python3.10/site-packages (from jupyter-events>=0.9.0->jupyter-server<3,>=2.4.0->notebook->jupyter) (2.0.7)\n",
      "Requirement already satisfied: rfc3986-validator>=0.1.1 in /home/kaminaduck/code/ai-holodeck/venv/lib/python3.10/site-packages (from jupyter-events>=0.9.0->jupyter-server<3,>=2.4.0->notebook->jupyter) (0.1.1)\n",
      "Requirement already satisfied: rfc3339-validator in /home/kaminaduck/code/ai-holodeck/venv/lib/python3.10/site-packages (from jupyter-events>=0.9.0->jupyter-server<3,>=2.4.0->notebook->jupyter) (0.1.4)\n",
      "Requirement already satisfied: mdurl~=0.1 in /home/kaminaduck/code/ai-holodeck/venv/lib/python3.10/site-packages (from markdown-it-py>=2.2.0->rich>=10.11.0->typer[all]<1.0,>=0.9->gradio) (0.1.2)\n",
      "Requirement already satisfied: argon2-cffi-bindings in /home/kaminaduck/code/ai-holodeck/venv/lib/python3.10/site-packages (from argon2-cffi->jupyter-server<3,>=2.4.0->notebook->jupyter) (21.2.0)\n",
      "Requirement already satisfied: jsonpointer>1.13 in /home/kaminaduck/code/ai-holodeck/venv/lib/python3.10/site-packages (from jsonschema>=3.0->altair<6.0,>=4.2.0->gradio) (2.4)\n",
      "Requirement already satisfied: webcolors>=1.11 in /home/kaminaduck/code/ai-holodeck/venv/lib/python3.10/site-packages (from jsonschema>=3.0->altair<6.0,>=4.2.0->gradio) (1.13)\n",
      "Requirement already satisfied: isoduration in /home/kaminaduck/code/ai-holodeck/venv/lib/python3.10/site-packages (from jsonschema>=3.0->altair<6.0,>=4.2.0->gradio) (20.11.0)\n",
      "Requirement already satisfied: uri-template in /home/kaminaduck/code/ai-holodeck/venv/lib/python3.10/site-packages (from jsonschema>=3.0->altair<6.0,>=4.2.0->gradio) (1.3.0)\n",
      "Requirement already satisfied: fqdn in /home/kaminaduck/code/ai-holodeck/venv/lib/python3.10/site-packages (from jsonschema>=3.0->altair<6.0,>=4.2.0->gradio) (1.5.1)\n",
      "Requirement already satisfied: cffi>=1.0.1 in /home/kaminaduck/code/ai-holodeck/venv/lib/python3.10/site-packages (from argon2-cffi-bindings->argon2-cffi->jupyter-server<3,>=2.4.0->notebook->jupyter) (1.16.0)\n",
      "Requirement already satisfied: pycparser in /home/kaminaduck/code/ai-holodeck/venv/lib/python3.10/site-packages (from cffi>=1.0.1->argon2-cffi-bindings->argon2-cffi->jupyter-server<3,>=2.4.0->notebook->jupyter) (2.22)\n",
      "Requirement already satisfied: arrow>=0.15.0 in /home/kaminaduck/code/ai-holodeck/venv/lib/python3.10/site-packages (from isoduration->jsonschema>=3.0->altair<6.0,>=4.2.0->gradio) (1.3.0)\n",
      "Requirement already satisfied: types-python-dateutil>=2.8.10 in /home/kaminaduck/code/ai-holodeck/venv/lib/python3.10/site-packages (from arrow>=0.15.0->isoduration->jsonschema>=3.0->altair<6.0,>=4.2.0->gradio) (2.9.0.20240316)\n",
      "Note: you may need to restart the kernel to use updated packages.\n"
     ]
    }
   ],
   "source": [
    "pip install gradio jupyter ipywidgets ollama"
   ]
  },
  {
   "cell_type": "code",
   "execution_count": 5,
   "metadata": {},
   "outputs": [
    {
     "data": {
      "text/plain": [
       "{'status': 'success'}"
      ]
     },
     "execution_count": 5,
     "metadata": {},
     "output_type": "execute_result"
    }
   ],
   "source": [
    "import ollama\n",
    "ollama.pull('mistral')"
   ]
  },
  {
   "cell_type": "code",
   "execution_count": 6,
   "metadata": {},
   "outputs": [
    {
     "name": "stdout",
     "output_type": "stream",
     "text": [
      " The color of the sky appears blue due to a phenomenon called Rayleigh scattering. When the sun's rays enter Earth's atmosphere, they collide with molecules and particles in the air, such as nitrogen and oxygen. Blue light has shorter wavelengths and gets scattered more easily than other colors, causing the sky to appear blue during the day. This effect is most noticeable when the sun is relatively low on the horizon, which is why we often see beautiful blue skies at dawn and dusk.\n"
     ]
    }
   ],
   "source": [
    "from ollama import Client\n",
    "client = Client(host='http://localhost:11434')\n",
    "response = client.chat(model='mistral', messages=[\n",
    "  {\n",
    "    'role': 'user',\n",
    "    'content': 'Why is the sky blue?',\n",
    "  },\n",
    "])\n",
    "print(response['message']['content'])"
   ]
  },
  {
   "cell_type": "code",
   "execution_count": null,
   "metadata": {},
   "outputs": [],
   "source": [
    "import ollama\n",
    "\n",
    "stream = ollama.chat(\n",
    "    model='mistral',\n",
    "    messages=[{'role': 'user', 'content': 'Why is the sky blue?'}],\n",
    "    stream=True,\n",
    ")\n",
    "\n",
    "for chunk in stream:\n",
    "  print(chunk['message']['content'], end='', flush=True)"
   ]
  },
  {
   "cell_type": "code",
   "execution_count": null,
   "metadata": {},
   "outputs": [],
   "source": [
    "ollama.list()"
   ]
  },
  {
   "cell_type": "code",
   "execution_count": null,
   "metadata": {},
   "outputs": [],
   "source": [
    "ollama.show('mistral:7b')"
   ]
  },
  {
   "cell_type": "code",
   "execution_count": 7,
   "metadata": {},
   "outputs": [],
   "source": [
    "import gradio as gr\n",
    "from ollama import Client\n",
    "\n",
    "def mistralChat(text):\n",
    "    \n",
    "    client = Client(host='http://localhost:11434')\n",
    "    response = client.chat(model='mistral', messages=[\n",
    "    {\n",
    "        'role': 'user',\n",
    "        'content': text,\n",
    "    },\n",
    "    ])\n",
    "    return response['message']['content']"
   ]
  },
  {
   "cell_type": "code",
   "execution_count": 8,
   "metadata": {},
   "outputs": [
    {
     "name": "stdout",
     "output_type": "stream",
     "text": [
      "Running on local URL:  http://127.0.0.1:7861\n",
      "Running on public URL: https://fad33f6c11c6c44eae.gradio.live\n",
      "\n",
      "This share link expires in 72 hours. For free permanent hosting and GPU upgrades, run `gradio deploy` from Terminal to deploy to Spaces (https://huggingface.co/spaces)\n"
     ]
    },
    {
     "data": {
      "text/html": [
       "<div><iframe src=\"https://fad33f6c11c6c44eae.gradio.live\" width=\"100%\" height=\"500\" allow=\"autoplay; camera; microphone; clipboard-read; clipboard-write;\" frameborder=\"0\" allowfullscreen></iframe></div>"
      ],
      "text/plain": [
       "<IPython.core.display.HTML object>"
      ]
     },
     "metadata": {},
     "output_type": "display_data"
    },
    {
     "data": {
      "text/plain": []
     },
     "execution_count": 8,
     "metadata": {},
     "output_type": "execute_result"
    }
   ],
   "source": [
    "with gr.Blocks() as server:\n",
    "    with gr.Tab(\"LLM Inferencing\"):\n",
    "    \n",
    "        model_input = gr.Textbox(label=\"Your Question:\", \n",
    "                                value=\"What’s your question?\", interactive=True)\n",
    "        ask_button = gr.Button(\"Ask\")\n",
    "        model_output = gr.Textbox(label=\"The Answer:\", interactive=False, \n",
    "                                value=\"Answer goes here...\")\n",
    "    \n",
    "    ask_button.click(mistralChat, inputs=[model_input], outputs=[model_output])\n",
    "\n",
    "server.launch(share=True)"
   ]
  }
 ],
 "metadata": {
  "kernelspec": {
   "display_name": "venv",
   "language": "python",
   "name": "python3"
  },
  "language_info": {
   "codemirror_mode": {
    "name": "ipython",
    "version": 3
   },
   "file_extension": ".py",
   "mimetype": "text/x-python",
   "name": "python",
   "nbconvert_exporter": "python",
   "pygments_lexer": "ipython3",
   "version": "3.10.12"
  }
 },
 "nbformat": 4,
 "nbformat_minor": 2
}
