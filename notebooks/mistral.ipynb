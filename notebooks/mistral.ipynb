{
 "cells": [
  {
   "cell_type": "code",
   "execution_count": null,
   "metadata": {},
   "outputs": [],
   "source": [
    "pip install gradio jupyter ipywidgets ollama"
   ]
  },
  {
   "cell_type": "code",
   "execution_count": null,
   "metadata": {},
   "outputs": [],
   "source": [
    "import ollama\n",
    "ollama.pull('mistral')"
   ]
  },
  {
   "cell_type": "code",
   "execution_count": null,
   "metadata": {},
   "outputs": [],
   "source": [
    "from ollama import Client\n",
    "client = Client(host='http://localhost:11434')\n",
    "response = client.chat(model='mistral', messages=[\n",
    "  {\n",
    "    'role': 'user',\n",
    "    'content': 'Why is the sky blue?',\n",
    "  },\n",
    "])\n",
    "print(response['message']['content'])"
   ]
  },
  {
   "cell_type": "code",
   "execution_count": null,
   "metadata": {},
   "outputs": [],
   "source": [
    "import ollama\n",
    "\n",
    "stream = ollama.chat(\n",
    "    model='mistral',\n",
    "    messages=[{'role': 'user', 'content': 'Why is the sky blue?'}],\n",
    "    stream=True,\n",
    ")\n",
    "\n",
    "for chunk in stream:\n",
    "  print(chunk['message']['content'], end='', flush=True)"
   ]
  },
  {
   "cell_type": "code",
   "execution_count": null,
   "metadata": {},
   "outputs": [],
   "source": [
    "ollama.list()"
   ]
  },
  {
   "cell_type": "code",
   "execution_count": null,
   "metadata": {},
   "outputs": [],
   "source": [
    "ollama.show('gemma:7b')"
   ]
  },
  {
   "cell_type": "code",
   "execution_count": null,
   "metadata": {},
   "outputs": [],
   "source": [
    "model_to_test = 'mistral:7b'\n",
    "\n",
    "\n",
    "try: \n",
    "    ollama.show(model_to_test)\n",
    "    print(ollama.show(model_to_test))\n",
    "except ollama.ResponseError as e:\n",
    "    print(f\"Pulling {model_to_test}...\")\n",
    "    ollama.pull(model_to_test)"
   ]
  },
  {
   "cell_type": "code",
   "execution_count": null,
   "metadata": {},
   "outputs": [],
   "source": [
    "ollama.delete(model_to_test)"
   ]
  },
  {
   "cell_type": "code",
   "execution_count": null,
   "metadata": {},
   "outputs": [],
   "source": [
    "import gradio as gr\n",
    "from ollama import Client\n",
    "\n",
    "def mistralChat(text):\n",
    "    \n",
    "    client = Client(host='http://localhost:11434')\n",
    "    response = client.chat(model='mistral', messages=[\n",
    "    {\n",
    "        'role': 'user',\n",
    "        'content': text,\n",
    "    },\n",
    "    ])\n",
    "    return response['message']['content']"
   ]
  },
  {
   "cell_type": "code",
   "execution_count": null,
   "metadata": {},
   "outputs": [],
   "source": [
    "ollamaList = [\"mistral\"]\n",
    "with gr.Blocks() as server:\n",
    "    with gr.Dropdown(choices=ollamaList, value=\"mistral\", type=\"value\",):\n",
    "    \n",
    "        model_input = gr.Textbox(label=\"Your Question:\", \n",
    "                                value=\"What’s your question?\", interactive=True)\n",
    "        ask_button = gr.Button(\"Ask\")\n",
    "        model_output = gr.Textbox(label=\"The Answer:\", interactive=False, \n",
    "                                value=\"Answer goes here...\")\n",
    "    \n",
    "    ask_button.click(mistralChat, inputs=[model_input], outputs=[model_output])\n",
    "\n",
    "server.launch(share=True)"
   ]
  }
 ],
 "metadata": {
  "kernelspec": {
   "display_name": "venv",
   "language": "python",
   "name": "python3"
  },
  "language_info": {
   "codemirror_mode": {
    "name": "ipython",
    "version": 3
   },
   "file_extension": ".py",
   "mimetype": "text/x-python",
   "name": "python",
   "nbconvert_exporter": "python",
   "pygments_lexer": "ipython3",
   "version": "3.10.12"
  }
 },
 "nbformat": 4,
 "nbformat_minor": 2
}
