{
 "cells": [
  {
   "cell_type": "code",
   "execution_count": 23,
   "metadata": {},
   "outputs": [
    {
     "name": "stderr",
     "output_type": "stream",
     "text": [
      "huggingface/tokenizers: The current process just got forked, after parallelism has already been used. Disabling parallelism to avoid deadlocks...\n",
      "To disable this warning, you can either:\n",
      "\t- Avoid using `tokenizers` before the fork if possible\n",
      "\t- Explicitly set the environment variable TOKENIZERS_PARALLELISM=(true | false)\n"
     ]
    },
    {
     "name": "stdout",
     "output_type": "stream",
     "text": [
      "Requirement already satisfied: gradio in /home/kaminaduck/code/ai-holodeck/venv/lib/python3.10/site-packages (4.25.0)\n",
      "Requirement already satisfied: torch in /home/kaminaduck/code/ai-holodeck/venv/lib/python3.10/site-packages (2.2.2)\n",
      "Requirement already satisfied: jupyter in /home/kaminaduck/code/ai-holodeck/venv/lib/python3.10/site-packages (1.0.0)\n",
      "Requirement already satisfied: ipywidgets in /home/kaminaduck/code/ai-holodeck/venv/lib/python3.10/site-packages (8.1.2)\n",
      "Requirement already satisfied: transformers in /home/kaminaduck/code/ai-holodeck/venv/lib/python3.10/site-packages (4.39.3)\n",
      "Collecting ollama\n",
      "  Downloading ollama-0.1.8-py3-none-any.whl (9.4 kB)\n",
      "Requirement already satisfied: semantic-version~=2.0 in /home/kaminaduck/code/ai-holodeck/venv/lib/python3.10/site-packages (from gradio) (2.10.0)\n",
      "Requirement already satisfied: packaging in /home/kaminaduck/code/ai-holodeck/venv/lib/python3.10/site-packages (from gradio) (24.0)\n",
      "Requirement already satisfied: ruff>=0.2.2 in /home/kaminaduck/code/ai-holodeck/venv/lib/python3.10/site-packages (from gradio) (0.3.5)\n",
      "Requirement already satisfied: matplotlib~=3.0 in /home/kaminaduck/code/ai-holodeck/venv/lib/python3.10/site-packages (from gradio) (3.8.4)\n",
      "Requirement already satisfied: altair<6.0,>=4.2.0 in /home/kaminaduck/code/ai-holodeck/venv/lib/python3.10/site-packages (from gradio) (5.3.0)\n",
      "Requirement already satisfied: typer[all]<1.0,>=0.9 in /home/kaminaduck/code/ai-holodeck/venv/lib/python3.10/site-packages (from gradio) (0.12.1)\n",
      "Requirement already satisfied: uvicorn>=0.14.0 in /home/kaminaduck/code/ai-holodeck/venv/lib/python3.10/site-packages (from gradio) (0.29.0)\n",
      "Requirement already satisfied: pyyaml<7.0,>=5.0 in /home/kaminaduck/code/ai-holodeck/venv/lib/python3.10/site-packages (from gradio) (6.0.1)\n",
      "Requirement already satisfied: fastapi in /home/kaminaduck/code/ai-holodeck/venv/lib/python3.10/site-packages (from gradio) (0.110.1)\n",
      "Requirement already satisfied: importlib-resources<7.0,>=1.3 in /home/kaminaduck/code/ai-holodeck/venv/lib/python3.10/site-packages (from gradio) (6.4.0)\n",
      "Requirement already satisfied: typing-extensions~=4.0 in /home/kaminaduck/code/ai-holodeck/venv/lib/python3.10/site-packages (from gradio) (4.11.0)\n",
      "Requirement already satisfied: pydantic>=2.0 in /home/kaminaduck/code/ai-holodeck/venv/lib/python3.10/site-packages (from gradio) (2.6.4)\n",
      "Requirement already satisfied: numpy~=1.0 in /home/kaminaduck/code/ai-holodeck/venv/lib/python3.10/site-packages (from gradio) (1.26.4)\n",
      "Requirement already satisfied: python-multipart>=0.0.9 in /home/kaminaduck/code/ai-holodeck/venv/lib/python3.10/site-packages (from gradio) (0.0.9)\n",
      "Requirement already satisfied: tomlkit==0.12.0 in /home/kaminaduck/code/ai-holodeck/venv/lib/python3.10/site-packages (from gradio) (0.12.0)\n",
      "Requirement already satisfied: pandas<3.0,>=1.0 in /home/kaminaduck/code/ai-holodeck/venv/lib/python3.10/site-packages (from gradio) (2.2.1)\n",
      "Requirement already satisfied: ffmpy in /home/kaminaduck/code/ai-holodeck/venv/lib/python3.10/site-packages (from gradio) (0.3.2)\n",
      "Requirement already satisfied: pydub in /home/kaminaduck/code/ai-holodeck/venv/lib/python3.10/site-packages (from gradio) (0.25.1)\n",
      "Requirement already satisfied: orjson~=3.0 in /home/kaminaduck/code/ai-holodeck/venv/lib/python3.10/site-packages (from gradio) (3.10.0)\n",
      "Requirement already satisfied: aiofiles<24.0,>=22.0 in /home/kaminaduck/code/ai-holodeck/venv/lib/python3.10/site-packages (from gradio) (23.2.1)\n",
      "Requirement already satisfied: gradio-client==0.15.0 in /home/kaminaduck/code/ai-holodeck/venv/lib/python3.10/site-packages (from gradio) (0.15.0)\n",
      "Requirement already satisfied: httpx>=0.24.1 in /home/kaminaduck/code/ai-holodeck/venv/lib/python3.10/site-packages (from gradio) (0.27.0)\n",
      "Requirement already satisfied: huggingface-hub>=0.19.3 in /home/kaminaduck/code/ai-holodeck/venv/lib/python3.10/site-packages (from gradio) (0.22.2)\n",
      "Requirement already satisfied: markupsafe~=2.0 in /home/kaminaduck/code/ai-holodeck/venv/lib/python3.10/site-packages (from gradio) (2.1.5)\n",
      "Requirement already satisfied: pillow<11.0,>=8.0 in /home/kaminaduck/code/ai-holodeck/venv/lib/python3.10/site-packages (from gradio) (10.3.0)\n",
      "Requirement already satisfied: jinja2<4.0 in /home/kaminaduck/code/ai-holodeck/venv/lib/python3.10/site-packages (from gradio) (3.1.3)\n",
      "Requirement already satisfied: websockets<12.0,>=10.0 in /home/kaminaduck/code/ai-holodeck/venv/lib/python3.10/site-packages (from gradio-client==0.15.0->gradio) (11.0.3)\n",
      "Requirement already satisfied: fsspec in /home/kaminaduck/code/ai-holodeck/venv/lib/python3.10/site-packages (from gradio-client==0.15.0->gradio) (2024.3.1)\n",
      "Requirement already satisfied: nvidia-curand-cu12==10.3.2.106 in /home/kaminaduck/code/ai-holodeck/venv/lib/python3.10/site-packages (from torch) (10.3.2.106)\n",
      "Requirement already satisfied: nvidia-cufft-cu12==11.0.2.54 in /home/kaminaduck/code/ai-holodeck/venv/lib/python3.10/site-packages (from torch) (11.0.2.54)\n",
      "Requirement already satisfied: networkx in /home/kaminaduck/code/ai-holodeck/venv/lib/python3.10/site-packages (from torch) (3.3)\n",
      "Requirement already satisfied: nvidia-cusparse-cu12==12.1.0.106 in /home/kaminaduck/code/ai-holodeck/venv/lib/python3.10/site-packages (from torch) (12.1.0.106)\n",
      "Requirement already satisfied: nvidia-cuda-cupti-cu12==12.1.105 in /home/kaminaduck/code/ai-holodeck/venv/lib/python3.10/site-packages (from torch) (12.1.105)\n",
      "Requirement already satisfied: sympy in /home/kaminaduck/code/ai-holodeck/venv/lib/python3.10/site-packages (from torch) (1.12)\n",
      "Requirement already satisfied: nvidia-cusolver-cu12==11.4.5.107 in /home/kaminaduck/code/ai-holodeck/venv/lib/python3.10/site-packages (from torch) (11.4.5.107)\n",
      "Requirement already satisfied: triton==2.2.0 in /home/kaminaduck/code/ai-holodeck/venv/lib/python3.10/site-packages (from torch) (2.2.0)\n",
      "Requirement already satisfied: filelock in /home/kaminaduck/code/ai-holodeck/venv/lib/python3.10/site-packages (from torch) (3.13.3)\n",
      "Requirement already satisfied: nvidia-cuda-nvrtc-cu12==12.1.105 in /home/kaminaduck/code/ai-holodeck/venv/lib/python3.10/site-packages (from torch) (12.1.105)\n",
      "Requirement already satisfied: nvidia-nccl-cu12==2.19.3 in /home/kaminaduck/code/ai-holodeck/venv/lib/python3.10/site-packages (from torch) (2.19.3)\n",
      "Requirement already satisfied: nvidia-cublas-cu12==12.1.3.1 in /home/kaminaduck/code/ai-holodeck/venv/lib/python3.10/site-packages (from torch) (12.1.3.1)\n",
      "Requirement already satisfied: nvidia-nvtx-cu12==12.1.105 in /home/kaminaduck/code/ai-holodeck/venv/lib/python3.10/site-packages (from torch) (12.1.105)\n",
      "Requirement already satisfied: nvidia-cudnn-cu12==8.9.2.26 in /home/kaminaduck/code/ai-holodeck/venv/lib/python3.10/site-packages (from torch) (8.9.2.26)\n",
      "Requirement already satisfied: nvidia-cuda-runtime-cu12==12.1.105 in /home/kaminaduck/code/ai-holodeck/venv/lib/python3.10/site-packages (from torch) (12.1.105)\n",
      "Requirement already satisfied: nvidia-nvjitlink-cu12 in /home/kaminaduck/code/ai-holodeck/venv/lib/python3.10/site-packages (from nvidia-cusolver-cu12==11.4.5.107->torch) (12.4.127)\n",
      "Requirement already satisfied: notebook in /home/kaminaduck/code/ai-holodeck/venv/lib/python3.10/site-packages (from jupyter) (7.1.2)\n",
      "Requirement already satisfied: nbconvert in /home/kaminaduck/code/ai-holodeck/venv/lib/python3.10/site-packages (from jupyter) (7.16.3)\n",
      "Requirement already satisfied: qtconsole in /home/kaminaduck/code/ai-holodeck/venv/lib/python3.10/site-packages (from jupyter) (5.5.1)\n",
      "Requirement already satisfied: ipykernel in /home/kaminaduck/code/ai-holodeck/venv/lib/python3.10/site-packages (from jupyter) (6.29.4)\n",
      "Requirement already satisfied: jupyter-console in /home/kaminaduck/code/ai-holodeck/venv/lib/python3.10/site-packages (from jupyter) (6.6.3)\n",
      "Requirement already satisfied: comm>=0.1.3 in /home/kaminaduck/code/ai-holodeck/venv/lib/python3.10/site-packages (from ipywidgets) (0.2.2)\n",
      "Requirement already satisfied: widgetsnbextension~=4.0.10 in /home/kaminaduck/code/ai-holodeck/venv/lib/python3.10/site-packages (from ipywidgets) (4.0.10)\n",
      "Requirement already satisfied: traitlets>=4.3.1 in /home/kaminaduck/code/ai-holodeck/venv/lib/python3.10/site-packages (from ipywidgets) (5.14.2)\n",
      "Requirement already satisfied: jupyterlab-widgets~=3.0.10 in /home/kaminaduck/code/ai-holodeck/venv/lib/python3.10/site-packages (from ipywidgets) (3.0.10)\n",
      "Requirement already satisfied: ipython>=6.1.0 in /home/kaminaduck/code/ai-holodeck/venv/lib/python3.10/site-packages (from ipywidgets) (8.23.0)\n",
      "Requirement already satisfied: requests in /home/kaminaduck/code/ai-holodeck/venv/lib/python3.10/site-packages (from transformers) (2.31.0)\n",
      "Requirement already satisfied: regex!=2019.12.17 in /home/kaminaduck/code/ai-holodeck/venv/lib/python3.10/site-packages (from transformers) (2023.12.25)\n",
      "Requirement already satisfied: tokenizers<0.19,>=0.14 in /home/kaminaduck/code/ai-holodeck/venv/lib/python3.10/site-packages (from transformers) (0.15.2)\n",
      "Requirement already satisfied: safetensors>=0.4.1 in /home/kaminaduck/code/ai-holodeck/venv/lib/python3.10/site-packages (from transformers) (0.4.2)\n",
      "Requirement already satisfied: tqdm>=4.27 in /home/kaminaduck/code/ai-holodeck/venv/lib/python3.10/site-packages (from transformers) (4.66.2)\n",
      "Requirement already satisfied: toolz in /home/kaminaduck/code/ai-holodeck/venv/lib/python3.10/site-packages (from altair<6.0,>=4.2.0->gradio) (0.12.1)\n",
      "Requirement already satisfied: jsonschema>=3.0 in /home/kaminaduck/code/ai-holodeck/venv/lib/python3.10/site-packages (from altair<6.0,>=4.2.0->gradio) (4.21.1)\n",
      "Requirement already satisfied: idna in /home/kaminaduck/code/ai-holodeck/venv/lib/python3.10/site-packages (from httpx>=0.24.1->gradio) (3.6)\n",
      "Requirement already satisfied: certifi in /home/kaminaduck/code/ai-holodeck/venv/lib/python3.10/site-packages (from httpx>=0.24.1->gradio) (2024.2.2)\n",
      "Requirement already satisfied: httpcore==1.* in /home/kaminaduck/code/ai-holodeck/venv/lib/python3.10/site-packages (from httpx>=0.24.1->gradio) (1.0.5)\n",
      "Requirement already satisfied: anyio in /home/kaminaduck/code/ai-holodeck/venv/lib/python3.10/site-packages (from httpx>=0.24.1->gradio) (4.3.0)\n",
      "Requirement already satisfied: sniffio in /home/kaminaduck/code/ai-holodeck/venv/lib/python3.10/site-packages (from httpx>=0.24.1->gradio) (1.3.1)\n",
      "Requirement already satisfied: h11<0.15,>=0.13 in /home/kaminaduck/code/ai-holodeck/venv/lib/python3.10/site-packages (from httpcore==1.*->httpx>=0.24.1->gradio) (0.14.0)\n",
      "Requirement already satisfied: prompt-toolkit<3.1.0,>=3.0.41 in /home/kaminaduck/code/ai-holodeck/venv/lib/python3.10/site-packages (from ipython>=6.1.0->ipywidgets) (3.0.43)\n",
      "Requirement already satisfied: pygments>=2.4.0 in /home/kaminaduck/code/ai-holodeck/venv/lib/python3.10/site-packages (from ipython>=6.1.0->ipywidgets) (2.17.2)\n",
      "Requirement already satisfied: matplotlib-inline in /home/kaminaduck/code/ai-holodeck/venv/lib/python3.10/site-packages (from ipython>=6.1.0->ipywidgets) (0.1.6)\n",
      "Requirement already satisfied: jedi>=0.16 in /home/kaminaduck/code/ai-holodeck/venv/lib/python3.10/site-packages (from ipython>=6.1.0->ipywidgets) (0.19.1)\n",
      "Requirement already satisfied: stack-data in /home/kaminaduck/code/ai-holodeck/venv/lib/python3.10/site-packages (from ipython>=6.1.0->ipywidgets) (0.6.3)\n",
      "Requirement already satisfied: decorator in /home/kaminaduck/code/ai-holodeck/venv/lib/python3.10/site-packages (from ipython>=6.1.0->ipywidgets) (5.1.1)\n",
      "Requirement already satisfied: exceptiongroup in /home/kaminaduck/code/ai-holodeck/venv/lib/python3.10/site-packages (from ipython>=6.1.0->ipywidgets) (1.2.0)\n",
      "Requirement already satisfied: pexpect>4.3 in /home/kaminaduck/code/ai-holodeck/venv/lib/python3.10/site-packages (from ipython>=6.1.0->ipywidgets) (4.9.0)\n",
      "Requirement already satisfied: fonttools>=4.22.0 in /home/kaminaduck/code/ai-holodeck/venv/lib/python3.10/site-packages (from matplotlib~=3.0->gradio) (4.51.0)\n",
      "Requirement already satisfied: kiwisolver>=1.3.1 in /home/kaminaduck/code/ai-holodeck/venv/lib/python3.10/site-packages (from matplotlib~=3.0->gradio) (1.4.5)\n",
      "Requirement already satisfied: pyparsing>=2.3.1 in /home/kaminaduck/code/ai-holodeck/venv/lib/python3.10/site-packages (from matplotlib~=3.0->gradio) (3.1.2)\n",
      "Requirement already satisfied: cycler>=0.10 in /home/kaminaduck/code/ai-holodeck/venv/lib/python3.10/site-packages (from matplotlib~=3.0->gradio) (0.12.1)\n",
      "Requirement already satisfied: python-dateutil>=2.7 in /home/kaminaduck/code/ai-holodeck/venv/lib/python3.10/site-packages (from matplotlib~=3.0->gradio) (2.9.0.post0)\n",
      "Requirement already satisfied: contourpy>=1.0.1 in /home/kaminaduck/code/ai-holodeck/venv/lib/python3.10/site-packages (from matplotlib~=3.0->gradio) (1.2.1)\n",
      "Requirement already satisfied: pytz>=2020.1 in /home/kaminaduck/code/ai-holodeck/venv/lib/python3.10/site-packages (from pandas<3.0,>=1.0->gradio) (2024.1)\n",
      "Requirement already satisfied: tzdata>=2022.7 in /home/kaminaduck/code/ai-holodeck/venv/lib/python3.10/site-packages (from pandas<3.0,>=1.0->gradio) (2024.1)\n",
      "Requirement already satisfied: annotated-types>=0.4.0 in /home/kaminaduck/code/ai-holodeck/venv/lib/python3.10/site-packages (from pydantic>=2.0->gradio) (0.6.0)\n",
      "Requirement already satisfied: pydantic-core==2.16.3 in /home/kaminaduck/code/ai-holodeck/venv/lib/python3.10/site-packages (from pydantic>=2.0->gradio) (2.16.3)\n",
      "\u001b[33mWARNING: typer 0.12.1 does not provide the extra 'all'\u001b[0m\u001b[33m\n",
      "\u001b[0mRequirement already satisfied: rich>=10.11.0 in /home/kaminaduck/code/ai-holodeck/venv/lib/python3.10/site-packages (from typer[all]<1.0,>=0.9->gradio) (13.7.1)\n",
      "Requirement already satisfied: shellingham>=1.3.0 in /home/kaminaduck/code/ai-holodeck/venv/lib/python3.10/site-packages (from typer[all]<1.0,>=0.9->gradio) (1.5.4)\n",
      "Requirement already satisfied: click>=8.0.0 in /home/kaminaduck/code/ai-holodeck/venv/lib/python3.10/site-packages (from typer[all]<1.0,>=0.9->gradio) (8.1.7)\n",
      "Requirement already satisfied: starlette<0.38.0,>=0.37.2 in /home/kaminaduck/code/ai-holodeck/venv/lib/python3.10/site-packages (from fastapi->gradio) (0.37.2)\n",
      "Requirement already satisfied: jupyter-client>=6.1.12 in /home/kaminaduck/code/ai-holodeck/venv/lib/python3.10/site-packages (from ipykernel->jupyter) (8.6.1)\n",
      "Requirement already satisfied: nest-asyncio in /home/kaminaduck/code/ai-holodeck/venv/lib/python3.10/site-packages (from ipykernel->jupyter) (1.6.0)\n",
      "Requirement already satisfied: psutil in /home/kaminaduck/code/ai-holodeck/venv/lib/python3.10/site-packages (from ipykernel->jupyter) (5.9.8)\n",
      "Requirement already satisfied: tornado>=6.1 in /home/kaminaduck/code/ai-holodeck/venv/lib/python3.10/site-packages (from ipykernel->jupyter) (6.4)\n",
      "Requirement already satisfied: pyzmq>=24 in /home/kaminaduck/code/ai-holodeck/venv/lib/python3.10/site-packages (from ipykernel->jupyter) (25.1.2)\n",
      "Requirement already satisfied: debugpy>=1.6.5 in /home/kaminaduck/code/ai-holodeck/venv/lib/python3.10/site-packages (from ipykernel->jupyter) (1.8.1)\n",
      "Requirement already satisfied: jupyter-core!=5.0.*,>=4.12 in /home/kaminaduck/code/ai-holodeck/venv/lib/python3.10/site-packages (from ipykernel->jupyter) (5.7.2)\n",
      "Requirement already satisfied: nbclient>=0.5.0 in /home/kaminaduck/code/ai-holodeck/venv/lib/python3.10/site-packages (from nbconvert->jupyter) (0.10.0)\n",
      "Requirement already satisfied: mistune<4,>=2.0.3 in /home/kaminaduck/code/ai-holodeck/venv/lib/python3.10/site-packages (from nbconvert->jupyter) (3.0.2)\n",
      "Requirement already satisfied: bleach!=5.0.0 in /home/kaminaduck/code/ai-holodeck/venv/lib/python3.10/site-packages (from nbconvert->jupyter) (6.1.0)\n",
      "Requirement already satisfied: nbformat>=5.7 in /home/kaminaduck/code/ai-holodeck/venv/lib/python3.10/site-packages (from nbconvert->jupyter) (5.10.4)\n",
      "Requirement already satisfied: defusedxml in /home/kaminaduck/code/ai-holodeck/venv/lib/python3.10/site-packages (from nbconvert->jupyter) (0.7.1)\n",
      "Requirement already satisfied: tinycss2 in /home/kaminaduck/code/ai-holodeck/venv/lib/python3.10/site-packages (from nbconvert->jupyter) (1.2.1)\n",
      "Requirement already satisfied: jupyterlab-pygments in /home/kaminaduck/code/ai-holodeck/venv/lib/python3.10/site-packages (from nbconvert->jupyter) (0.3.0)\n",
      "Requirement already satisfied: beautifulsoup4 in /home/kaminaduck/code/ai-holodeck/venv/lib/python3.10/site-packages (from nbconvert->jupyter) (4.12.3)\n",
      "Requirement already satisfied: pandocfilters>=1.4.1 in /home/kaminaduck/code/ai-holodeck/venv/lib/python3.10/site-packages (from nbconvert->jupyter) (1.5.1)\n",
      "Requirement already satisfied: notebook-shim<0.3,>=0.2 in /home/kaminaduck/code/ai-holodeck/venv/lib/python3.10/site-packages (from notebook->jupyter) (0.2.4)\n",
      "Requirement already satisfied: jupyterlab-server<3,>=2.22.1 in /home/kaminaduck/code/ai-holodeck/venv/lib/python3.10/site-packages (from notebook->jupyter) (2.25.4)\n",
      "Requirement already satisfied: jupyterlab<4.2,>=4.1.1 in /home/kaminaduck/code/ai-holodeck/venv/lib/python3.10/site-packages (from notebook->jupyter) (4.1.5)\n",
      "Requirement already satisfied: jupyter-server<3,>=2.4.0 in /home/kaminaduck/code/ai-holodeck/venv/lib/python3.10/site-packages (from notebook->jupyter) (2.13.0)\n",
      "Requirement already satisfied: qtpy>=2.4.0 in /home/kaminaduck/code/ai-holodeck/venv/lib/python3.10/site-packages (from qtconsole->jupyter) (2.4.1)\n",
      "Requirement already satisfied: urllib3<3,>=1.21.1 in /home/kaminaduck/code/ai-holodeck/venv/lib/python3.10/site-packages (from requests->transformers) (2.2.1)\n",
      "Requirement already satisfied: charset-normalizer<4,>=2 in /home/kaminaduck/code/ai-holodeck/venv/lib/python3.10/site-packages (from requests->transformers) (3.3.2)\n",
      "Requirement already satisfied: mpmath>=0.19 in /home/kaminaduck/code/ai-holodeck/venv/lib/python3.10/site-packages (from sympy->torch) (1.3.0)\n",
      "Requirement already satisfied: webencodings in /home/kaminaduck/code/ai-holodeck/venv/lib/python3.10/site-packages (from bleach!=5.0.0->nbconvert->jupyter) (0.5.1)\n",
      "Requirement already satisfied: six>=1.9.0 in /home/kaminaduck/code/ai-holodeck/venv/lib/python3.10/site-packages (from bleach!=5.0.0->nbconvert->jupyter) (1.16.0)\n",
      "Requirement already satisfied: parso<0.9.0,>=0.8.3 in /home/kaminaduck/code/ai-holodeck/venv/lib/python3.10/site-packages (from jedi>=0.16->ipython>=6.1.0->ipywidgets) (0.8.4)\n",
      "Requirement already satisfied: jsonschema-specifications>=2023.03.6 in /home/kaminaduck/code/ai-holodeck/venv/lib/python3.10/site-packages (from jsonschema>=3.0->altair<6.0,>=4.2.0->gradio) (2023.12.1)\n",
      "Requirement already satisfied: rpds-py>=0.7.1 in /home/kaminaduck/code/ai-holodeck/venv/lib/python3.10/site-packages (from jsonschema>=3.0->altair<6.0,>=4.2.0->gradio) (0.18.0)\n",
      "Requirement already satisfied: attrs>=22.2.0 in /home/kaminaduck/code/ai-holodeck/venv/lib/python3.10/site-packages (from jsonschema>=3.0->altair<6.0,>=4.2.0->gradio) (23.2.0)\n",
      "Requirement already satisfied: referencing>=0.28.4 in /home/kaminaduck/code/ai-holodeck/venv/lib/python3.10/site-packages (from jsonschema>=3.0->altair<6.0,>=4.2.0->gradio) (0.34.0)\n",
      "Requirement already satisfied: platformdirs>=2.5 in /home/kaminaduck/code/ai-holodeck/venv/lib/python3.10/site-packages (from jupyter-core!=5.0.*,>=4.12->ipykernel->jupyter) (4.2.0)\n",
      "Requirement already satisfied: terminado>=0.8.3 in /home/kaminaduck/code/ai-holodeck/venv/lib/python3.10/site-packages (from jupyter-server<3,>=2.4.0->notebook->jupyter) (0.18.1)\n",
      "Requirement already satisfied: argon2-cffi in /home/kaminaduck/code/ai-holodeck/venv/lib/python3.10/site-packages (from jupyter-server<3,>=2.4.0->notebook->jupyter) (23.1.0)\n",
      "Requirement already satisfied: overrides in /home/kaminaduck/code/ai-holodeck/venv/lib/python3.10/site-packages (from jupyter-server<3,>=2.4.0->notebook->jupyter) (7.7.0)\n",
      "Requirement already satisfied: websocket-client in /home/kaminaduck/code/ai-holodeck/venv/lib/python3.10/site-packages (from jupyter-server<3,>=2.4.0->notebook->jupyter) (1.7.0)\n",
      "Requirement already satisfied: jupyter-events>=0.9.0 in /home/kaminaduck/code/ai-holodeck/venv/lib/python3.10/site-packages (from jupyter-server<3,>=2.4.0->notebook->jupyter) (0.10.0)\n",
      "Requirement already satisfied: prometheus-client in /home/kaminaduck/code/ai-holodeck/venv/lib/python3.10/site-packages (from jupyter-server<3,>=2.4.0->notebook->jupyter) (0.20.0)\n",
      "Requirement already satisfied: jupyter-server-terminals in /home/kaminaduck/code/ai-holodeck/venv/lib/python3.10/site-packages (from jupyter-server<3,>=2.4.0->notebook->jupyter) (0.5.3)\n",
      "Requirement already satisfied: send2trash>=1.8.2 in /home/kaminaduck/code/ai-holodeck/venv/lib/python3.10/site-packages (from jupyter-server<3,>=2.4.0->notebook->jupyter) (1.8.3)\n",
      "Requirement already satisfied: tomli in /home/kaminaduck/code/ai-holodeck/venv/lib/python3.10/site-packages (from jupyterlab<4.2,>=4.1.1->notebook->jupyter) (2.0.1)\n",
      "Requirement already satisfied: async-lru>=1.0.0 in /home/kaminaduck/code/ai-holodeck/venv/lib/python3.10/site-packages (from jupyterlab<4.2,>=4.1.1->notebook->jupyter) (2.0.4)\n",
      "Requirement already satisfied: jupyter-lsp>=2.0.0 in /home/kaminaduck/code/ai-holodeck/venv/lib/python3.10/site-packages (from jupyterlab<4.2,>=4.1.1->notebook->jupyter) (2.2.4)\n",
      "Requirement already satisfied: json5>=0.9.0 in /home/kaminaduck/code/ai-holodeck/venv/lib/python3.10/site-packages (from jupyterlab-server<3,>=2.22.1->notebook->jupyter) (0.9.24)\n",
      "Requirement already satisfied: babel>=2.10 in /home/kaminaduck/code/ai-holodeck/venv/lib/python3.10/site-packages (from jupyterlab-server<3,>=2.22.1->notebook->jupyter) (2.14.0)\n",
      "Requirement already satisfied: fastjsonschema>=2.15 in /home/kaminaduck/code/ai-holodeck/venv/lib/python3.10/site-packages (from nbformat>=5.7->nbconvert->jupyter) (2.19.1)\n",
      "Requirement already satisfied: ptyprocess>=0.5 in /home/kaminaduck/code/ai-holodeck/venv/lib/python3.10/site-packages (from pexpect>4.3->ipython>=6.1.0->ipywidgets) (0.7.0)\n",
      "Requirement already satisfied: wcwidth in /home/kaminaduck/code/ai-holodeck/venv/lib/python3.10/site-packages (from prompt-toolkit<3.1.0,>=3.0.41->ipython>=6.1.0->ipywidgets) (0.2.13)\n",
      "Requirement already satisfied: markdown-it-py>=2.2.0 in /home/kaminaduck/code/ai-holodeck/venv/lib/python3.10/site-packages (from rich>=10.11.0->typer[all]<1.0,>=0.9->gradio) (3.0.0)\n",
      "Requirement already satisfied: soupsieve>1.2 in /home/kaminaduck/code/ai-holodeck/venv/lib/python3.10/site-packages (from beautifulsoup4->nbconvert->jupyter) (2.5)\n",
      "Requirement already satisfied: executing>=1.2.0 in /home/kaminaduck/code/ai-holodeck/venv/lib/python3.10/site-packages (from stack-data->ipython>=6.1.0->ipywidgets) (2.0.1)\n",
      "Requirement already satisfied: asttokens>=2.1.0 in /home/kaminaduck/code/ai-holodeck/venv/lib/python3.10/site-packages (from stack-data->ipython>=6.1.0->ipywidgets) (2.4.1)\n",
      "Requirement already satisfied: pure-eval in /home/kaminaduck/code/ai-holodeck/venv/lib/python3.10/site-packages (from stack-data->ipython>=6.1.0->ipywidgets) (0.2.2)\n",
      "Requirement already satisfied: rfc3339-validator in /home/kaminaduck/code/ai-holodeck/venv/lib/python3.10/site-packages (from jupyter-events>=0.9.0->jupyter-server<3,>=2.4.0->notebook->jupyter) (0.1.4)\n",
      "Requirement already satisfied: rfc3986-validator>=0.1.1 in /home/kaminaduck/code/ai-holodeck/venv/lib/python3.10/site-packages (from jupyter-events>=0.9.0->jupyter-server<3,>=2.4.0->notebook->jupyter) (0.1.1)\n",
      "Requirement already satisfied: python-json-logger>=2.0.4 in /home/kaminaduck/code/ai-holodeck/venv/lib/python3.10/site-packages (from jupyter-events>=0.9.0->jupyter-server<3,>=2.4.0->notebook->jupyter) (2.0.7)\n",
      "Requirement already satisfied: mdurl~=0.1 in /home/kaminaduck/code/ai-holodeck/venv/lib/python3.10/site-packages (from markdown-it-py>=2.2.0->rich>=10.11.0->typer[all]<1.0,>=0.9->gradio) (0.1.2)\n",
      "Requirement already satisfied: argon2-cffi-bindings in /home/kaminaduck/code/ai-holodeck/venv/lib/python3.10/site-packages (from argon2-cffi->jupyter-server<3,>=2.4.0->notebook->jupyter) (21.2.0)\n",
      "Requirement already satisfied: uri-template in /home/kaminaduck/code/ai-holodeck/venv/lib/python3.10/site-packages (from jsonschema>=3.0->altair<6.0,>=4.2.0->gradio) (1.3.0)\n",
      "Requirement already satisfied: fqdn in /home/kaminaduck/code/ai-holodeck/venv/lib/python3.10/site-packages (from jsonschema>=3.0->altair<6.0,>=4.2.0->gradio) (1.5.1)\n",
      "Requirement already satisfied: webcolors>=1.11 in /home/kaminaduck/code/ai-holodeck/venv/lib/python3.10/site-packages (from jsonschema>=3.0->altair<6.0,>=4.2.0->gradio) (1.13)\n",
      "Requirement already satisfied: jsonpointer>1.13 in /home/kaminaduck/code/ai-holodeck/venv/lib/python3.10/site-packages (from jsonschema>=3.0->altair<6.0,>=4.2.0->gradio) (2.4)\n",
      "Requirement already satisfied: isoduration in /home/kaminaduck/code/ai-holodeck/venv/lib/python3.10/site-packages (from jsonschema>=3.0->altair<6.0,>=4.2.0->gradio) (20.11.0)\n",
      "Requirement already satisfied: cffi>=1.0.1 in /home/kaminaduck/code/ai-holodeck/venv/lib/python3.10/site-packages (from argon2-cffi-bindings->argon2-cffi->jupyter-server<3,>=2.4.0->notebook->jupyter) (1.16.0)\n",
      "Requirement already satisfied: pycparser in /home/kaminaduck/code/ai-holodeck/venv/lib/python3.10/site-packages (from cffi>=1.0.1->argon2-cffi-bindings->argon2-cffi->jupyter-server<3,>=2.4.0->notebook->jupyter) (2.22)\n",
      "Requirement already satisfied: arrow>=0.15.0 in /home/kaminaduck/code/ai-holodeck/venv/lib/python3.10/site-packages (from isoduration->jsonschema>=3.0->altair<6.0,>=4.2.0->gradio) (1.3.0)\n",
      "Requirement already satisfied: types-python-dateutil>=2.8.10 in /home/kaminaduck/code/ai-holodeck/venv/lib/python3.10/site-packages (from arrow>=0.15.0->isoduration->jsonschema>=3.0->altair<6.0,>=4.2.0->gradio) (2.9.0.20240316)\n",
      "Installing collected packages: ollama\n",
      "Successfully installed ollama-0.1.8\n",
      "Note: you may need to restart the kernel to use updated packages.\n"
     ]
    }
   ],
   "source": [
    "pip install gradio torch jupyter ipywidgets transformers ollama"
   ]
  },
  {
   "cell_type": "code",
   "execution_count": 25,
   "metadata": {},
   "outputs": [
    {
     "data": {
      "text/plain": [
       "{'status': 'success'}"
      ]
     },
     "execution_count": 25,
     "metadata": {},
     "output_type": "execute_result"
    }
   ],
   "source": [
    "import ollama\n",
    "ollama.pull('mistral')"
   ]
  },
  {
   "cell_type": "code",
   "execution_count": 30,
   "metadata": {},
   "outputs": [
    {
     "name": "stdout",
     "output_type": "stream",
     "text": [
      " The reason why the sky appears blue during a clear day is due to a phenomenon called Rayleigh scattering. When the sun's rays enter Earth's atmosphere, they collide with molecules and tiny particles in the air, such as nitrogen and oxygen. Blue light has a shorter wavelength and gets scattered more easily than other colors. Consequently, when we look up at the sky, we predominantly see the blue light that has been scattered, making the sky appear blue to our eyes.\n"
     ]
    }
   ],
   "source": [
    "from ollama import Client\n",
    "client = Client(host='http://localhost:11434')\n",
    "response = client.chat(model='mistral', messages=[\n",
    "  {\n",
    "    'role': 'user',\n",
    "    'content': 'Why is the sky blue?',\n",
    "  },\n",
    "])\n",
    "print(response['message']['content'])"
   ]
  },
  {
   "cell_type": "code",
   "execution_count": 33,
   "metadata": {},
   "outputs": [
    {
     "name": "stdout",
     "output_type": "stream",
     "text": [
      " The color of the sky appears blue due to a phenomenon called Rayleigh scattering. As sunlight reaches Earth's atmosphere, it interacts with molecules and particles in the air, such as nitrogen and oxygen. Blue light has shorter wavelengths and gets scattered more easily than other colors because it travels in smaller, shorter waves. This scattered blue light is what we observe when looking up at the sky. However, it's essential to note that the sky doesn't always appear blue; its color can change depending on the presence of other particles or pollutants in the atmosphere. For example, sunrise and sunset skies often exhibit red, orange, or pink hues due to the scattering of longer wavelengths of light."
     ]
    }
   ],
   "source": [
    "import ollama\n",
    "\n",
    "stream = ollama.chat(\n",
    "    model='mistral',\n",
    "    messages=[{'role': 'user', 'content': 'Why is the sky blue?'}],\n",
    "    stream=True,\n",
    ")\n",
    "\n",
    "for chunk in stream:\n",
    "  print(chunk['message']['content'], end='', flush=True)"
   ]
  },
  {
   "cell_type": "code",
   "execution_count": 36,
   "metadata": {},
   "outputs": [
    {
     "data": {
      "text/plain": [
       "{'models': [{'name': 'mistral:7b',\n",
       "   'model': 'mistral:7b',\n",
       "   'modified_at': '2024-04-07T15:35:48.345014632Z',\n",
       "   'size': 4109865159,\n",
       "   'digest': '61e88e884507ba5e06c49b40e6226884b2a16e872382c2b44a42f2d119d804a5',\n",
       "   'details': {'parent_model': '',\n",
       "    'format': 'gguf',\n",
       "    'family': 'llama',\n",
       "    'families': ['llama'],\n",
       "    'parameter_size': '7B',\n",
       "    'quantization_level': 'Q4_0'}}]}"
      ]
     },
     "execution_count": 36,
     "metadata": {},
     "output_type": "execute_result"
    }
   ],
   "source": [
    "ollama.list()"
   ]
  },
  {
   "cell_type": "code",
   "execution_count": 39,
   "metadata": {},
   "outputs": [
    {
     "data": {
      "text/plain": [
       "{'license': '                                 Apache License\\n                           Version 2.0, January 2004\\n                        http://www.apache.org/licenses/\\n\\n   TERMS AND CONDITIONS FOR USE, REPRODUCTION, AND DISTRIBUTION\\n\\n   1. Definitions.\\n\\n      \"License\" shall mean the terms and conditions for use, reproduction,\\n      and distribution as defined by Sections 1 through 9 of this document.\\n\\n      \"Licensor\" shall mean the copyright owner or entity authorized by\\n      the copyright owner that is granting the License.\\n\\n      \"Legal Entity\" shall mean the union of the acting entity and all\\n      other entities that control, are controlled by, or are under common\\n      control with that entity. For the purposes of this definition,\\n      \"control\" means (i) the power, direct or indirect, to cause the\\n      direction or management of such entity, whether by contract or\\n      otherwise, or (ii) ownership of fifty percent (50%) or more of the\\n      outstanding shares, or (iii) beneficial ownership of such entity.\\n\\n      \"You\" (or \"Your\") shall mean an individual or Legal Entity\\n      exercising permissions granted by this License.\\n\\n      \"Source\" form shall mean the preferred form for making modifications,\\n      including but not limited to software source code, documentation\\n      source, and configuration files.\\n\\n      \"Object\" form shall mean any form resulting from mechanical\\n      transformation or translation of a Source form, including but\\n      not limited to compiled object code, generated documentation,\\n      and conversions to other media types.\\n\\n      \"Work\" shall mean the work of authorship, whether in Source or\\n      Object form, made available under the License, as indicated by a\\n      copyright notice that is included in or attached to the work\\n      (an example is provided in the Appendix below).\\n\\n      \"Derivative Works\" shall mean any work, whether in Source or Object\\n      form, that is based on (or derived from) the Work and for which the\\n      editorial revisions, annotations, elaborations, or other modifications\\n      represent, as a whole, an original work of authorship. For the purposes\\n      of this License, Derivative Works shall not include works that remain\\n      separable from, or merely link (or bind by name) to the interfaces of,\\n      the Work and Derivative Works thereof.\\n\\n      \"Contribution\" shall mean any work of authorship, including\\n      the original version of the Work and any modifications or additions\\n      to that Work or Derivative Works thereof, that is intentionally\\n      submitted to Licensor for inclusion in the Work by the copyright owner\\n      or by an individual or Legal Entity authorized to submit on behalf of\\n      the copyright owner. For the purposes of this definition, \"submitted\"\\n      means any form of electronic, verbal, or written communication sent\\n      to the Licensor or its representatives, including but not limited to\\n      communication on electronic mailing lists, source code control systems,\\n      and issue tracking systems that are managed by, or on behalf of, the\\n      Licensor for the purpose of discussing and improving the Work, but\\n      excluding communication that is conspicuously marked or otherwise\\n      designated in writing by the copyright owner as \"Not a Contribution.\"\\n\\n      \"Contributor\" shall mean Licensor and any individual or Legal Entity\\n      on behalf of whom a Contribution has been received by Licensor and\\n      subsequently incorporated within the Work.\\n\\n   2. Grant of Copyright License. Subject to the terms and conditions of\\n      this License, each Contributor hereby grants to You a perpetual,\\n      worldwide, non-exclusive, no-charge, royalty-free, irrevocable\\n      copyright license to reproduce, prepare Derivative Works of,\\n      publicly display, publicly perform, sublicense, and distribute the\\n      Work and such Derivative Works in Source or Object form.\\n\\n   3. Grant of Patent License. Subject to the terms and conditions of\\n      this License, each Contributor hereby grants to You a perpetual,\\n      worldwide, non-exclusive, no-charge, royalty-free, irrevocable\\n      (except as stated in this section) patent license to make, have made,\\n      use, offer to sell, sell, import, and otherwise transfer the Work,\\n      where such license applies only to those patent claims licensable\\n      by such Contributor that are necessarily infringed by their\\n      Contribution(s) alone or by combination of their Contribution(s)\\n      with the Work to which such Contribution(s) was submitted. If You\\n      institute patent litigation against any entity (including a\\n      cross-claim or counterclaim in a lawsuit) alleging that the Work\\n      or a Contribution incorporated within the Work constitutes direct\\n      or contributory patent infringement, then any patent licenses\\n      granted to You under this License for that Work shall terminate\\n      as of the date such litigation is filed.\\n\\n   4. Redistribution. You may reproduce and distribute copies of the\\n      Work or Derivative Works thereof in any medium, with or without\\n      modifications, and in Source or Object form, provided that You\\n      meet the following conditions:\\n\\n      (a) You must give any other recipients of the Work or\\n          Derivative Works a copy of this License; and\\n\\n      (b) You must cause any modified files to carry prominent notices\\n          stating that You changed the files; and\\n\\n      (c) You must retain, in the Source form of any Derivative Works\\n          that You distribute, all copyright, patent, trademark, and\\n          attribution notices from the Source form of the Work,\\n          excluding those notices that do not pertain to any part of\\n          the Derivative Works; and\\n\\n      (d) If the Work includes a \"NOTICE\" text file as part of its\\n          distribution, then any Derivative Works that You distribute must\\n          include a readable copy of the attribution notices contained\\n          within such NOTICE file, excluding those notices that do not\\n          pertain to any part of the Derivative Works, in at least one\\n          of the following places: within a NOTICE text file distributed\\n          as part of the Derivative Works; within the Source form or\\n          documentation, if provided along with the Derivative Works; or,\\n          within a display generated by the Derivative Works, if and\\n          wherever such third-party notices normally appear. The contents\\n          of the NOTICE file are for informational purposes only and\\n          do not modify the License. You may add Your own attribution\\n          notices within Derivative Works that You distribute, alongside\\n          or as an addendum to the NOTICE text from the Work, provided\\n          that such additional attribution notices cannot be construed\\n          as modifying the License.\\n\\n      You may add Your own copyright statement to Your modifications and\\n      may provide additional or different license terms and conditions\\n      for use, reproduction, or distribution of Your modifications, or\\n      for any such Derivative Works as a whole, provided Your use,\\n      reproduction, and distribution of the Work otherwise complies with\\n      the conditions stated in this License.\\n\\n   5. Submission of Contributions. Unless You explicitly state otherwise,\\n      any Contribution intentionally submitted for inclusion in the Work\\n      by You to the Licensor shall be under the terms and conditions of\\n      this License, without any additional terms or conditions.\\n      Notwithstanding the above, nothing herein shall supersede or modify\\n      the terms of any separate license agreement you may have executed\\n      with Licensor regarding such Contributions.\\n\\n   6. Trademarks. This License does not grant permission to use the trade\\n      names, trademarks, service marks, or product names of the Licensor,\\n      except as required for reasonable and customary use in describing the\\n      origin of the Work and reproducing the content of the NOTICE file.\\n\\n   7. Disclaimer of Warranty. Unless required by applicable law or\\n      agreed to in writing, Licensor provides the Work (and each\\n      Contributor provides its Contributions) on an \"AS IS\" BASIS,\\n      WITHOUT WARRANTIES OR CONDITIONS OF ANY KIND, either express or\\n      implied, including, without limitation, any warranties or conditions\\n      of TITLE, NON-INFRINGEMENT, MERCHANTABILITY, or FITNESS FOR A\\n      PARTICULAR PURPOSE. You are solely responsible for determining the\\n      appropriateness of using or redistributing the Work and assume any\\n      risks associated with Your exercise of permissions under this License.\\n\\n   8. Limitation of Liability. In no event and under no legal theory,\\n      whether in tort (including negligence), contract, or otherwise,\\n      unless required by applicable law (such as deliberate and grossly\\n      negligent acts) or agreed to in writing, shall any Contributor be\\n      liable to You for damages, including any direct, indirect, special,\\n      incidental, or consequential damages of any character arising as a\\n      result of this License or out of the use or inability to use the\\n      Work (including but not limited to damages for loss of goodwill,\\n      work stoppage, computer failure or malfunction, or any and all\\n      other commercial damages or losses), even if such Contributor\\n      has been advised of the possibility of such damages.\\n\\n   9. Accepting Warranty or Additional Liability. While redistributing\\n      the Work or Derivative Works thereof, You may choose to offer,\\n      and charge a fee for, acceptance of support, warranty, indemnity,\\n      or other liability obligations and/or rights consistent with this\\n      License. However, in accepting such obligations, You may act only\\n      on Your own behalf and on Your sole responsibility, not on behalf\\n      of any other Contributor, and only if You agree to indemnify,\\n      defend, and hold each Contributor harmless for any liability\\n      incurred by, or claims asserted against, such Contributor by reason\\n      of your accepting any such warranty or additional liability.\\n\\n   END OF TERMS AND CONDITIONS\\n\\n   APPENDIX: How to apply the Apache License to your work.\\n\\n      To apply the Apache License to your work, attach the following\\n      boilerplate notice, with the fields enclosed by brackets \"[]\"\\n      replaced with your own identifying information. (Don\\'t include\\n      the brackets!)  The text should be enclosed in the appropriate\\n      comment syntax for the file format. We also recommend that a\\n      file or class name and description of purpose be included on the\\n      same \"printed page\" as the copyright notice for easier\\n      identification within third-party archives.\\n\\n   Copyright [yyyy] [name of copyright owner]\\n\\n   Licensed under the Apache License, Version 2.0 (the \"License\");\\n   you may not use this file except in compliance with the License.\\n   You may obtain a copy of the License at\\n\\n       http://www.apache.org/licenses/LICENSE-2.0\\n\\n   Unless required by applicable law or agreed to in writing, software\\n   distributed under the License is distributed on an \"AS IS\" BASIS,\\n   WITHOUT WARRANTIES OR CONDITIONS OF ANY KIND, either express or implied.\\n   See the License for the specific language governing permissions and\\n   limitations under the License.',\n",
       " 'modelfile': '# Modelfile generated by \"ollama show\"\\n# To build a new Modelfile based on this one, replace the FROM line with:\\n# FROM mistral:7b\\n\\nFROM /usr/share/ollama/.ollama/models/blobs/sha256-e8a35b5937a5e6d5c35d1f2a15f161e07eefe5e5bb0a3cdd42998ee79b057730\\nTEMPLATE \"\"\"[INST] {{ .System }} {{ .Prompt }} [/INST]\"\"\"\\nPARAMETER stop \"[INST]\"\\nPARAMETER stop \"[/INST]\"',\n",
       " 'parameters': 'stop                           \"[INST]\"\\nstop                           \"[/INST]\"',\n",
       " 'template': '[INST] {{ .System }} {{ .Prompt }} [/INST]',\n",
       " 'details': {'parent_model': '',\n",
       "  'format': 'gguf',\n",
       "  'family': 'llama',\n",
       "  'families': ['llama'],\n",
       "  'parameter_size': '7B',\n",
       "  'quantization_level': 'Q4_0'}}"
      ]
     },
     "execution_count": 39,
     "metadata": {},
     "output_type": "execute_result"
    }
   ],
   "source": [
    "ollama.show('mistral:7b')"
   ]
  },
  {
   "cell_type": "code",
   "execution_count": 60,
   "metadata": {},
   "outputs": [],
   "source": [
    "import gradio as gr\n",
    "import torch\n",
    "from transformers import AutoModelForCausalLM, AutoTokenizer, StoppingCriteria, StoppingCriteriaList, TextIteratorStreamer\n",
    "from threading import Thread\n",
    "\n",
    "def mistralChat(text):\n",
    "    tokenizer = AutoTokenizer.from_pretrained(\"mistralai/Mistral-7B-Instruct-v0.2\")\n",
    "    model = AutoModelForCausalLM.from_pretrained(\"mistralai/Mistral-7B-Instruct-v0.2\", torch_dtype=torch.bfloat16)\n",
    "    model = model.to('cuda')\n",
    "    inputs = tokenizer(text, return_tensors='pt').to(model.device)\n",
    "    \n",
    "    input_length = inputs.input_ids.shape[1]\n",
    "    outputs = model.generate(**inputs, max_new_tokens=100, temperature=0.7, \n",
    "                            return_dict_in_generate=True,do_sample=True)\n",
    "    \n",
    "    tokens = outputs.sequences[0, input_length:]\n",
    "    return tokenizer.decode(tokens)\n"
   ]
  },
  {
   "cell_type": "code",
   "execution_count": 61,
   "metadata": {},
   "outputs": [
    {
     "name": "stdout",
     "output_type": "stream",
     "text": [
      "Running on local URL:  http://127.0.0.1:7868\n",
      "Running on public URL: https://c9b559173035bea6c8.gradio.live\n",
      "\n",
      "This share link expires in 72 hours. For free permanent hosting and GPU upgrades, run `gradio deploy` from Terminal to deploy to Spaces (https://huggingface.co/spaces)\n"
     ]
    },
    {
     "data": {
      "text/html": [
       "<div><iframe src=\"https://c9b559173035bea6c8.gradio.live\" width=\"100%\" height=\"500\" allow=\"autoplay; camera; microphone; clipboard-read; clipboard-write;\" frameborder=\"0\" allowfullscreen></iframe></div>"
      ],
      "text/plain": [
       "<IPython.core.display.HTML object>"
      ]
     },
     "metadata": {},
     "output_type": "display_data"
    },
    {
     "data": {
      "text/plain": []
     },
     "execution_count": 61,
     "metadata": {},
     "output_type": "execute_result"
    },
    {
     "name": "stderr",
     "output_type": "stream",
     "text": [
      "Loading checkpoint shards: 100%|██████████| 3/3 [00:09<00:00,  3.01s/it]\n",
      "Traceback (most recent call last):\n",
      "  File \"/home/kaminaduck/code/ai-holodeck/venv/lib/python3.10/site-packages/gradio/queueing.py\", line 522, in process_events\n",
      "    response = await route_utils.call_process_api(\n",
      "  File \"/home/kaminaduck/code/ai-holodeck/venv/lib/python3.10/site-packages/gradio/route_utils.py\", line 260, in call_process_api\n",
      "    output = await app.get_blocks().process_api(\n",
      "  File \"/home/kaminaduck/code/ai-holodeck/venv/lib/python3.10/site-packages/gradio/blocks.py\", line 1741, in process_api\n",
      "    result = await self.call_function(\n",
      "  File \"/home/kaminaduck/code/ai-holodeck/venv/lib/python3.10/site-packages/gradio/blocks.py\", line 1296, in call_function\n",
      "    prediction = await anyio.to_thread.run_sync(\n",
      "  File \"/home/kaminaduck/code/ai-holodeck/venv/lib/python3.10/site-packages/anyio/to_thread.py\", line 56, in run_sync\n",
      "    return await get_async_backend().run_sync_in_worker_thread(\n",
      "  File \"/home/kaminaduck/code/ai-holodeck/venv/lib/python3.10/site-packages/anyio/_backends/_asyncio.py\", line 2144, in run_sync_in_worker_thread\n",
      "    return await future\n",
      "  File \"/home/kaminaduck/code/ai-holodeck/venv/lib/python3.10/site-packages/anyio/_backends/_asyncio.py\", line 851, in run\n",
      "    result = context.run(func, *args)\n",
      "  File \"/home/kaminaduck/code/ai-holodeck/venv/lib/python3.10/site-packages/gradio/utils.py\", line 751, in wrapper\n",
      "    response = f(*args, **kwargs)\n",
      "  File \"/tmp/ipykernel_14697/1274065568.py\", line 9, in mistralChat\n",
      "    model = model.to('cuda')\n",
      "  File \"/home/kaminaduck/code/ai-holodeck/venv/lib/python3.10/site-packages/transformers/modeling_utils.py\", line 2576, in to\n",
      "    return super().to(*args, **kwargs)\n",
      "  File \"/home/kaminaduck/code/ai-holodeck/venv/lib/python3.10/site-packages/torch/nn/modules/module.py\", line 1152, in to\n",
      "    return self._apply(convert)\n",
      "  File \"/home/kaminaduck/code/ai-holodeck/venv/lib/python3.10/site-packages/torch/nn/modules/module.py\", line 802, in _apply\n",
      "    module._apply(fn)\n",
      "  File \"/home/kaminaduck/code/ai-holodeck/venv/lib/python3.10/site-packages/torch/nn/modules/module.py\", line 802, in _apply\n",
      "    module._apply(fn)\n",
      "  File \"/home/kaminaduck/code/ai-holodeck/venv/lib/python3.10/site-packages/torch/nn/modules/module.py\", line 825, in _apply\n",
      "    param_applied = fn(param)\n",
      "  File \"/home/kaminaduck/code/ai-holodeck/venv/lib/python3.10/site-packages/torch/nn/modules/module.py\", line 1150, in convert\n",
      "    return t.to(device, dtype if t.is_floating_point() or t.is_complex() else None, non_blocking)\n",
      "torch.cuda.OutOfMemoryError: CUDA out of memory. Tried to allocate 250.00 MiB. GPU 0 has a total capacity of 23.65 GiB of which 90.00 MiB is free. Process 12458 has 658.00 MiB memory in use. Including non-PyTorch memory, this process has 22.91 GiB memory in use. Of the allocated memory 22.05 GiB is allocated by PyTorch, and 410.94 MiB is reserved by PyTorch but unallocated. If reserved but unallocated memory is large try setting PYTORCH_CUDA_ALLOC_CONF=expandable_segments:True to avoid fragmentation.  See documentation for Memory Management  (https://pytorch.org/docs/stable/notes/cuda.html#environment-variables)\n"
     ]
    }
   ],
   "source": [
    "with gr.Blocks() as server:\n",
    "    with gr.Tab(\"LLM Inferencing\"):\n",
    "    \n",
    "        model_input = gr.Textbox(label=\"Your Question:\", \n",
    "                                value=\"What’s your question?\", interactive=True)\n",
    "        ask_button = gr.Button(\"Ask\")\n",
    "        model_output = gr.Textbox(label=\"The Answer:\", interactive=False, \n",
    "                                value=\"Answer goes here...\")\n",
    "    \n",
    "    ask_button.click(mistralChat, inputs=[model_input], outputs=[model_output])\n",
    "\n",
    "server.launch(share=True)"
   ]
  }
 ],
 "metadata": {
  "kernelspec": {
   "display_name": "venv",
   "language": "python",
   "name": "python3"
  },
  "language_info": {
   "codemirror_mode": {
    "name": "ipython",
    "version": 3
   },
   "file_extension": ".py",
   "mimetype": "text/x-python",
   "name": "python",
   "nbconvert_exporter": "python",
   "pygments_lexer": "ipython3",
   "version": "3.10.12"
  }
 },
 "nbformat": 4,
 "nbformat_minor": 2
}
