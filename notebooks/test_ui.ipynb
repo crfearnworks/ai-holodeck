{
 "cells": [
  {
   "cell_type": "markdown",
   "metadata": {},
   "source": [
    "Need the following:\n",
    "\n",
    "    top_k: float,\n",
    "    top_p: float,\n",
    "    temp: float,\n",
    "    num_refs: int,\n",
    "    collections: List[str],\n",
    "    model: str,\n",
    "    system: str,\n",
    "    template: str,\n",
    "    use_rag: bool,\n",
    "    use_irera: bool,\n",
    "    host_dropdown: str,\n",
    "    max_tokens: int,\n"
   ]
  },
  {
   "cell_type": "code",
   "execution_count": null,
   "metadata": {},
   "outputs": [],
   "source": []
  }
 ],
 "metadata": {
  "language_info": {
   "name": "python"
  }
 },
 "nbformat": 4,
 "nbformat_minor": 2
}
