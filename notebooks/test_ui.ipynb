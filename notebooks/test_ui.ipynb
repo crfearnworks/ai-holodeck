{
 "cells": [
  {
   "cell_type": "markdown",
   "metadata": {},
   "source": [
    "Need the following:\n",
    "\n",
    "    top_k: float,\n",
    "    top_p: float,\n",
    "    temp: float,\n",
    "    num_refs: int,\n",
    "    collections: List[str],\n",
    "    model: str,\n",
    "    system: str,\n",
    "    template: str,\n",
    "    use_rag: bool,\n",
    "    use_irera: bool,\n",
    "    host_dropdown: str,\n",
    "    max_tokens: int,\n"
   ]
  }
 ],
 "metadata": {
  "kernelspec": {
   "display_name": "venv",
   "language": "python",
   "name": "python3"
  },
  "language_info": {
   "codemirror_mode": {
    "name": "ipython",
    "version": 3
   },
   "file_extension": ".py",
   "mimetype": "text/x-python",
   "name": "python",
   "nbconvert_exporter": "python",
   "pygments_lexer": "ipython3",
   "version": "3.10.12"
  }
 },
 "nbformat": 4,
 "nbformat_minor": 2
}
