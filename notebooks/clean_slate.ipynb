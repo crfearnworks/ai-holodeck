{
 "cells": [
  {
   "cell_type": "code",
   "execution_count": null,
   "metadata": {},
   "outputs": [],
   "source": [
    "#Use the following in a bash script\n",
    "# apt install tesseract-ocr libtesseract-dev poppler-utils"
   ]
  },
  {
   "cell_type": "code",
   "execution_count": null,
   "metadata": {},
   "outputs": [],
   "source": [
    "pip install -r ../requirements.in"
   ]
  },
  {
   "cell_type": "code",
   "execution_count": null,
   "metadata": {},
   "outputs": [],
   "source": [
    "from unstructured.partition.pdf import partition_pdf\n",
    "from unstructured.documents.elements import Title, NarrativeText, Text\n",
    "from unstructured.chunking.basic import chunk_elements\n",
    "from typing import List\n",
    "import os\n",
    "import weaviate\n",
    "from weaviate.util import generate_uuid5\n",
    "import ollama\n",
    "from pprint import pprint\n",
    "import json"
   ]
  },
  {
   "cell_type": "code",
   "execution_count": null,
   "metadata": {},
   "outputs": [],
   "source": [
    "ollama.pull(\"mxbai-embed-large:v1\")\n",
    "ollama.list()"
   ]
  },
  {
   "cell_type": "code",
   "execution_count": null,
   "metadata": {},
   "outputs": [],
   "source": [
    "# Use this for now\n",
    "FILE_PATH = \"../docs/Player_s Handbook.pdf\"\n",
    "\n",
    "elements = partition_pdf(filename=FILE_PATH)"
   ]
  },
  {
   "cell_type": "code",
   "execution_count": null,
   "metadata": {},
   "outputs": [],
   "source": [
    "#save this for later\n",
    "FILE_PATH = \"../docs/Player_s Handbook.pdf\"\n",
    "\n",
    "elements = partition_pdf(filename=FILE_PATH, strategy=\"hi_res\", infer_table_structure=True)"
   ]
  },
  {
   "cell_type": "code",
   "execution_count": 19,
   "metadata": {},
   "outputs": [],
   "source": [
    "import weaviate.classes as wvc\n",
    "client = weaviate.connect_to_local(\n",
    "    additional_config=wvc.init.AdditionalConfig(\n",
    "        timeout=(60,1800),\n",
    "    ),\n",
    ")\n",
    "client.connect()"
   ]
  },
  {
   "cell_type": "code",
   "execution_count": null,
   "metadata": {},
   "outputs": [],
   "source": [
    "import weaviate.classes as wvc\n",
    "from weaviate.collections import Collection\n",
    "from weaviate.client import WeaviateClient\n",
    "\n",
    "def create_collection(client: WeaviateClient, collection_name: str)-> Collection:\n",
    "    with client: \n",
    "        client.collections.delete(collection_name)\n",
    "        client.collections.create(\n",
    "            name=collection_name,\n",
    "            vectorizer_config=wvc.config.Configure.Vectorizer.text2vec_transformers(),\n",
    "            vector_index_config=wvc.config.Configure.VectorIndex.hnsw(\n",
    "                distance_metric=wvc.config.VectorDistances.COSINE # select prefered distance metric\n",
    "        ),\n",
    "    )\n",
    "    collection = client.collections.get(name=collection_name)\n",
    "    return collection\n",
    "\n",
    "collection = create_collection(client, 'PHB')\n"
   ]
  },
  {
   "cell_type": "code",
   "execution_count": null,
   "metadata": {},
   "outputs": [],
   "source": [
    "narrative_texts = [elem for elem in elements if elem.category == \"NarrativeText\"]\n",
    "titles = [elem for elem in elements if elem.category == \"Title\"]\n",
    "uncat_texts = [elem for elem in elements if elem.category == \"UncategorizedText\"]\n"
   ]
  },
  {
   "cell_type": "code",
   "execution_count": null,
   "metadata": {},
   "outputs": [],
   "source": [
    "\n",
    "for text in narrative_texts:\n",
    "    pprint(text.to_dict())"
   ]
  },
  {
   "cell_type": "code",
   "execution_count": null,
   "metadata": {},
   "outputs": [],
   "source": [
    "for title in titles:\n",
    "    pprint(title.to_dict())"
   ]
  },
  {
   "cell_type": "code",
   "execution_count": null,
   "metadata": {},
   "outputs": [],
   "source": [
    "for text in uncat_texts:\n",
    "    pprint(text.to_dict())"
   ]
  },
  {
   "cell_type": "code",
   "execution_count": null,
   "metadata": {},
   "outputs": [],
   "source": [
    "for elem in elements:\n",
    "    pprint(elem.to_dict())"
   ]
  },
  {
   "cell_type": "code",
   "execution_count": null,
   "metadata": {},
   "outputs": [],
   "source": [
    "element_dicts = [chunk.to_dict() for chunk in elements]\n",
    "\n"
   ]
  },
  {
   "cell_type": "code",
   "execution_count": 12,
   "metadata": {},
   "outputs": [],
   "source": [
    "embeddings = []\n",
    "\n",
    "for element in element_dicts:\n",
    "    response = ollama.embeddings(model='mxbai-embed-large:v1', prompt=element['text'])\n",
    "    embedding = response[\"embedding\"]\n",
    "    embeddings.append(embedding)\n",
    "    "
   ]
  },
  {
   "cell_type": "code",
   "execution_count": null,
   "metadata": {},
   "outputs": [],
   "source": [
    "embeddings"
   ]
  },
  {
   "cell_type": "code",
   "execution_count": 13,
   "metadata": {},
   "outputs": [],
   "source": [
    "chunk_embeddings_with_metadata = [\n",
    "        {\n",
    "            \"id\":  None,\n",
    "            \"type\": element['type'],\n",
    "            \"title\": element['metadata']['filename'],\n",
    "            \"url\": \"None\",\n",
    "            \"content\": element['text'],\n",
    "            \"label\": \"No Label\",\n",
    "            \"tokens\": len(element['text'].split()),\n",
    "            \"embedding\": embedding,\n",
    "        }\n",
    "        for element, embedding in zip(element_dicts, embeddings)\n",
    "    ]"
   ]
  },
  {
   "cell_type": "code",
   "execution_count": null,
   "metadata": {},
   "outputs": [],
   "source": []
  },
  {
   "cell_type": "code",
   "execution_count": 20,
   "metadata": {},
   "outputs": [
    {
     "name": "stdout",
     "output_type": "stream",
     "text": [
      "Loaded 13847 chunks into Weaviate\n"
     ]
    }
   ],
   "source": [
    "from typing import List, Dict \n",
    "from weaviate.client import WeaviateClient\n",
    "import weaviate.classes as wvc\n",
    "def load_chunks_into_weaviate(chunks: List[Dict], client: WeaviateClient, collection_name: str):\n",
    "    collection = create_collection(client, collection_name)\n",
    "    chunk_objs = []\n",
    "    for chunk in chunks:\n",
    "        chunk_obj = wvc.data.DataObject(\n",
    "            properties={\n",
    "                \"content\": chunk['content'],\n",
    "                \"tokens\": chunk['tokens'],\n",
    "                \"title\": chunk['title'],\n",
    "                \"type\": chunk['type'],\n",
    "                \"url\": chunk['url'],\n",
    "                \"label\": chunk['label']\n",
    "            }\n",
    "        )    \n",
    "        chunk_objs.append(chunk_obj)\n",
    "        \n",
    "    with client:\n",
    "        collection.data.insert_many(chunk_objs)\n",
    "        \n",
    "    print(f\"Loaded {len(chunks)} chunks into Weaviate\")\n",
    "        \n",
    "load_chunks_into_weaviate(chunk_embeddings_with_metadata, client, 'PHB')"
   ]
  }
 ],
 "metadata": {
  "kernelspec": {
   "display_name": "venv",
   "language": "python",
   "name": "python3"
  },
  "language_info": {
   "codemirror_mode": {
    "name": "ipython",
    "version": 3
   },
   "file_extension": ".py",
   "mimetype": "text/x-python",
   "name": "python",
   "nbconvert_exporter": "python",
   "pygments_lexer": "ipython3",
   "version": "3.10.12"
  }
 },
 "nbformat": 4,
 "nbformat_minor": 2
}
