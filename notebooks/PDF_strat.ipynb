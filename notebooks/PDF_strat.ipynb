{
 "cells": [
  {
   "cell_type": "markdown",
   "metadata": {},
   "source": [
    "This comes from https://github.com/nlmatics/llmsherpa"
   ]
  },
  {
   "cell_type": "code",
   "execution_count": null,
   "metadata": {},
   "outputs": [],
   "source": [
    "pip install llmsherpa"
   ]
  },
  {
   "cell_type": "code",
   "execution_count": 5,
   "metadata": {},
   "outputs": [],
   "source": [
    "from llmsherpa.readers import LayoutPDFReader\n",
    "\n",
    "llmsherpa_api_url = \"https://readers.llmsherpa.com/api/document/developer/parseDocument?renderFormat=all\"\n",
    "pdf_url = \"https://arxiv.org/pdf/1910.13461.pdf\" # also allowed is a file path e.g. /home/downloads/xyz.pdf\n",
    "pdf_reader = LayoutPDFReader(llmsherpa_api_url)\n",
    "doc = pdf_reader.read_pdf(pdf_url)\n"
   ]
  },
  {
   "cell_type": "code",
   "execution_count": 6,
   "metadata": {},
   "outputs": [
    {
     "name": "stdout",
     "output_type": "stream",
     "text": [
      "Defaulting to user installation because normal site-packages is not writeable\n",
      "Requirement already satisfied: llama-index in /home/charlie/.local/lib/python3.10/site-packages (0.10.30)\n",
      "Requirement already satisfied: llama-index-agent-openai<0.3.0,>=0.1.4 in /home/charlie/.local/lib/python3.10/site-packages (from llama-index) (0.2.2)\n",
      "Requirement already satisfied: llama-index-cli<0.2.0,>=0.1.2 in /home/charlie/.local/lib/python3.10/site-packages (from llama-index) (0.1.12)\n",
      "Requirement already satisfied: llama-index-core<0.11.0,>=0.10.30 in /home/charlie/.local/lib/python3.10/site-packages (from llama-index) (0.10.30)\n",
      "Requirement already satisfied: llama-index-embeddings-openai<0.2.0,>=0.1.5 in /home/charlie/.local/lib/python3.10/site-packages (from llama-index) (0.1.8)\n",
      "Requirement already satisfied: llama-index-indices-managed-llama-cloud<0.2.0,>=0.1.2 in /home/charlie/.local/lib/python3.10/site-packages (from llama-index) (0.1.5)\n",
      "Requirement already satisfied: llama-index-legacy<0.10.0,>=0.9.48 in /home/charlie/.local/lib/python3.10/site-packages (from llama-index) (0.9.48)\n",
      "Requirement already satisfied: llama-index-llms-openai<0.2.0,>=0.1.13 in /home/charlie/.local/lib/python3.10/site-packages (from llama-index) (0.1.16)\n",
      "Requirement already satisfied: llama-index-multi-modal-llms-openai<0.2.0,>=0.1.3 in /home/charlie/.local/lib/python3.10/site-packages (from llama-index) (0.1.5)\n",
      "Requirement already satisfied: llama-index-program-openai<0.2.0,>=0.1.3 in /home/charlie/.local/lib/python3.10/site-packages (from llama-index) (0.1.5)\n",
      "Requirement already satisfied: llama-index-question-gen-openai<0.2.0,>=0.1.2 in /home/charlie/.local/lib/python3.10/site-packages (from llama-index) (0.1.3)\n",
      "Requirement already satisfied: llama-index-readers-file<0.2.0,>=0.1.4 in /home/charlie/.local/lib/python3.10/site-packages (from llama-index) (0.1.19)\n",
      "Requirement already satisfied: llama-index-readers-llama-parse<0.2.0,>=0.1.2 in /home/charlie/.local/lib/python3.10/site-packages (from llama-index) (0.1.4)\n",
      "Requirement already satisfied: openai>=1.14.0 in /home/charlie/.local/lib/python3.10/site-packages (from llama-index-agent-openai<0.3.0,>=0.1.4->llama-index) (1.23.2)\n",
      "Requirement already satisfied: PyYAML>=6.0.1 in /home/charlie/.local/lib/python3.10/site-packages (from llama-index-core<0.11.0,>=0.10.30->llama-index) (6.0.1)\n",
      "Requirement already satisfied: SQLAlchemy>=1.4.49 in /home/charlie/.local/lib/python3.10/site-packages (from SQLAlchemy[asyncio]>=1.4.49->llama-index-core<0.11.0,>=0.10.30->llama-index) (2.0.29)\n",
      "Requirement already satisfied: aiohttp<4.0.0,>=3.8.6 in /home/charlie/.local/lib/python3.10/site-packages (from llama-index-core<0.11.0,>=0.10.30->llama-index) (3.9.5)\n",
      "Requirement already satisfied: dataclasses-json in /home/charlie/.local/lib/python3.10/site-packages (from llama-index-core<0.11.0,>=0.10.30->llama-index) (0.6.4)\n",
      "Requirement already satisfied: deprecated>=1.2.9.3 in /home/charlie/.local/lib/python3.10/site-packages (from llama-index-core<0.11.0,>=0.10.30->llama-index) (1.2.14)\n",
      "Requirement already satisfied: dirtyjson<2.0.0,>=1.0.8 in /home/charlie/.local/lib/python3.10/site-packages (from llama-index-core<0.11.0,>=0.10.30->llama-index) (1.0.8)\n",
      "Requirement already satisfied: fsspec>=2023.5.0 in /home/charlie/.local/lib/python3.10/site-packages (from llama-index-core<0.11.0,>=0.10.30->llama-index) (2024.3.1)\n",
      "Requirement already satisfied: httpx in /home/charlie/.local/lib/python3.10/site-packages (from llama-index-core<0.11.0,>=0.10.30->llama-index) (0.27.0)\n",
      "Requirement already satisfied: llamaindex-py-client<0.2.0,>=0.1.18 in /home/charlie/.local/lib/python3.10/site-packages (from llama-index-core<0.11.0,>=0.10.30->llama-index) (0.1.18)\n",
      "Requirement already satisfied: nest-asyncio<2.0.0,>=1.5.8 in /home/charlie/.local/lib/python3.10/site-packages (from llama-index-core<0.11.0,>=0.10.30->llama-index) (1.6.0)\n",
      "Requirement already satisfied: networkx>=3.0 in /home/charlie/.local/lib/python3.10/site-packages (from llama-index-core<0.11.0,>=0.10.30->llama-index) (3.3)\n",
      "Requirement already satisfied: nltk<4.0.0,>=3.8.1 in /home/charlie/.local/lib/python3.10/site-packages (from llama-index-core<0.11.0,>=0.10.30->llama-index) (3.8.1)\n",
      "Requirement already satisfied: numpy in /home/charlie/.local/lib/python3.10/site-packages (from llama-index-core<0.11.0,>=0.10.30->llama-index) (1.26.4)\n",
      "Requirement already satisfied: pandas in /home/charlie/.local/lib/python3.10/site-packages (from llama-index-core<0.11.0,>=0.10.30->llama-index) (2.2.1)\n",
      "Requirement already satisfied: pillow>=9.0.0 in /home/charlie/.local/lib/python3.10/site-packages (from llama-index-core<0.11.0,>=0.10.30->llama-index) (10.3.0)\n",
      "Requirement already satisfied: requests>=2.31.0 in /home/charlie/.local/lib/python3.10/site-packages (from llama-index-core<0.11.0,>=0.10.30->llama-index) (2.31.0)\n",
      "Requirement already satisfied: tenacity<9.0.0,>=8.2.0 in /home/charlie/.local/lib/python3.10/site-packages (from llama-index-core<0.11.0,>=0.10.30->llama-index) (8.2.3)\n",
      "Requirement already satisfied: tiktoken>=0.3.3 in /home/charlie/.local/lib/python3.10/site-packages (from llama-index-core<0.11.0,>=0.10.30->llama-index) (0.6.0)\n",
      "Requirement already satisfied: tqdm<5.0.0,>=4.66.1 in /home/charlie/.local/lib/python3.10/site-packages (from llama-index-core<0.11.0,>=0.10.30->llama-index) (4.66.2)\n",
      "Requirement already satisfied: typing-extensions>=4.5.0 in /home/charlie/.local/lib/python3.10/site-packages (from llama-index-core<0.11.0,>=0.10.30->llama-index) (4.11.0)\n",
      "Requirement already satisfied: typing-inspect>=0.8.0 in /home/charlie/.local/lib/python3.10/site-packages (from llama-index-core<0.11.0,>=0.10.30->llama-index) (0.9.0)\n",
      "Requirement already satisfied: wrapt in /home/charlie/.local/lib/python3.10/site-packages (from llama-index-core<0.11.0,>=0.10.30->llama-index) (1.16.0)\n",
      "Requirement already satisfied: beautifulsoup4<5.0.0,>=4.12.3 in /home/charlie/.local/lib/python3.10/site-packages (from llama-index-readers-file<0.2.0,>=0.1.4->llama-index) (4.12.3)\n",
      "Requirement already satisfied: pypdf<5.0.0,>=4.0.1 in /home/charlie/.local/lib/python3.10/site-packages (from llama-index-readers-file<0.2.0,>=0.1.4->llama-index) (4.2.0)\n",
      "Requirement already satisfied: striprtf<0.0.27,>=0.0.26 in /home/charlie/.local/lib/python3.10/site-packages (from llama-index-readers-file<0.2.0,>=0.1.4->llama-index) (0.0.26)\n",
      "Requirement already satisfied: llama-parse<0.5.0,>=0.4.0 in /home/charlie/.local/lib/python3.10/site-packages (from llama-index-readers-llama-parse<0.2.0,>=0.1.2->llama-index) (0.4.1)\n",
      "Requirement already satisfied: aiosignal>=1.1.2 in /home/charlie/.local/lib/python3.10/site-packages (from aiohttp<4.0.0,>=3.8.6->llama-index-core<0.11.0,>=0.10.30->llama-index) (1.3.1)\n",
      "Requirement already satisfied: attrs>=17.3.0 in /home/charlie/.local/lib/python3.10/site-packages (from aiohttp<4.0.0,>=3.8.6->llama-index-core<0.11.0,>=0.10.30->llama-index) (23.2.0)\n",
      "Requirement already satisfied: frozenlist>=1.1.1 in /home/charlie/.local/lib/python3.10/site-packages (from aiohttp<4.0.0,>=3.8.6->llama-index-core<0.11.0,>=0.10.30->llama-index) (1.4.1)\n",
      "Requirement already satisfied: multidict<7.0,>=4.5 in /home/charlie/.local/lib/python3.10/site-packages (from aiohttp<4.0.0,>=3.8.6->llama-index-core<0.11.0,>=0.10.30->llama-index) (6.0.5)\n",
      "Requirement already satisfied: yarl<2.0,>=1.0 in /home/charlie/.local/lib/python3.10/site-packages (from aiohttp<4.0.0,>=3.8.6->llama-index-core<0.11.0,>=0.10.30->llama-index) (1.9.4)\n",
      "Requirement already satisfied: async-timeout<5.0,>=4.0 in /home/charlie/.local/lib/python3.10/site-packages (from aiohttp<4.0.0,>=3.8.6->llama-index-core<0.11.0,>=0.10.30->llama-index) (4.0.3)\n",
      "Requirement already satisfied: soupsieve>1.2 in /home/charlie/.local/lib/python3.10/site-packages (from beautifulsoup4<5.0.0,>=4.12.3->llama-index-readers-file<0.2.0,>=0.1.4->llama-index) (2.5)\n",
      "Requirement already satisfied: pydantic>=1.10 in /home/charlie/.local/lib/python3.10/site-packages (from llamaindex-py-client<0.2.0,>=0.1.18->llama-index-core<0.11.0,>=0.10.30->llama-index) (2.6.4)\n",
      "Requirement already satisfied: anyio in /home/charlie/.local/lib/python3.10/site-packages (from httpx->llama-index-core<0.11.0,>=0.10.30->llama-index) (4.3.0)\n",
      "Requirement already satisfied: certifi in /home/charlie/.local/lib/python3.10/site-packages (from httpx->llama-index-core<0.11.0,>=0.10.30->llama-index) (2024.2.2)\n",
      "Requirement already satisfied: httpcore==1.* in /home/charlie/.local/lib/python3.10/site-packages (from httpx->llama-index-core<0.11.0,>=0.10.30->llama-index) (1.0.5)\n",
      "Requirement already satisfied: idna in /home/charlie/.local/lib/python3.10/site-packages (from httpx->llama-index-core<0.11.0,>=0.10.30->llama-index) (3.6)\n",
      "Requirement already satisfied: sniffio in /home/charlie/.local/lib/python3.10/site-packages (from httpx->llama-index-core<0.11.0,>=0.10.30->llama-index) (1.3.1)\n",
      "Requirement already satisfied: h11<0.15,>=0.13 in /home/charlie/.local/lib/python3.10/site-packages (from httpcore==1.*->httpx->llama-index-core<0.11.0,>=0.10.30->llama-index) (0.14.0)\n",
      "Requirement already satisfied: click in /home/charlie/.local/lib/python3.10/site-packages (from nltk<4.0.0,>=3.8.1->llama-index-core<0.11.0,>=0.10.30->llama-index) (8.1.7)\n",
      "Requirement already satisfied: joblib in /home/charlie/.local/lib/python3.10/site-packages (from nltk<4.0.0,>=3.8.1->llama-index-core<0.11.0,>=0.10.30->llama-index) (1.4.0)\n",
      "Requirement already satisfied: regex>=2021.8.3 in /home/charlie/.local/lib/python3.10/site-packages (from nltk<4.0.0,>=3.8.1->llama-index-core<0.11.0,>=0.10.30->llama-index) (2023.12.25)\n",
      "Requirement already satisfied: distro<2,>=1.7.0 in /usr/lib/python3/dist-packages (from openai>=1.14.0->llama-index-agent-openai<0.3.0,>=0.1.4->llama-index) (1.7.0)\n",
      "Requirement already satisfied: charset-normalizer<4,>=2 in /home/charlie/.local/lib/python3.10/site-packages (from requests>=2.31.0->llama-index-core<0.11.0,>=0.10.30->llama-index) (3.3.2)\n",
      "Requirement already satisfied: urllib3<3,>=1.21.1 in /home/charlie/.local/lib/python3.10/site-packages (from requests>=2.31.0->llama-index-core<0.11.0,>=0.10.30->llama-index) (2.2.1)\n",
      "Requirement already satisfied: greenlet!=0.4.17 in /home/charlie/.local/lib/python3.10/site-packages (from SQLAlchemy>=1.4.49->SQLAlchemy[asyncio]>=1.4.49->llama-index-core<0.11.0,>=0.10.30->llama-index) (3.0.3)\n",
      "Requirement already satisfied: mypy-extensions>=0.3.0 in /home/charlie/.local/lib/python3.10/site-packages (from typing-inspect>=0.8.0->llama-index-core<0.11.0,>=0.10.30->llama-index) (1.0.0)\n",
      "Requirement already satisfied: marshmallow<4.0.0,>=3.18.0 in /home/charlie/.local/lib/python3.10/site-packages (from dataclasses-json->llama-index-core<0.11.0,>=0.10.30->llama-index) (3.21.1)\n",
      "Requirement already satisfied: python-dateutil>=2.8.2 in /home/charlie/.local/lib/python3.10/site-packages (from pandas->llama-index-core<0.11.0,>=0.10.30->llama-index) (2.9.0.post0)\n",
      "Requirement already satisfied: pytz>=2020.1 in /home/charlie/.local/lib/python3.10/site-packages (from pandas->llama-index-core<0.11.0,>=0.10.30->llama-index) (2024.1)\n",
      "Requirement already satisfied: tzdata>=2022.7 in /home/charlie/.local/lib/python3.10/site-packages (from pandas->llama-index-core<0.11.0,>=0.10.30->llama-index) (2024.1)\n",
      "Requirement already satisfied: exceptiongroup>=1.0.2 in /home/charlie/.local/lib/python3.10/site-packages (from anyio->httpx->llama-index-core<0.11.0,>=0.10.30->llama-index) (1.2.0)\n",
      "Requirement already satisfied: packaging>=17.0 in /home/charlie/.local/lib/python3.10/site-packages (from marshmallow<4.0.0,>=3.18.0->dataclasses-json->llama-index-core<0.11.0,>=0.10.30->llama-index) (24.0)\n",
      "Requirement already satisfied: annotated-types>=0.4.0 in /home/charlie/.local/lib/python3.10/site-packages (from pydantic>=1.10->llamaindex-py-client<0.2.0,>=0.1.18->llama-index-core<0.11.0,>=0.10.30->llama-index) (0.6.0)\n",
      "Requirement already satisfied: pydantic-core==2.16.3 in /home/charlie/.local/lib/python3.10/site-packages (from pydantic>=1.10->llamaindex-py-client<0.2.0,>=0.1.18->llama-index-core<0.11.0,>=0.10.30->llama-index) (2.16.3)\n",
      "Requirement already satisfied: six>=1.5 in /usr/lib/python3/dist-packages (from python-dateutil>=2.8.2->pandas->llama-index-core<0.11.0,>=0.10.30->llama-index) (1.16.0)\n",
      "Note: you may need to restart the kernel to use updated packages.\n"
     ]
    }
   ],
   "source": [
    "pip install llama-index"
   ]
  },
  {
   "cell_type": "code",
   "execution_count": 12,
   "metadata": {},
   "outputs": [],
   "source": [
    "import openai\n",
    "openai.api_key = "
   ]
  },
  {
   "cell_type": "code",
   "execution_count": 13,
   "metadata": {},
   "outputs": [],
   "source": [
    "from llama_index.readers.file.docs.base import Document\n",
    "from llama_index.core import VectorStoreIndex\n",
    "\n",
    "index = VectorStoreIndex([])\n",
    "for chunk in doc.chunks():\n",
    "    index.insert(Document(text=chunk.to_context_text(), extra_info={}))\n",
    "query_engine = index.as_query_engine()"
   ]
  },
  {
   "cell_type": "code",
   "execution_count": 14,
   "metadata": {},
   "outputs": [
    {
     "name": "stdout",
     "output_type": "stream",
     "text": [
      "text generation, comprehension tasks, abstractive dialogue, question answering, summarization\n"
     ]
    }
   ],
   "source": [
    "response = query_engine.query(\"list all the tasks that work with bart\")\n",
    "print(response)"
   ]
  },
  {
   "cell_type": "code",
   "execution_count": 15,
   "metadata": {},
   "outputs": [
    {
     "name": "stdout",
     "output_type": "stream",
     "text": [
      "88.8/94.6\n"
     ]
    }
   ],
   "source": [
    "response = query_engine.query(\"what is the bart performance score on squad\")\n",
    "print(response)"
   ]
  },
  {
   "cell_type": "markdown",
   "metadata": {},
   "source": [
    "Other links:\n",
    "https://docs.llamaindex.ai/en/stable/examples/vector_stores/SimpleIndexDemoLlama-Local/?h=vectorstoreindex\n",
    "https://huggingface.co/docs/transformers/model_doc/layoutlmv3\n",
    "https://camelot-py.readthedocs.io/en/master/\n",
    "https://replicate.com/awilliamson10/meta-nougat\n"
   ]
  }
 ],
 "metadata": {
  "kernelspec": {
   "display_name": "Python 3",
   "language": "python",
   "name": "python3"
  },
  "language_info": {
   "codemirror_mode": {
    "name": "ipython",
    "version": 3
   },
   "file_extension": ".py",
   "mimetype": "text/x-python",
   "name": "python",
   "nbconvert_exporter": "python",
   "pygments_lexer": "ipython3",
   "version": "3.10.12"
  }
 },
 "nbformat": 4,
 "nbformat_minor": 2
}
