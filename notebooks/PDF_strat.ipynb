{
 "cells": [
  {
   "cell_type": "markdown",
   "metadata": {},
   "source": [
    "This comes from https://github.com/nlmatics/llmsherpa"
   ]
  },
  {
   "cell_type": "code",
   "execution_count": 1,
   "metadata": {},
   "outputs": [
    {
     "name": "stdout",
     "output_type": "stream",
     "text": [
      "Collecting llmsherpa\n",
      "  Downloading llmsherpa-0.1.4-py3-none-any.whl.metadata (14 kB)\n",
      "Requirement already satisfied: urllib3 in /home/kaminaduck/code/ai-holodeck/venv/lib/python3.10/site-packages (from llmsherpa) (2.2.1)\n",
      "Downloading llmsherpa-0.1.4-py3-none-any.whl (13 kB)\n",
      "Installing collected packages: llmsherpa\n",
      "Successfully installed llmsherpa-0.1.4\n",
      "Note: you may need to restart the kernel to use updated packages.\n"
     ]
    }
   ],
   "source": [
    "pip install llmsherpa"
   ]
  },
  {
   "cell_type": "markdown",
   "metadata": {},
   "source": [
    "Local use of llmsherpa: https://github.com/nlmatics/nlm-ingestor\n",
    "Will have to wait until PR is merged because the port isn't exposed properly in the container"
   ]
  },
  {
   "cell_type": "code",
   "execution_count": 99,
   "metadata": {},
   "outputs": [],
   "source": [
    "from llmsherpa.readers import LayoutPDFReader, Block\n",
    "\n",
    "llmsherpa_api_url = \"https://readers.llmsherpa.com/api/document/developer/parseDocument?renderFormat=all&useNewIndentParser=yes\"\n",
    "#pdf_url = \"https://arxiv.org/pdf/1910.13461.pdf\" # also allowed is a file path e.g. /home/downloads/xyz.pdf\n",
    "#llmsherpa_api_url = \"http://localhost:5001/api/parseDocument?renderFormat=all&useNewIndentParser=yes\"\n",
    "pdf_url = \"../embed_docs/Player_s Handbook.pdf\"\n",
    "pdf_reader = LayoutPDFReader(parser_api_url=llmsherpa_api_url)\n",
    "doc = pdf_reader.read_pdf(pdf_url)\n"
   ]
  },
  {
   "cell_type": "code",
   "execution_count": null,
   "metadata": {},
   "outputs": [],
   "source": [
    "from pprint import pprint\n",
    "from IPython.core.display import HTML\n",
    "\n",
    "sections = doc.sections()\n",
    "selected_section = None\n",
    "\n",
    "for section in sections:\n",
    "    if section.title == 'PALADIN':\n",
    "        selected_section = section\n",
    "        break\n",
    "\n",
    "HTML(selected_section.to_html(include_children=True, recurse=True))\n"
   ]
  },
  {
   "cell_type": "code",
   "execution_count": 108,
   "metadata": {},
   "outputs": [
    {
     "name": "stdout",
     "output_type": "stream",
     "text": [
      "<llmsherpa.readers.layout_reader.Paragraph object at 0x7f06527618d0>\n"
     ]
    }
   ],
   "source": [
    "from llmsherpa.readers.layout_reader import ListItem,Block\n",
    "doc_chunks = doc.chunks()\n",
    "\n",
    "pprint(doc_chunks[441])"
   ]
  },
  {
   "cell_type": "code",
   "execution_count": 119,
   "metadata": {},
   "outputs": [
    {
     "ename": "TypeError",
     "evalue": "'Document' object is not iterable",
     "output_type": "error",
     "traceback": [
      "\u001b[0;31m---------------------------------------------------------------------------\u001b[0m",
      "\u001b[0;31mTypeError\u001b[0m                                 Traceback (most recent call last)",
      "Cell \u001b[0;32mIn[119], line 1\u001b[0m\n\u001b[0;32m----> 1\u001b[0m \u001b[38;5;28;01mfor\u001b[39;00m chunk \u001b[38;5;129;01min\u001b[39;00m doc:\n\u001b[1;32m      2\u001b[0m     pprint(Block(chunk)\u001b[38;5;241m.\u001b[39mto_context_text())\n",
      "\u001b[0;31mTypeError\u001b[0m: 'Document' object is not iterable"
     ]
    }
   ],
   "source": [
    "doc_dicts = []\n",
    "for chunk in doc:\n",
    "    Block(chunk)"
   ]
  },
  {
   "cell_type": "code",
   "execution_count": null,
   "metadata": {},
   "outputs": [],
   "source": [
    "pip install llama-index"
   ]
  },
  {
   "cell_type": "code",
   "execution_count": 5,
   "metadata": {},
   "outputs": [],
   "source": [
    "import openai\n",
    "openai.api_key = "
   ]
  },
  {
   "cell_type": "code",
   "execution_count": 6,
   "metadata": {},
   "outputs": [],
   "source": [
    "from llama_index.readers.file.docs.base import Document\n",
    "from llama_index.core import VectorStoreIndex\n",
    "\n",
    "index = VectorStoreIndex([])\n",
    "for chunk in doc.chunks():\n",
    "    index.insert(Document(text=chunk.to_context_text(), extra_info={}))\n",
    "query_engine = index.as_query_engine()"
   ]
  },
  {
   "cell_type": "code",
   "execution_count": 18,
   "metadata": {},
   "outputs": [
    {
     "name": "stdout",
     "output_type": "stream",
     "text": [
      "The domains associated with the god Vecna are Evil, Knowledge, and Magic.\n"
     ]
    }
   ],
   "source": [
    "response = query_engine.query(\"What are the domains of the god Vecna?\")\n",
    "print(response)"
   ]
  },
  {
   "cell_type": "code",
   "execution_count": 19,
   "metadata": {},
   "outputs": [
    {
     "name": "stdout",
     "output_type": "stream",
     "text": [
      "Common and Elven.\n"
     ]
    }
   ],
   "source": [
    "response = query_engine.query(\"What are the automatic languages of elves?\")\n",
    "print(response)"
   ]
  },
  {
   "cell_type": "markdown",
   "metadata": {},
   "source": [
    "Other links:\n",
    "https://docs.llamaindex.ai/en/stable/examples/vector_stores/SimpleIndexDemoLlama-Local/?h=vectorstoreindex\n",
    "https://huggingface.co/docs/transformers/model_doc/layoutlmv3\n",
    "https://camelot-py.readthedocs.io/en/master/\n",
    "https://replicate.com/awilliamson10/meta-nougat\n"
   ]
  }
 ],
 "metadata": {
  "kernelspec": {
   "display_name": "Python 3",
   "language": "python",
   "name": "python3"
  },
  "language_info": {
   "codemirror_mode": {
    "name": "ipython",
    "version": 3
   },
   "file_extension": ".py",
   "mimetype": "text/x-python",
   "name": "python",
   "nbconvert_exporter": "python",
   "pygments_lexer": "ipython3",
   "version": "3.10.12"
  }
 },
 "nbformat": 4,
 "nbformat_minor": 2
}
